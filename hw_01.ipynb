{
 "cells": [
  {
   "cell_type": "code",
   "execution_count": 1,
   "id": "3c09a93d",
   "metadata": {
    "vscode": {
     "languageId": "r"
    }
   },
   "outputs": [],
   "source": [
    "# load compustat_food_bev.csv\n",
    "data <- read.csv(\"compustat_food_bev.csv\")"
   ]
  },
  {
   "cell_type": "code",
   "execution_count": 23,
   "id": "4914d1a6",
   "metadata": {
    "vscode": {
     "languageId": "r"
    }
   },
   "outputs": [
    {
     "name": "stderr",
     "output_type": "stream",
     "text": [
      "\n",
      "Attaching package: ‘lubridate’\n",
      "\n",
      "\n",
      "The following objects are masked from ‘package:base’:\n",
      "\n",
      "    date, intersect, setdiff, union\n",
      "\n",
      "\n"
     ]
    }
   ],
   "source": [
    "library(dplyr)\n",
    "library(lubridate)"
   ]
  },
  {
   "cell_type": "code",
   "execution_count": 3,
   "id": "396be38b",
   "metadata": {
    "vscode": {
     "languageId": "r"
    }
   },
   "outputs": [
    {
     "data": {
      "text/html": [
       "<table class=\"dataframe\">\n",
       "<caption>A data.frame: 6 × 12</caption>\n",
       "<thead>\n",
       "\t<tr><th></th><th scope=col>GVKEY</th><th scope=col>iid</th><th scope=col>datadate</th><th scope=col>tic</th><th scope=col>conm</th><th scope=col>cshtrd</th><th scope=col>prccd</th><th scope=col>prchd</th><th scope=col>prcld</th><th scope=col>prcod</th><th scope=col>exchg</th><th scope=col>sic</th></tr>\n",
       "\t<tr><th></th><th scope=col>&lt;int&gt;</th><th scope=col>&lt;int&gt;</th><th scope=col>&lt;chr&gt;</th><th scope=col>&lt;chr&gt;</th><th scope=col>&lt;chr&gt;</th><th scope=col>&lt;int&gt;</th><th scope=col>&lt;dbl&gt;</th><th scope=col>&lt;dbl&gt;</th><th scope=col>&lt;dbl&gt;</th><th scope=col>&lt;dbl&gt;</th><th scope=col>&lt;int&gt;</th><th scope=col>&lt;int&gt;</th></tr>\n",
       "</thead>\n",
       "<tbody>\n",
       "\t<tr><th scope=row>1</th><td>186785</td><td>1</td><td>01/09/2020</td><td>ARCO</td><td>ARCOS DORADOS HOLDINGS INC</td><td> 813895</td><td>4.47</td><td>4.540</td><td>4.394</td><td>4.41</td><td>11</td><td>5812</td></tr>\n",
       "\t<tr><th scope=row>2</th><td>186785</td><td>1</td><td>02/09/2020</td><td>ARCO</td><td>ARCOS DORADOS HOLDINGS INC</td><td> 518021</td><td>4.48</td><td>4.522</td><td>4.400</td><td>4.49</td><td>11</td><td>5812</td></tr>\n",
       "\t<tr><th scope=row>3</th><td>186785</td><td>1</td><td>03/09/2020</td><td>ARCO</td><td>ARCOS DORADOS HOLDINGS INC</td><td> 947825</td><td>4.44</td><td>4.525</td><td>4.360</td><td>4.48</td><td>11</td><td>5812</td></tr>\n",
       "\t<tr><th scope=row>4</th><td>186785</td><td>1</td><td>04/09/2020</td><td>ARCO</td><td>ARCOS DORADOS HOLDINGS INC</td><td> 534286</td><td>4.41</td><td>4.490</td><td>4.280</td><td>4.48</td><td>11</td><td>5812</td></tr>\n",
       "\t<tr><th scope=row>5</th><td>186785</td><td>1</td><td>08/09/2020</td><td>ARCO</td><td>ARCOS DORADOS HOLDINGS INC</td><td> 669380</td><td>4.27</td><td>4.415</td><td>4.260</td><td>4.34</td><td>11</td><td>5812</td></tr>\n",
       "\t<tr><th scope=row>6</th><td>186785</td><td>1</td><td>09/09/2020</td><td>ARCO</td><td>ARCOS DORADOS HOLDINGS INC</td><td>1152416</td><td>4.38</td><td>4.420</td><td>4.270</td><td>4.27</td><td>11</td><td>5812</td></tr>\n",
       "</tbody>\n",
       "</table>\n"
      ],
      "text/latex": [
       "A data.frame: 6 × 12\n",
       "\\begin{tabular}{r|llllllllllll}\n",
       "  & GVKEY & iid & datadate & tic & conm & cshtrd & prccd & prchd & prcld & prcod & exchg & sic\\\\\n",
       "  & <int> & <int> & <chr> & <chr> & <chr> & <int> & <dbl> & <dbl> & <dbl> & <dbl> & <int> & <int>\\\\\n",
       "\\hline\n",
       "\t1 & 186785 & 1 & 01/09/2020 & ARCO & ARCOS DORADOS HOLDINGS INC &  813895 & 4.47 & 4.540 & 4.394 & 4.41 & 11 & 5812\\\\\n",
       "\t2 & 186785 & 1 & 02/09/2020 & ARCO & ARCOS DORADOS HOLDINGS INC &  518021 & 4.48 & 4.522 & 4.400 & 4.49 & 11 & 5812\\\\\n",
       "\t3 & 186785 & 1 & 03/09/2020 & ARCO & ARCOS DORADOS HOLDINGS INC &  947825 & 4.44 & 4.525 & 4.360 & 4.48 & 11 & 5812\\\\\n",
       "\t4 & 186785 & 1 & 04/09/2020 & ARCO & ARCOS DORADOS HOLDINGS INC &  534286 & 4.41 & 4.490 & 4.280 & 4.48 & 11 & 5812\\\\\n",
       "\t5 & 186785 & 1 & 08/09/2020 & ARCO & ARCOS DORADOS HOLDINGS INC &  669380 & 4.27 & 4.415 & 4.260 & 4.34 & 11 & 5812\\\\\n",
       "\t6 & 186785 & 1 & 09/09/2020 & ARCO & ARCOS DORADOS HOLDINGS INC & 1152416 & 4.38 & 4.420 & 4.270 & 4.27 & 11 & 5812\\\\\n",
       "\\end{tabular}\n"
      ],
      "text/markdown": [
       "\n",
       "A data.frame: 6 × 12\n",
       "\n",
       "| <!--/--> | GVKEY &lt;int&gt; | iid &lt;int&gt; | datadate &lt;chr&gt; | tic &lt;chr&gt; | conm &lt;chr&gt; | cshtrd &lt;int&gt; | prccd &lt;dbl&gt; | prchd &lt;dbl&gt; | prcld &lt;dbl&gt; | prcod &lt;dbl&gt; | exchg &lt;int&gt; | sic &lt;int&gt; |\n",
       "|---|---|---|---|---|---|---|---|---|---|---|---|---|\n",
       "| 1 | 186785 | 1 | 01/09/2020 | ARCO | ARCOS DORADOS HOLDINGS INC |  813895 | 4.47 | 4.540 | 4.394 | 4.41 | 11 | 5812 |\n",
       "| 2 | 186785 | 1 | 02/09/2020 | ARCO | ARCOS DORADOS HOLDINGS INC |  518021 | 4.48 | 4.522 | 4.400 | 4.49 | 11 | 5812 |\n",
       "| 3 | 186785 | 1 | 03/09/2020 | ARCO | ARCOS DORADOS HOLDINGS INC |  947825 | 4.44 | 4.525 | 4.360 | 4.48 | 11 | 5812 |\n",
       "| 4 | 186785 | 1 | 04/09/2020 | ARCO | ARCOS DORADOS HOLDINGS INC |  534286 | 4.41 | 4.490 | 4.280 | 4.48 | 11 | 5812 |\n",
       "| 5 | 186785 | 1 | 08/09/2020 | ARCO | ARCOS DORADOS HOLDINGS INC |  669380 | 4.27 | 4.415 | 4.260 | 4.34 | 11 | 5812 |\n",
       "| 6 | 186785 | 1 | 09/09/2020 | ARCO | ARCOS DORADOS HOLDINGS INC | 1152416 | 4.38 | 4.420 | 4.270 | 4.27 | 11 | 5812 |\n",
       "\n"
      ],
      "text/plain": [
       "  GVKEY  iid datadate   tic  conm                       cshtrd  prccd prchd\n",
       "1 186785 1   01/09/2020 ARCO ARCOS DORADOS HOLDINGS INC  813895 4.47  4.540\n",
       "2 186785 1   02/09/2020 ARCO ARCOS DORADOS HOLDINGS INC  518021 4.48  4.522\n",
       "3 186785 1   03/09/2020 ARCO ARCOS DORADOS HOLDINGS INC  947825 4.44  4.525\n",
       "4 186785 1   04/09/2020 ARCO ARCOS DORADOS HOLDINGS INC  534286 4.41  4.490\n",
       "5 186785 1   08/09/2020 ARCO ARCOS DORADOS HOLDINGS INC  669380 4.27  4.415\n",
       "6 186785 1   09/09/2020 ARCO ARCOS DORADOS HOLDINGS INC 1152416 4.38  4.420\n",
       "  prcld prcod exchg sic \n",
       "1 4.394 4.41  11    5812\n",
       "2 4.400 4.49  11    5812\n",
       "3 4.360 4.48  11    5812\n",
       "4 4.280 4.48  11    5812\n",
       "5 4.260 4.34  11    5812\n",
       "6 4.270 4.27  11    5812"
      ]
     },
     "metadata": {},
     "output_type": "display_data"
    }
   ],
   "source": [
    "# glimpse data\n",
    "head(data)"
   ]
  },
  {
   "cell_type": "markdown",
   "id": "d95e16d9",
   "metadata": {},
   "source": [
    "# SBUX: Features\n",
    "\n",
    "For the following four metrics, apply the formulas below to add these as new columns in your dataframe. When done, display in a table that contains only the dates column and these four new columns.\n",
    "\n",
    "1. Add a column with the daily return, calculated with the following formula:\n",
    "\n",
    "$$return_{daily} = \\frac{(close_t - close_{t-1})}{close_{t-1}}$$"
   ]
  },
  {
   "cell_type": "code",
   "execution_count": null,
   "id": "0724aed2",
   "metadata": {
    "vscode": {
     "languageId": "r"
    }
   },
   "outputs": [],
   "source": [
    "data_SBUX <- filter(data, tic == \"SBUX\")\n",
    "data_SBUX$return_daily <- (data_SBUX$prccd - lag(data_SBUX$prccd, 1)) / lag(data_SBUX$prccd, 1)"
   ]
  },
  {
   "cell_type": "markdown",
   "id": "274e2eec",
   "metadata": {},
   "source": [
    "2. Add a column with the 10-day momentum indicator, calculated with this formula:\n",
    "\n",
    "$$momentum_{10-day} = close_t - close_{t-10}$$"
   ]
  },
  {
   "cell_type": "code",
   "execution_count": null,
   "id": "43717be6",
   "metadata": {
    "vscode": {
     "languageId": "r"
    }
   },
   "outputs": [],
   "source": [
    "data_SBUX$momentumn_10_day <- data_SBUX$prccd - lag(data_SBUX$prccd,10)"
   ]
  },
  {
   "cell_type": "markdown",
   "id": "6a2ea71a",
   "metadata": {},
   "source": [
    "3. Add a column with the daily range, calculated with this formula:\n",
    "\n",
    "$$range_{daily} = high_t - low_t$$"
   ]
  },
  {
   "cell_type": "code",
   "execution_count": null,
   "id": "a628ca1f",
   "metadata": {
    "vscode": {
     "languageId": "r"
    }
   },
   "outputs": [],
   "source": [
    "data_SBUX$range_daily <- data_SBUX$prchd - data_SBUX$prcld"
   ]
  },
  {
   "cell_type": "markdown",
   "id": "493e6c0d",
   "metadata": {},
   "source": [
    "4. Add a column with the money flow volume indicator (MFV), calculated with this formula:\n",
    "\n",
    "$$MFV = \\frac{((close_t - low_t) - (high_t - close_t))}{(high_t - low_t)} \\times volume_t$$"
   ]
  },
  {
   "cell_type": "code",
   "execution_count": null,
   "id": "eb5bf175",
   "metadata": {
    "vscode": {
     "languageId": "r"
    }
   },
   "outputs": [],
   "source": [
    "data_SBUX$MFV <- ((data_SBUX$prccd - data_SBUX$prcld)-(data_SBUX$prchd - data_SBUX$prccd)/(data_SBUX$prchd-data_SBUX$prcld))*data_SBUX$cshtrd"
   ]
  },
  {
   "cell_type": "code",
   "execution_count": 26,
   "id": "69bc4042",
   "metadata": {
    "vscode": {
     "languageId": "r"
    }
   },
   "outputs": [],
   "source": [
    "data_SBUX$month <- month(data_SBUX$datadate)\n",
    "data_SBUX$year <- year(data_SBUX$datadate)"
   ]
  },
  {
   "cell_type": "code",
   "execution_count": 30,
   "id": "db427775",
   "metadata": {
    "vscode": {
     "languageId": "r"
    }
   },
   "outputs": [
    {
     "data": {
      "text/html": [
       "<table class=\"dataframe\">\n",
       "<caption>A data.frame: 0 × 18</caption>\n",
       "<thead>\n",
       "\t<tr><th scope=col>GVKEY</th><th scope=col>iid</th><th scope=col>datadate</th><th scope=col>tic</th><th scope=col>conm</th><th scope=col>cshtrd</th><th scope=col>prccd</th><th scope=col>prchd</th><th scope=col>prcld</th><th scope=col>prcod</th><th scope=col>exchg</th><th scope=col>sic</th><th scope=col>return_daily</th><th scope=col>momentumn_10_day</th><th scope=col>range_daily</th><th scope=col>MFV</th><th scope=col>month</th><th scope=col>year</th></tr>\n",
       "\t<tr><th scope=col>&lt;int&gt;</th><th scope=col>&lt;int&gt;</th><th scope=col>&lt;chr&gt;</th><th scope=col>&lt;chr&gt;</th><th scope=col>&lt;chr&gt;</th><th scope=col>&lt;int&gt;</th><th scope=col>&lt;dbl&gt;</th><th scope=col>&lt;dbl&gt;</th><th scope=col>&lt;dbl&gt;</th><th scope=col>&lt;dbl&gt;</th><th scope=col>&lt;int&gt;</th><th scope=col>&lt;int&gt;</th><th scope=col>&lt;dbl&gt;</th><th scope=col>&lt;dbl&gt;</th><th scope=col>&lt;dbl&gt;</th><th scope=col>&lt;dbl&gt;</th><th scope=col>&lt;dbl&gt;</th><th scope=col>&lt;dbl&gt;</th></tr>\n",
       "</thead>\n",
       "<tbody>\n",
       "</tbody>\n",
       "</table>\n"
      ],
      "text/latex": [
       "A data.frame: 0 × 18\n",
       "\\begin{tabular}{llllllllllllllllll}\n",
       " GVKEY & iid & datadate & tic & conm & cshtrd & prccd & prchd & prcld & prcod & exchg & sic & return\\_daily & momentumn\\_10\\_day & range\\_daily & MFV & month & year\\\\\n",
       " <int> & <int> & <chr> & <chr> & <chr> & <int> & <dbl> & <dbl> & <dbl> & <dbl> & <int> & <int> & <dbl> & <dbl> & <dbl> & <dbl> & <dbl> & <dbl>\\\\\n",
       "\\hline\n",
       "\\end{tabular}\n"
      ],
      "text/markdown": [
       "\n",
       "A data.frame: 0 × 18\n",
       "\n",
       "| GVKEY &lt;int&gt; | iid &lt;int&gt; | datadate &lt;chr&gt; | tic &lt;chr&gt; | conm &lt;chr&gt; | cshtrd &lt;int&gt; | prccd &lt;dbl&gt; | prchd &lt;dbl&gt; | prcld &lt;dbl&gt; | prcod &lt;dbl&gt; | exchg &lt;int&gt; | sic &lt;int&gt; | return_daily &lt;dbl&gt; | momentumn_10_day &lt;dbl&gt; | range_daily &lt;dbl&gt; | MFV &lt;dbl&gt; | month &lt;dbl&gt; | year &lt;dbl&gt; |\n",
       "|---|---|---|---|---|---|---|---|---|---|---|---|---|---|---|---|---|---|\n",
       "\n"
      ],
      "text/plain": [
       "     GVKEY iid datadate tic conm cshtrd prccd prchd prcld prcod exchg sic\n",
       "     return_daily momentumn_10_day range_daily MFV month year"
      ]
     },
     "metadata": {},
     "output_type": "display_data"
    }
   ],
   "source": [
    "filter(data_SBUX,  month == '6' & year == '2023')"
   ]
  },
  {
   "cell_type": "markdown",
   "id": "12364841",
   "metadata": {},
   "source": [
    "# WEN: Features\n",
    "\n",
    "For the following four metrics, apply the formulas below to add these as new columns in your dataframe. When done, display in a table that contains only the dates column and these four new columns.\n",
    "\n",
    "1. Add a column with the daily return, calculated with the following formula:\n",
    "\n",
    "$$return_{daily} = \\frac{(close_t - close_{t-1})}{close_{t-1}}$$"
   ]
  },
  {
   "cell_type": "code",
   "execution_count": 8,
   "id": "706be63b",
   "metadata": {
    "vscode": {
     "languageId": "r"
    }
   },
   "outputs": [],
   "source": [
    "data_WEN <- filter(data, tic == \"WEN\")\n",
    "data_WEN$return_daily <- (data_WEN$prccd - lag(data_WEN$prccd, 1)) / lag(data_WEN$prccd, 1)"
   ]
  },
  {
   "cell_type": "markdown",
   "id": "61f4211b",
   "metadata": {},
   "source": [
    "2. Add a column with the overinight return, calculated with the following formula:\n",
    "\n",
    "$$return_{overnight} = \\frac{(open_t - close_{t-1})}{close_{t-1}}$$"
   ]
  },
  {
   "cell_type": "code",
   "execution_count": 10,
   "id": "0f1f100a",
   "metadata": {
    "vscode": {
     "languageId": "r"
    }
   },
   "outputs": [],
   "source": [
    "data_WEN$return_overnight <- (data_WEN$prcod - lag(data_WEN$prccd, 1)) / lag(data_WEN$prccd, 1)"
   ]
  },
  {
   "cell_type": "markdown",
   "id": "ca861eca",
   "metadata": {},
   "source": [
    "3. Add a column with the volume change, calculated with the following formula:\n",
    "\n",
    "$$change_{volume} = volume_t - volume_{t-1}"
   ]
  },
  {
   "cell_type": "code",
   "execution_count": 12,
   "id": "8b416b06",
   "metadata": {
    "vscode": {
     "languageId": "r"
    }
   },
   "outputs": [],
   "source": [
    "data_WEN$volume_change <- data_WEN$cshtrd - lag(data_WEN$cshtrd, 1)"
   ]
  },
  {
   "cell_type": "markdown",
   "id": "8e016cb0",
   "metadata": {},
   "source": [
    "4. Add a column with the money flow volume indicator (MFV), calculated with this formula:\n",
    "\n",
    "$$MFV = \\frac{((close_t - low_t) - (high_t - close_t))}{(high_t - low_t)} \\times volume_t$$"
   ]
  },
  {
   "cell_type": "code",
   "execution_count": 14,
   "id": "e4aa7eef",
   "metadata": {
    "vscode": {
     "languageId": "r"
    }
   },
   "outputs": [],
   "source": [
    "data_WEN$MFV <- ((data_WEN$prccd - data_WEN$prcld)-(data_WEN$prchd - data_WEN$prccd)/(data_WEN$prchd-data_WEN$prcld))*data_WEN$cshtrd"
   ]
  },
  {
   "cell_type": "markdown",
   "id": "44d5272d",
   "metadata": {},
   "source": [
    "# PBPB: Features\n",
    "\n",
    "For the following four metrics, apply the formulas below to add these as new columns in your dataframe. When done, display in a table that contains only the dates column and these four new columns.\n",
    "\n",
    "1. Add a column with the daily return, calculated with the following formula:\n",
    "\n",
    "$$return_{daily} = \\frac{(close_t - close_{t-1})}{close_{t-1}}$$"
   ]
  },
  {
   "cell_type": "code",
   "execution_count": 16,
   "id": "e3a87862",
   "metadata": {
    "vscode": {
     "languageId": "r"
    }
   },
   "outputs": [],
   "source": [
    "data_PBPB <- filter(data, tic == \"PBPB\")\n",
    "data_PBPB$return_daily <- (data_PBPB$prccd - lag(data_PBPB$prccd, 1)) / lag(data_PBPB$prccd, 1)"
   ]
  },
  {
   "cell_type": "markdown",
   "id": "b5564aab",
   "metadata": {},
   "source": [
    "2. Add a column with the overinight return, calculated with the following formula:\n",
    "\n",
    "$$return_{overnight} = \\frac{(open_t - close_{t-1})}{close_{t-1}}$$"
   ]
  },
  {
   "cell_type": "code",
   "execution_count": 18,
   "id": "3e5a4d4e",
   "metadata": {
    "vscode": {
     "languageId": "r"
    }
   },
   "outputs": [],
   "source": [
    "data_PBPB$return_overnight <- (data_PBPB$prcod - lag(data_PBPB$prccd, 1)) / lag(data_PBPB$prccd, 1)"
   ]
  },
  {
   "cell_type": "markdown",
   "id": "67635495",
   "metadata": {},
   "source": [
    "3. Add a column with the close-open change, calculated with the following formula:\n",
    "\n",
    "$$change_{close-open} = close_t - open_t"
   ]
  },
  {
   "cell_type": "code",
   "execution_count": 19,
   "id": "664c6c89",
   "metadata": {
    "vscode": {
     "languageId": "r"
    }
   },
   "outputs": [],
   "source": [
    "data_PBPB$change_close_open <- data_PBPB$prccd - data_PBPB$prcod"
   ]
  },
  {
   "cell_type": "markdown",
   "id": "5e34d59a",
   "metadata": {},
   "source": [
    "4. Add a column with the money flow volume indicator (MFV), calculated with this formula:\n",
    "\n",
    "$$MFV = \\frac{((close_t - low_t) - (high_t - close_t))}{(high_t - low_t)} \\times volume_t$$"
   ]
  },
  {
   "cell_type": "code",
   "execution_count": 21,
   "id": "28f7175f",
   "metadata": {
    "vscode": {
     "languageId": "r"
    }
   },
   "outputs": [],
   "source": [
    "data_PBPB$MFV <- ((data_PBPB$prccd - data_PBPB$prcld)-(data_PBPB$prchd - data_PBPB$prccd)/(data_PBPB$prchd-data_PBPB$prcld))*data_PBPB$cshtrd"
   ]
  },
  {
   "cell_type": "code",
   "execution_count": null,
   "id": "1bdd9816",
   "metadata": {
    "vscode": {
     "languageId": "r"
    }
   },
   "outputs": [],
   "source": []
  }
 ],
 "metadata": {
  "kernelspec": {
   "display_name": "R",
   "language": "R",
   "name": "ir"
  },
  "language_info": {
   "codemirror_mode": "r",
   "file_extension": ".r",
   "mimetype": "text/x-r-source",
   "name": "R",
   "pygments_lexer": "r",
   "version": "4.3.3"
  }
 },
 "nbformat": 4,
 "nbformat_minor": 5
}
