{
 "cells": [
  {
   "cell_type": "markdown",
   "id": "ed972f03",
   "metadata": {},
   "source": [
    "---\n",
    "title: \"Application of R for Finance - Assignment 1\"\n",
    "subtitle: \"Data Analysis \"\n",
    "author: \"Group 30\"\n",
    "date: \"2025-09-27\"\n",
    "format: pdf\n",
    "---\n",
    "\\newpage\n",
    "\\tableofcontents\n",
    "\\listoffigures\n",
    "\\listoftables\n",
    "\\newpage"
   ]
  },
  {
   "cell_type": "markdown",
   "id": "2cf0059c",
   "metadata": {},
   "source": [
    "# Setup\n",
    "\n",
    "## Required libraries\n",
    "Load the following libraries for data analysis and visualization.\n"
   ]
  },
  {
   "cell_type": "code",
   "execution_count": 1,
   "id": "33328166",
   "metadata": {
    "vscode": {
     "languageId": "r"
    }
   },
   "outputs": [
    {
     "name": "stderr",
     "output_type": "stream",
     "text": [
      "\n",
      "Attaching package: ‘dplyr’\n",
      "\n",
      "\n",
      "The following objects are masked from ‘package:stats’:\n",
      "\n",
      "    filter, lag\n",
      "\n",
      "\n",
      "The following objects are masked from ‘package:base’:\n",
      "\n",
      "    intersect, setdiff, setequal, union\n",
      "\n",
      "\n",
      "\n",
      "Attaching package: ‘lubridate’\n",
      "\n",
      "\n",
      "The following objects are masked from ‘package:base’:\n",
      "\n",
      "    date, intersect, setdiff, union\n",
      "\n",
      "\n"
     ]
    }
   ],
   "source": [
    "library(dplyr)\n",
    "library(lubridate)"
   ]
  },
  {
   "cell_type": "markdown",
   "id": "c1696b85",
   "metadata": {},
   "source": [
    "## Data Frame\n",
    "\n",
    "Load the dataset **_compustat_food_bev.csv_** into a data frame.\n",
    "\n",
    "\n",
    "This dataset contains company identifiers, trading information, and classification codes.\n",
    "\n",
    "Table below summarises the main variables.\n",
    "\n",
    "| Symbol  | Full Name                        | Description                                         |\n",
    "|---------|----------------------------------|-----------------------------------------------------|\n",
    "| GVKEY   | Global Company Key               | Unique number assigned to each company in Compustat |\n",
    "| iid     | Issue Identifier                 | Code for specific security of a company             |\n",
    "| datadate| Data Date                        | Date of the trading record.                         |\n",
    "| tic     | Ticker Symbol                    | Stock ticker symbol of the company                  |\n",
    "| conm    | Company Name                     | Official registered name of the company             |\n",
    "| cshtrd  | Shares Traded                    | Number of shares traded during the day              |\n",
    "| prccd   | Closing Price                    | Daily closing price of the security.                |\n",
    "| prchd   | High Price                       | Daily highest trading price of the security         |\n",
    "| prcld   | Low Price                        | Daily lowest trading price of the security          |\n",
    "| prcod   | Opening Price                    | Daily opening price of the security                 |\n",
    "| exchg   | Exchange Code                    | Code for stock exchange listing                     |\n",
    "| sic     | Standard Industrial Classification | Code for primary business industry                  |"
   ]
  },
  {
   "cell_type": "code",
   "execution_count": 2,
   "id": "3c09a93d",
   "metadata": {
    "vscode": {
     "languageId": "r"
    }
   },
   "outputs": [],
   "source": [
    "# load the data\n",
    "data <- read.csv(\"compustat_food_bev.csv\")"
   ]
  },
  {
   "cell_type": "code",
   "execution_count": 3,
   "id": "396be38b",
   "metadata": {
    "vscode": {
     "languageId": "r"
    }
   },
   "outputs": [
    {
     "data": {
      "text/html": [
       "<table class=\"dataframe\">\n",
       "<caption>A data.frame: 6 × 12</caption>\n",
       "<thead>\n",
       "\t<tr><th></th><th scope=col>GVKEY</th><th scope=col>iid</th><th scope=col>datadate</th><th scope=col>tic</th><th scope=col>conm</th><th scope=col>cshtrd</th><th scope=col>prccd</th><th scope=col>prchd</th><th scope=col>prcld</th><th scope=col>prcod</th><th scope=col>exchg</th><th scope=col>sic</th></tr>\n",
       "\t<tr><th></th><th scope=col>&lt;int&gt;</th><th scope=col>&lt;int&gt;</th><th scope=col>&lt;chr&gt;</th><th scope=col>&lt;chr&gt;</th><th scope=col>&lt;chr&gt;</th><th scope=col>&lt;int&gt;</th><th scope=col>&lt;dbl&gt;</th><th scope=col>&lt;dbl&gt;</th><th scope=col>&lt;dbl&gt;</th><th scope=col>&lt;dbl&gt;</th><th scope=col>&lt;int&gt;</th><th scope=col>&lt;int&gt;</th></tr>\n",
       "</thead>\n",
       "<tbody>\n",
       "\t<tr><th scope=row>1</th><td>186785</td><td>1</td><td>01/09/2020</td><td>ARCO</td><td>ARCOS DORADOS HOLDINGS INC</td><td> 813895</td><td>4.47</td><td>4.540</td><td>4.394</td><td>4.41</td><td>11</td><td>5812</td></tr>\n",
       "\t<tr><th scope=row>2</th><td>186785</td><td>1</td><td>02/09/2020</td><td>ARCO</td><td>ARCOS DORADOS HOLDINGS INC</td><td> 518021</td><td>4.48</td><td>4.522</td><td>4.400</td><td>4.49</td><td>11</td><td>5812</td></tr>\n",
       "\t<tr><th scope=row>3</th><td>186785</td><td>1</td><td>03/09/2020</td><td>ARCO</td><td>ARCOS DORADOS HOLDINGS INC</td><td> 947825</td><td>4.44</td><td>4.525</td><td>4.360</td><td>4.48</td><td>11</td><td>5812</td></tr>\n",
       "\t<tr><th scope=row>4</th><td>186785</td><td>1</td><td>04/09/2020</td><td>ARCO</td><td>ARCOS DORADOS HOLDINGS INC</td><td> 534286</td><td>4.41</td><td>4.490</td><td>4.280</td><td>4.48</td><td>11</td><td>5812</td></tr>\n",
       "\t<tr><th scope=row>5</th><td>186785</td><td>1</td><td>08/09/2020</td><td>ARCO</td><td>ARCOS DORADOS HOLDINGS INC</td><td> 669380</td><td>4.27</td><td>4.415</td><td>4.260</td><td>4.34</td><td>11</td><td>5812</td></tr>\n",
       "\t<tr><th scope=row>6</th><td>186785</td><td>1</td><td>09/09/2020</td><td>ARCO</td><td>ARCOS DORADOS HOLDINGS INC</td><td>1152416</td><td>4.38</td><td>4.420</td><td>4.270</td><td>4.27</td><td>11</td><td>5812</td></tr>\n",
       "</tbody>\n",
       "</table>\n"
      ],
      "text/latex": [
       "A data.frame: 6 × 12\n",
       "\\begin{tabular}{r|llllllllllll}\n",
       "  & GVKEY & iid & datadate & tic & conm & cshtrd & prccd & prchd & prcld & prcod & exchg & sic\\\\\n",
       "  & <int> & <int> & <chr> & <chr> & <chr> & <int> & <dbl> & <dbl> & <dbl> & <dbl> & <int> & <int>\\\\\n",
       "\\hline\n",
       "\t1 & 186785 & 1 & 01/09/2020 & ARCO & ARCOS DORADOS HOLDINGS INC &  813895 & 4.47 & 4.540 & 4.394 & 4.41 & 11 & 5812\\\\\n",
       "\t2 & 186785 & 1 & 02/09/2020 & ARCO & ARCOS DORADOS HOLDINGS INC &  518021 & 4.48 & 4.522 & 4.400 & 4.49 & 11 & 5812\\\\\n",
       "\t3 & 186785 & 1 & 03/09/2020 & ARCO & ARCOS DORADOS HOLDINGS INC &  947825 & 4.44 & 4.525 & 4.360 & 4.48 & 11 & 5812\\\\\n",
       "\t4 & 186785 & 1 & 04/09/2020 & ARCO & ARCOS DORADOS HOLDINGS INC &  534286 & 4.41 & 4.490 & 4.280 & 4.48 & 11 & 5812\\\\\n",
       "\t5 & 186785 & 1 & 08/09/2020 & ARCO & ARCOS DORADOS HOLDINGS INC &  669380 & 4.27 & 4.415 & 4.260 & 4.34 & 11 & 5812\\\\\n",
       "\t6 & 186785 & 1 & 09/09/2020 & ARCO & ARCOS DORADOS HOLDINGS INC & 1152416 & 4.38 & 4.420 & 4.270 & 4.27 & 11 & 5812\\\\\n",
       "\\end{tabular}\n"
      ],
      "text/markdown": [
       "\n",
       "A data.frame: 6 × 12\n",
       "\n",
       "| <!--/--> | GVKEY &lt;int&gt; | iid &lt;int&gt; | datadate &lt;chr&gt; | tic &lt;chr&gt; | conm &lt;chr&gt; | cshtrd &lt;int&gt; | prccd &lt;dbl&gt; | prchd &lt;dbl&gt; | prcld &lt;dbl&gt; | prcod &lt;dbl&gt; | exchg &lt;int&gt; | sic &lt;int&gt; |\n",
       "|---|---|---|---|---|---|---|---|---|---|---|---|---|\n",
       "| 1 | 186785 | 1 | 01/09/2020 | ARCO | ARCOS DORADOS HOLDINGS INC |  813895 | 4.47 | 4.540 | 4.394 | 4.41 | 11 | 5812 |\n",
       "| 2 | 186785 | 1 | 02/09/2020 | ARCO | ARCOS DORADOS HOLDINGS INC |  518021 | 4.48 | 4.522 | 4.400 | 4.49 | 11 | 5812 |\n",
       "| 3 | 186785 | 1 | 03/09/2020 | ARCO | ARCOS DORADOS HOLDINGS INC |  947825 | 4.44 | 4.525 | 4.360 | 4.48 | 11 | 5812 |\n",
       "| 4 | 186785 | 1 | 04/09/2020 | ARCO | ARCOS DORADOS HOLDINGS INC |  534286 | 4.41 | 4.490 | 4.280 | 4.48 | 11 | 5812 |\n",
       "| 5 | 186785 | 1 | 08/09/2020 | ARCO | ARCOS DORADOS HOLDINGS INC |  669380 | 4.27 | 4.415 | 4.260 | 4.34 | 11 | 5812 |\n",
       "| 6 | 186785 | 1 | 09/09/2020 | ARCO | ARCOS DORADOS HOLDINGS INC | 1152416 | 4.38 | 4.420 | 4.270 | 4.27 | 11 | 5812 |\n",
       "\n"
      ],
      "text/plain": [
       "  GVKEY  iid datadate   tic  conm                       cshtrd  prccd prchd\n",
       "1 186785 1   01/09/2020 ARCO ARCOS DORADOS HOLDINGS INC  813895 4.47  4.540\n",
       "2 186785 1   02/09/2020 ARCO ARCOS DORADOS HOLDINGS INC  518021 4.48  4.522\n",
       "3 186785 1   03/09/2020 ARCO ARCOS DORADOS HOLDINGS INC  947825 4.44  4.525\n",
       "4 186785 1   04/09/2020 ARCO ARCOS DORADOS HOLDINGS INC  534286 4.41  4.490\n",
       "5 186785 1   08/09/2020 ARCO ARCOS DORADOS HOLDINGS INC  669380 4.27  4.415\n",
       "6 186785 1   09/09/2020 ARCO ARCOS DORADOS HOLDINGS INC 1152416 4.38  4.420\n",
       "  prcld prcod exchg sic \n",
       "1 4.394 4.41  11    5812\n",
       "2 4.400 4.49  11    5812\n",
       "3 4.360 4.48  11    5812\n",
       "4 4.280 4.48  11    5812\n",
       "5 4.260 4.34  11    5812\n",
       "6 4.270 4.27  11    5812"
      ]
     },
     "metadata": {},
     "output_type": "display_data"
    }
   ],
   "source": [
    "# inspect the strucutre\n",
    "head(data)"
   ]
  },
  {
   "cell_type": "markdown",
   "id": "d716aaee",
   "metadata": {},
   "source": [
    "# **Part 1 - Features**\n",
    "\n",
    "## Indicators Definition\n",
    "\n",
    "Key indicators used across companies are defined below.\n",
    "\n",
    "* **Daily Return:**\n",
    "The percentage change in the value from the previous day, reflecting daily profitability and price variation.\n",
    "$$\n",
    "return_{daily} = \\frac{(close_t - close_{t-1})}{close_{t-1}}\n",
    "$$\n",
    "\n",
    "* **Overnight Return:**\n",
    "The percentage change from the previous day’s close to the current day’s open, measuring price adjustments that occur outside of trading hours.\n",
    "$$\n",
    "return_{overnight} = \\frac{(open_t - close_{t-1})}{close_{t-1}}\n",
    "$$\n",
    "\n",
    "* **10-Day Momentum Indicator:**\n",
    "The difference between today's closing price and 10 days ago from the last closing price, tracking short-term trend strength.\n",
    "$$\n",
    "momentum_{10\\text{-}day} = close_t - close_{t-10}\n",
    "$$\n",
    "\n",
    "* **Daily Range:**\n",
    "The difference between the daily high and low prices,representing intraday volatility.\n",
    "$$\n",
    "range_{daily} = high_t - low_t\n",
    "$$\n",
    "\n",
    "* **Volume Change:**\n",
    "The difference in trading volume compared to the previous day, showing Shows in trading activity.\n",
    "$$\n",
    "change_{volume} = volume_t - volume_{t-1}\n",
    "$$\n",
    "\n",
    "* **Close-Open Change:**\n",
    "The difference between the daily closing price and the opening price, indicating intraday price direction.\n",
    "$$\n",
    "change_{close-open} = close_t - open_t\n",
    "$$\n",
    "\n",
    "* **Money Flow Volume Indicator (MFV):**\n",
    "The flow of the money into and out of the security, estimating buying or selling pressure.\n",
    "$$\n",
    "MFV = \\frac{((close_t - low_t) - (high_t - close_t))}{(high_t - low_t)} \\times volume_t\n",
    "$$\n"
   ]
  },
  {
   "cell_type": "markdown",
   "id": "4dffa5b6",
   "metadata": {},
   "source": [
    "## Company Analysis\n",
    "\n",
    "First, each company calculates a subset of four of the above measures, as specified in the assignment brief.\n",
    "\n",
    "Next, additional features are derived from time-based information. After extracting the month and year from the trading date, indicator performance over specific periods is calculated and key dates associated with extreme values are identified.\n",
    "\n",
    "### SBUX (Starbucks)"
   ]
  },
  {
   "cell_type": "code",
   "execution_count": null,
   "id": "0724aed2",
   "metadata": {
    "vscode": {
     "languageId": "r"
    }
   },
   "outputs": [],
   "source": [
    "# subset SBUX\n",
    "data_SBUX <- filter(data, tic == \"SBUX\")\n",
    "\n",
    "# calculate indicators\n",
    "data_SBUX$return_daily <- (data_SBUX$prccd - lag(data_SBUX$prccd, 1)) / lag(data_SBUX$prccd, 1)\n",
    "data_SBUX$momentumn_10_day <- data_SBUX$prccd - lag(data_SBUX$prccd,10)\n",
    "data_SBUX$range_daily <- data_SBUX$prchd - data_SBUX$prcld\n",
    "data_SBUX$MFV <- ((data_SBUX$prccd - data_SBUX$prcld)-(data_SBUX$prchd - data_SBUX$prccd)/(data_SBUX$prchd-data_SBUX$prcld))*data_SBUX$cshtrd\n",
    "\n",
    "# display results\n",
    "\n"
   ]
  },
  {
   "cell_type": "code",
   "execution_count": null,
   "id": "69bc4042",
   "metadata": {
    "vscode": {
     "languageId": "r"
    }
   },
   "outputs": [],
   "source": [
    "# indicate month and year\n",
    "data_SBUX$month <- month(data_SBUX$datadate)\n",
    "data_SBUX$year <- year(data_SBUX$datadate)"
   ]
  },
  {
   "cell_type": "code",
   "execution_count": null,
   "id": "db427775",
   "metadata": {
    "vscode": {
     "languageId": "r"
    }
   },
   "outputs": [
    {
     "data": {
      "text/html": [
       "<table class=\"dataframe\">\n",
       "<caption>A data.frame: 0 × 18</caption>\n",
       "<thead>\n",
       "\t<tr><th scope=col>GVKEY</th><th scope=col>iid</th><th scope=col>datadate</th><th scope=col>tic</th><th scope=col>conm</th><th scope=col>cshtrd</th><th scope=col>prccd</th><th scope=col>prchd</th><th scope=col>prcld</th><th scope=col>prcod</th><th scope=col>exchg</th><th scope=col>sic</th><th scope=col>return_daily</th><th scope=col>momentumn_10_day</th><th scope=col>range_daily</th><th scope=col>MFV</th><th scope=col>month</th><th scope=col>year</th></tr>\n",
       "\t<tr><th scope=col>&lt;int&gt;</th><th scope=col>&lt;int&gt;</th><th scope=col>&lt;chr&gt;</th><th scope=col>&lt;chr&gt;</th><th scope=col>&lt;chr&gt;</th><th scope=col>&lt;int&gt;</th><th scope=col>&lt;dbl&gt;</th><th scope=col>&lt;dbl&gt;</th><th scope=col>&lt;dbl&gt;</th><th scope=col>&lt;dbl&gt;</th><th scope=col>&lt;int&gt;</th><th scope=col>&lt;int&gt;</th><th scope=col>&lt;dbl&gt;</th><th scope=col>&lt;dbl&gt;</th><th scope=col>&lt;dbl&gt;</th><th scope=col>&lt;dbl&gt;</th><th scope=col>&lt;dbl&gt;</th><th scope=col>&lt;dbl&gt;</th></tr>\n",
       "</thead>\n",
       "<tbody>\n",
       "</tbody>\n",
       "</table>\n"
      ],
      "text/latex": [
       "A data.frame: 0 × 18\n",
       "\\begin{tabular}{llllllllllllllllll}\n",
       " GVKEY & iid & datadate & tic & conm & cshtrd & prccd & prchd & prcld & prcod & exchg & sic & return\\_daily & momentumn\\_10\\_day & range\\_daily & MFV & month & year\\\\\n",
       " <int> & <int> & <chr> & <chr> & <chr> & <int> & <dbl> & <dbl> & <dbl> & <dbl> & <int> & <int> & <dbl> & <dbl> & <dbl> & <dbl> & <dbl> & <dbl>\\\\\n",
       "\\hline\n",
       "\\end{tabular}\n"
      ],
      "text/markdown": [
       "\n",
       "A data.frame: 0 × 18\n",
       "\n",
       "| GVKEY &lt;int&gt; | iid &lt;int&gt; | datadate &lt;chr&gt; | tic &lt;chr&gt; | conm &lt;chr&gt; | cshtrd &lt;int&gt; | prccd &lt;dbl&gt; | prchd &lt;dbl&gt; | prcld &lt;dbl&gt; | prcod &lt;dbl&gt; | exchg &lt;int&gt; | sic &lt;int&gt; | return_daily &lt;dbl&gt; | momentumn_10_day &lt;dbl&gt; | range_daily &lt;dbl&gt; | MFV &lt;dbl&gt; | month &lt;dbl&gt; | year &lt;dbl&gt; |\n",
       "|---|---|---|---|---|---|---|---|---|---|---|---|---|---|---|---|---|---|\n",
       "\n"
      ],
      "text/plain": [
       "     GVKEY iid datadate tic conm cshtrd prccd prchd prcld prcod exchg sic\n",
       "     return_daily momentumn_10_day range_daily MFV month year"
      ]
     },
     "metadata": {},
     "output_type": "display_data"
    }
   ],
   "source": [
    "# total trading volume in June 2023\n",
    "filter(data_SBUX,  month == '6' & year == '2023')\n",
    "\n",
    "# mean daily return over the entire period\n",
    "\n",
    "# date with the largest positive high price\n",
    "\n",
    "# date with the largest positive daily return"
   ]
  },
  {
   "cell_type": "markdown",
   "id": "f0ca8eee",
   "metadata": {},
   "source": [
    "### WEN (Wendy's)"
   ]
  },
  {
   "cell_type": "code",
   "execution_count": null,
   "id": "706be63b",
   "metadata": {
    "vscode": {
     "languageId": "r"
    }
   },
   "outputs": [],
   "source": [
    "# subset WEN\n",
    "data_WEN <- filter(data, tic == \"WEN\")\n",
    "\n",
    "# calculate indicators\n",
    "data_WEN$return_daily <- (data_WEN$prccd - lag(data_WEN$prccd, 1)) / lag(data_WEN$prccd, 1)\n",
    "data_WEN$return_overnight <- (data_WEN$prcod - lag(data_WEN$prccd, 1)) / lag(data_WEN$prccd, 1)\n",
    "data_WEN$volume_change <- data_WEN$cshtrd - lag(data_WEN$cshtrd, 1)\n",
    "data_WEN$MFV <- ((data_WEN$prccd - data_WEN$prcld)-(data_WEN$prchd - data_WEN$prccd)/(data_WEN$prchd-data_WEN$prcld))*data_WEN$cshtrd\n",
    "\n",
    "# display results"
   ]
  },
  {
   "cell_type": "code",
   "execution_count": null,
   "id": "5da183c2",
   "metadata": {
    "vscode": {
     "languageId": "r"
    }
   },
   "outputs": [],
   "source": [
    "# indicate month and year\n",
    "data_WEN$month <- month(data_WEN$datadate)\n",
    "data_WEN$year <- year(data_WEN$datadate)"
   ]
  },
  {
   "cell_type": "code",
   "execution_count": null,
   "id": "abce1288",
   "metadata": {
    "vscode": {
     "languageId": "r"
    }
   },
   "outputs": [],
   "source": [
    "# total trading volume in June 2023\n",
    "\n",
    "# mean daily return over the entire period\n",
    "\n",
    "# date with the largest positive high price\n",
    "\n",
    "# date with the largest positive daily return"
   ]
  },
  {
   "cell_type": "markdown",
   "id": "44d5272d",
   "metadata": {},
   "source": [
    "### PBPB (Potbelly)"
   ]
  },
  {
   "cell_type": "code",
   "execution_count": null,
   "id": "e3a87862",
   "metadata": {
    "vscode": {
     "languageId": "r"
    }
   },
   "outputs": [],
   "source": [
    "# subset PBPB\n",
    "data_PBPB <- filter(data, tic == \"PBPB\")\n",
    "\n",
    "# calculate indicators\n",
    "data_PBPB$return_daily <- (data_PBPB$prccd - lag(data_PBPB$prccd, 1)) / lag(data_PBPB$prccd, 1)\n",
    "data_PBPB$return_overnight <- (data_PBPB$prcod - lag(data_PBPB$prccd, 1)) / lag(data_PBPB$prccd, 1)\n",
    "data_PBPB$change_close_open <- data_PBPB$prccd - data_PBPB$prcod\n",
    "data_PBPB$MFV <- ((data_PBPB$prccd - data_PBPB$prcld)-(data_PBPB$prchd - data_PBPB$prccd)/(data_PBPB$prchd-data_PBPB$prcld))*data_PBPB$cshtrd\n",
    "\n",
    "# display results"
   ]
  },
  {
   "cell_type": "code",
   "execution_count": null,
   "id": "cc03d170",
   "metadata": {
    "vscode": {
     "languageId": "r"
    }
   },
   "outputs": [],
   "source": [
    "# indicate month and year"
   ]
  },
  {
   "cell_type": "code",
   "execution_count": null,
   "id": "7c41204a",
   "metadata": {
    "vscode": {
     "languageId": "r"
    }
   },
   "outputs": [],
   "source": [
    "# total trading volume in June 2023\n",
    "\n",
    "# mean daily return over the entire period\n",
    "\n",
    "# date with the largest positive high price\n",
    "\n",
    "# date with the largest positive daily return"
   ]
  },
  {
   "cell_type": "markdown",
   "id": "4b6a6079",
   "metadata": {},
   "source": [
    "### Another"
   ]
  },
  {
   "cell_type": "code",
   "execution_count": null,
   "id": "cd0f61c2",
   "metadata": {
    "vscode": {
     "languageId": "r"
    }
   },
   "outputs": [],
   "source": [
    "# subset Another\n",
    "\n",
    "# calculate indicators\n",
    "\n",
    "# display results\n"
   ]
  },
  {
   "cell_type": "code",
   "execution_count": null,
   "id": "3ce7f112",
   "metadata": {
    "vscode": {
     "languageId": "r"
    }
   },
   "outputs": [],
   "source": [
    "# indicate month and year"
   ]
  },
  {
   "cell_type": "code",
   "execution_count": null,
   "id": "be8ac70c",
   "metadata": {
    "vscode": {
     "languageId": "r"
    }
   },
   "outputs": [],
   "source": [
    "# total trading volume in June 2023\n",
    "\n",
    "# mean daily return over the entire period\n",
    "\n",
    "# date with the largest positive high price\n",
    "\n",
    "# date with the largest positive daily return"
   ]
  },
  {
   "cell_type": "markdown",
   "id": "d2002c10",
   "metadata": {},
   "source": [
    "## Summary"
   ]
  }
 ],
 "metadata": {
  "kernelspec": {
   "display_name": "R",
   "language": "R",
   "name": "ir"
  },
  "language_info": {
   "codemirror_mode": "r",
   "file_extension": ".r",
   "mimetype": "text/x-r-source",
   "name": "R",
   "pygments_lexer": "r",
   "version": "4.3.3"
  }
 },
 "nbformat": 4,
 "nbformat_minor": 5
}
