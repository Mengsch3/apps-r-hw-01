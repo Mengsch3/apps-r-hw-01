{
 "cells": [
  {
   "cell_type": "markdown",
   "id": "45c5c98c",
   "metadata": {},
   "source": [
    "---\n",
    "title: \"Application of R for Finance - Assignment 2\"\n",
    "subtitle: \"Stocks Return Analysis and Fama-French 3 Model\"\n",
    "author: Group 30 \n",
    "date: \"17 October 2025\"\n",
    "institute: \"Imperial Business School\"\n",
    "format:\n",
    "  pdf:\n",
    "    fig-cap-location: top\n",
    "    include-in-header:\n",
    "      text: |\n",
    "        \\usepackage[labelfont=bf,textfont=bf]{caption}   \n",
    "execute:\n",
    "  warning: false\n",
    "  message: false\n",
    "---\n",
    "\\newpage\n",
    "\\tableofcontents\n",
    "\\listoffigures\n",
    "\\newpage"
   ]
  },
  {
   "cell_type": "markdown",
   "id": "57f05745",
   "metadata": {},
   "source": [
    "# **Data Preparation**\n",
    "\n",
    "## Required libraries\n",
    "Load the following libraries for data analysis and visualisation.\n"
   ]
  },
  {
   "cell_type": "code",
   "execution_count": 27,
   "id": "f7c709e6",
   "metadata": {
    "vscode": {
     "languageId": "r"
    }
   },
   "outputs": [],
   "source": [
    "library(dplyr)\n",
    "library(lubridate)\n",
    "library(ggplot2)"
   ]
  },
  {
   "cell_type": "markdown",
   "id": "9ad5db7f",
   "metadata": {},
   "source": [
    "## Data Frame\n",
    "\n",
    "Load the dataset **sp500_2023_2024.csv** into a data frame.\n",
    "\n",
    "This dataset contains company identifiers, trading information, and classification codes. List below summarises the main variables."
   ]
  },
  {
   "cell_type": "code",
   "execution_count": 28,
   "id": "fac2bba9",
   "metadata": {
    "vscode": {
     "languageId": "r"
    }
   },
   "outputs": [],
   "source": [
    "# load the data\n",
    "data <- read.csv(\"sp500_2023_2024.csv\")"
   ]
  },
  {
   "cell_type": "code",
   "execution_count": 29,
   "id": "1c3b9e92",
   "metadata": {
    "vscode": {
     "languageId": "r"
    }
   },
   "outputs": [],
   "source": [
    "# remove any rows with NA values in the prcod column\n",
    "data <- data %>%\n",
    "  filter(!is.na(prcod))"
   ]
  },
  {
   "cell_type": "code",
   "execution_count": 30,
   "id": "a6ed4cd4",
   "metadata": {
    "vscode": {
     "languageId": "r"
    }
   },
   "outputs": [
    {
     "data": {
      "text/html": [
       "<table class=\"dataframe\">\n",
       "<caption>A data.frame: 6 × 11</caption>\n",
       "<thead>\n",
       "\t<tr><th></th><th scope=col>tic</th><th scope=col>datadate</th><th scope=col>conm</th><th scope=col>exchg</th><th scope=col>sic</th><th scope=col>cshtrd</th><th scope=col>prccd</th><th scope=col>prchd</th><th scope=col>prcld</th><th scope=col>prcod</th><th scope=col>gvkey</th></tr>\n",
       "\t<tr><th></th><th scope=col>&lt;chr&gt;</th><th scope=col>&lt;chr&gt;</th><th scope=col>&lt;chr&gt;</th><th scope=col>&lt;int&gt;</th><th scope=col>&lt;int&gt;</th><th scope=col>&lt;dbl&gt;</th><th scope=col>&lt;dbl&gt;</th><th scope=col>&lt;dbl&gt;</th><th scope=col>&lt;dbl&gt;</th><th scope=col>&lt;dbl&gt;</th><th scope=col>&lt;int&gt;</th></tr>\n",
       "</thead>\n",
       "<tbody>\n",
       "\t<tr><th scope=row>1</th><td>PNW</td><td>03/01/2023</td><td>PINNACLE WEST CAPITAL CORP</td><td>11</td><td>4911</td><td>1442534</td><td>74.63</td><td>76.4125</td><td>73.380</td><td>76.25</td><td>1075</td></tr>\n",
       "\t<tr><th scope=row>2</th><td>PNW</td><td>04/01/2023</td><td>PINNACLE WEST CAPITAL CORP</td><td>11</td><td>4911</td><td> 954218</td><td>75.39</td><td>76.0950</td><td>74.630</td><td>75.10</td><td>1075</td></tr>\n",
       "\t<tr><th scope=row>3</th><td>PNW</td><td>05/01/2023</td><td>PINNACLE WEST CAPITAL CORP</td><td>11</td><td>4911</td><td> 994775</td><td>73.65</td><td>75.0950</td><td>73.305</td><td>74.88</td><td>1075</td></tr>\n",
       "\t<tr><th scope=row>4</th><td>PNW</td><td>06/01/2023</td><td>PINNACLE WEST CAPITAL CORP</td><td>11</td><td>4911</td><td> 729808</td><td>75.46</td><td>76.0200</td><td>74.480</td><td>74.49</td><td>1075</td></tr>\n",
       "\t<tr><th scope=row>5</th><td>PNW</td><td>09/01/2023</td><td>PINNACLE WEST CAPITAL CORP</td><td>11</td><td>4911</td><td> 656127</td><td>75.55</td><td>76.4800</td><td>75.240</td><td>75.24</td><td>1075</td></tr>\n",
       "\t<tr><th scope=row>6</th><td>PNW</td><td>10/01/2023</td><td>PINNACLE WEST CAPITAL CORP</td><td>11</td><td>4911</td><td> 763254</td><td>75.65</td><td>75.6950</td><td>74.880</td><td>75.31</td><td>1075</td></tr>\n",
       "</tbody>\n",
       "</table>\n"
      ],
      "text/latex": [
       "A data.frame: 6 × 11\n",
       "\\begin{tabular}{r|lllllllllll}\n",
       "  & tic & datadate & conm & exchg & sic & cshtrd & prccd & prchd & prcld & prcod & gvkey\\\\\n",
       "  & <chr> & <chr> & <chr> & <int> & <int> & <dbl> & <dbl> & <dbl> & <dbl> & <dbl> & <int>\\\\\n",
       "\\hline\n",
       "\t1 & PNW & 03/01/2023 & PINNACLE WEST CAPITAL CORP & 11 & 4911 & 1442534 & 74.63 & 76.4125 & 73.380 & 76.25 & 1075\\\\\n",
       "\t2 & PNW & 04/01/2023 & PINNACLE WEST CAPITAL CORP & 11 & 4911 &  954218 & 75.39 & 76.0950 & 74.630 & 75.10 & 1075\\\\\n",
       "\t3 & PNW & 05/01/2023 & PINNACLE WEST CAPITAL CORP & 11 & 4911 &  994775 & 73.65 & 75.0950 & 73.305 & 74.88 & 1075\\\\\n",
       "\t4 & PNW & 06/01/2023 & PINNACLE WEST CAPITAL CORP & 11 & 4911 &  729808 & 75.46 & 76.0200 & 74.480 & 74.49 & 1075\\\\\n",
       "\t5 & PNW & 09/01/2023 & PINNACLE WEST CAPITAL CORP & 11 & 4911 &  656127 & 75.55 & 76.4800 & 75.240 & 75.24 & 1075\\\\\n",
       "\t6 & PNW & 10/01/2023 & PINNACLE WEST CAPITAL CORP & 11 & 4911 &  763254 & 75.65 & 75.6950 & 74.880 & 75.31 & 1075\\\\\n",
       "\\end{tabular}\n"
      ],
      "text/markdown": [
       "\n",
       "A data.frame: 6 × 11\n",
       "\n",
       "| <!--/--> | tic &lt;chr&gt; | datadate &lt;chr&gt; | conm &lt;chr&gt; | exchg &lt;int&gt; | sic &lt;int&gt; | cshtrd &lt;dbl&gt; | prccd &lt;dbl&gt; | prchd &lt;dbl&gt; | prcld &lt;dbl&gt; | prcod &lt;dbl&gt; | gvkey &lt;int&gt; |\n",
       "|---|---|---|---|---|---|---|---|---|---|---|---|\n",
       "| 1 | PNW | 03/01/2023 | PINNACLE WEST CAPITAL CORP | 11 | 4911 | 1442534 | 74.63 | 76.4125 | 73.380 | 76.25 | 1075 |\n",
       "| 2 | PNW | 04/01/2023 | PINNACLE WEST CAPITAL CORP | 11 | 4911 |  954218 | 75.39 | 76.0950 | 74.630 | 75.10 | 1075 |\n",
       "| 3 | PNW | 05/01/2023 | PINNACLE WEST CAPITAL CORP | 11 | 4911 |  994775 | 73.65 | 75.0950 | 73.305 | 74.88 | 1075 |\n",
       "| 4 | PNW | 06/01/2023 | PINNACLE WEST CAPITAL CORP | 11 | 4911 |  729808 | 75.46 | 76.0200 | 74.480 | 74.49 | 1075 |\n",
       "| 5 | PNW | 09/01/2023 | PINNACLE WEST CAPITAL CORP | 11 | 4911 |  656127 | 75.55 | 76.4800 | 75.240 | 75.24 | 1075 |\n",
       "| 6 | PNW | 10/01/2023 | PINNACLE WEST CAPITAL CORP | 11 | 4911 |  763254 | 75.65 | 75.6950 | 74.880 | 75.31 | 1075 |\n",
       "\n"
      ],
      "text/plain": [
       "  tic datadate   conm                       exchg sic  cshtrd  prccd prchd  \n",
       "1 PNW 03/01/2023 PINNACLE WEST CAPITAL CORP 11    4911 1442534 74.63 76.4125\n",
       "2 PNW 04/01/2023 PINNACLE WEST CAPITAL CORP 11    4911  954218 75.39 76.0950\n",
       "3 PNW 05/01/2023 PINNACLE WEST CAPITAL CORP 11    4911  994775 73.65 75.0950\n",
       "4 PNW 06/01/2023 PINNACLE WEST CAPITAL CORP 11    4911  729808 75.46 76.0200\n",
       "5 PNW 09/01/2023 PINNACLE WEST CAPITAL CORP 11    4911  656127 75.55 76.4800\n",
       "6 PNW 10/01/2023 PINNACLE WEST CAPITAL CORP 11    4911  763254 75.65 75.6950\n",
       "  prcld  prcod gvkey\n",
       "1 73.380 76.25 1075 \n",
       "2 74.630 75.10 1075 \n",
       "3 73.305 74.88 1075 \n",
       "4 74.480 74.49 1075 \n",
       "5 75.240 75.24 1075 \n",
       "6 74.880 75.31 1075 "
      ]
     },
     "metadata": {},
     "output_type": "display_data"
    }
   ],
   "source": [
    "# inspect the strucutre\n",
    "head(data)"
   ]
  },
  {
   "cell_type": "markdown",
   "id": "91b71b18",
   "metadata": {},
   "source": [
    "# **Part I - Q&A**\n",
    "\n",
    "In the first section, we interrogate the data following the Assignment Specification.\n"
   ]
  },
  {
   "cell_type": "markdown",
   "id": "f85c5cb7",
   "metadata": {},
   "source": [
    "### Q1 - Unique tickers"
   ]
  },
  {
   "cell_type": "code",
   "execution_count": 31,
   "id": "6f2a2193",
   "metadata": {
    "vscode": {
     "languageId": "r"
    }
   },
   "outputs": [
    {
     "data": {
      "text/html": [
       "502"
      ],
      "text/latex": [
       "502"
      ],
      "text/markdown": [
       "502"
      ],
      "text/plain": [
       "[1] 502"
      ]
     },
     "metadata": {},
     "output_type": "display_data"
    },
    {
     "name": "stdout",
     "output_type": "stream",
     "text": [
      "[1] \"There are 502 unique tickers\"\n"
     ]
    }
   ],
   "source": [
    "# indentify the amount of unique tickers\n",
    "length(unique(data$tic))\n",
    "print(paste(\"There are\", length(unique(data$tic)), \"unique tickers\"))"
   ]
  },
  {
   "cell_type": "markdown",
   "id": "7a95e017",
   "metadata": {},
   "source": [
    "### Q2 - Unique companies\n"
   ]
  },
  {
   "cell_type": "code",
   "execution_count": 32,
   "id": "c865a5ff",
   "metadata": {
    "vscode": {
     "languageId": "r"
    }
   },
   "outputs": [
    {
     "data": {
      "text/html": [
       "499"
      ],
      "text/latex": [
       "499"
      ],
      "text/markdown": [
       "499"
      ],
      "text/plain": [
       "[1] 499"
      ]
     },
     "metadata": {},
     "output_type": "display_data"
    },
    {
     "name": "stdout",
     "output_type": "stream",
     "text": [
      "[1] \"There are 499 unique companies\"\n"
     ]
    }
   ],
   "source": [
    "# indentify the amount of unique companies\n",
    "length(unique(data$conm))\n",
    "print(paste(\"There are\", length(unique(data$conm)), \"unique companies\"))"
   ]
  },
  {
   "cell_type": "markdown",
   "id": "aa1e65f4",
   "metadata": {},
   "source": [
    "### Q3 - Top 5 Mean Trading Volume Companies"
   ]
  },
  {
   "cell_type": "code",
   "execution_count": 33,
   "id": "2b60e157",
   "metadata": {
    "vscode": {
     "languageId": "r"
    }
   },
   "outputs": [
    {
     "data": {
      "text/html": [
       "<table class=\"dataframe\">\n",
       "<caption>A tibble: 5 × 2</caption>\n",
       "<thead>\n",
       "\t<tr><th scope=col>conm</th><th scope=col>mean_volume</th></tr>\n",
       "\t<tr><th scope=col>&lt;chr&gt;</th><th scope=col>&lt;dbl&gt;</th></tr>\n",
       "</thead>\n",
       "<tbody>\n",
       "\t<tr><td>TESLA INC             </td><td>115314383</td></tr>\n",
       "\t<tr><td>NVIDIA CORP           </td><td>113131835</td></tr>\n",
       "\t<tr><td>PALANTIR TECHNOLOG INC</td><td> 60056251</td></tr>\n",
       "\t<tr><td>APPLE INC             </td><td> 57736403</td></tr>\n",
       "\t<tr><td>ADVANCED MICRO DEVICES</td><td> 57143415</td></tr>\n",
       "</tbody>\n",
       "</table>\n"
      ],
      "text/latex": [
       "A tibble: 5 × 2\n",
       "\\begin{tabular}{ll}\n",
       " conm & mean\\_volume\\\\\n",
       " <chr> & <dbl>\\\\\n",
       "\\hline\n",
       "\t TESLA INC              & 115314383\\\\\n",
       "\t NVIDIA CORP            & 113131835\\\\\n",
       "\t PALANTIR TECHNOLOG INC &  60056251\\\\\n",
       "\t APPLE INC              &  57736403\\\\\n",
       "\t ADVANCED MICRO DEVICES &  57143415\\\\\n",
       "\\end{tabular}\n"
      ],
      "text/markdown": [
       "\n",
       "A tibble: 5 × 2\n",
       "\n",
       "| conm &lt;chr&gt; | mean_volume &lt;dbl&gt; |\n",
       "|---|---|\n",
       "| TESLA INC              | 115314383 |\n",
       "| NVIDIA CORP            | 113131835 |\n",
       "| PALANTIR TECHNOLOG INC |  60056251 |\n",
       "| APPLE INC              |  57736403 |\n",
       "| ADVANCED MICRO DEVICES |  57143415 |\n",
       "\n"
      ],
      "text/plain": [
       "  conm                   mean_volume\n",
       "1 TESLA INC              115314383  \n",
       "2 NVIDIA CORP            113131835  \n",
       "3 PALANTIR TECHNOLOG INC  60056251  \n",
       "4 APPLE INC               57736403  \n",
       "5 ADVANCED MICRO DEVICES  57143415  "
      ]
     },
     "metadata": {},
     "output_type": "display_data"
    }
   ],
   "source": [
    "# indentify the top 5 companies by largest mean trading volume\n",
    "top_5_volume <- data %>%\n",
    "  group_by(conm) %>%\n",
    "  summarize(mean_volume = mean(cshtrd, na.rm = TRUE)) %>%\n",
    "  arrange(desc(mean_volume)) %>%\n",
    "  slice_head(n = 5)\n",
    "\n",
    "# display in a table\n",
    "top_5_volume"
   ]
  },
  {
   "cell_type": "markdown",
   "id": "ce5b9dfd",
   "metadata": {},
   "source": [
    "### Q4 - Top 3 Total Trading Volume Exchanges"
   ]
  },
  {
   "cell_type": "code",
   "execution_count": 34,
   "id": "b39698db",
   "metadata": {
    "vscode": {
     "languageId": "r"
    }
   },
   "outputs": [
    {
     "data": {
      "text/html": [
       "<table class=\"dataframe\">\n",
       "<caption>A tibble: 3 × 2</caption>\n",
       "<thead>\n",
       "\t<tr><th scope=col>exchg</th><th scope=col>total_volume</th></tr>\n",
       "\t<tr><th scope=col>&lt;int&gt;</th><th scope=col>&lt;dbl&gt;</th></tr>\n",
       "</thead>\n",
       "<tbody>\n",
       "\t<tr><td>11</td><td>681415756062</td></tr>\n",
       "\t<tr><td>14</td><td>570830885382</td></tr>\n",
       "\t<tr><td>21</td><td>   385399362</td></tr>\n",
       "</tbody>\n",
       "</table>\n"
      ],
      "text/latex": [
       "A tibble: 3 × 2\n",
       "\\begin{tabular}{ll}\n",
       " exchg & total\\_volume\\\\\n",
       " <int> & <dbl>\\\\\n",
       "\\hline\n",
       "\t 11 & 681415756062\\\\\n",
       "\t 14 & 570830885382\\\\\n",
       "\t 21 &    385399362\\\\\n",
       "\\end{tabular}\n"
      ],
      "text/markdown": [
       "\n",
       "A tibble: 3 × 2\n",
       "\n",
       "| exchg &lt;int&gt; | total_volume &lt;dbl&gt; |\n",
       "|---|---|\n",
       "| 11 | 681415756062 |\n",
       "| 14 | 570830885382 |\n",
       "| 21 |    385399362 |\n",
       "\n"
      ],
      "text/plain": [
       "  exchg total_volume\n",
       "1 11    681415756062\n",
       "2 14    570830885382\n",
       "3 21       385399362"
      ]
     },
     "metadata": {},
     "output_type": "display_data"
    }
   ],
   "source": [
    "# indentify the top 3 exchanges by total largest total trading volume\n",
    "top_3_exchanges <- data %>%\n",
    "  group_by(exchg) %>%\n",
    "  summarize(total_volume = sum(cshtrd, na.rm = TRUE)) %>%\n",
    "  arrange(desc(total_volume)) %>%\n",
    "  slice_head(n = 3)\n",
    "\n",
    "# display in a table\n",
    "top_3_exchanges"
   ]
  },
  {
   "cell_type": "markdown",
   "id": "e6cd5154",
   "metadata": {},
   "source": [
    "### Q5 - Visualisation of Top 3 Total Trading Volume Exchanges"
   ]
  },
  {
   "cell_type": "code",
   "execution_count": 35,
   "id": "04642a8a",
   "metadata": {
    "vscode": {
     "languageId": "r"
    }
   },
   "outputs": [
    {
     "data": {
      "image/png": "[encoded data removed]",
      "text/plain": [
       "plot without title"
      ]
     },
     "metadata": {
      "image/png": {
       "height": 420,
       "width": 420
      }
     },
     "output_type": "display_data"
    }
   ],
   "source": [
    "#| fig-cap: \"Top 3 Exchanges by Total Trading Volume\"\n",
    "# display in a bar plot\n",
    "ggplot(top_3_exchanges, aes(x = as.factor(exchg), y = total_volume)) +\n",
    "  geom_col(width = 0.75, fill = \"#0076AA\", color = \"black\") +\n",
    "  geom_text(aes(label = scales::comma(total_volume)), vjust = -0.4, size = 3.5) +\n",
    "  labs(x = \"Stock Exchange Code\", y = \"Total Trading Volume\\n(Units)\") +\n",
    "  theme_minimal(base_size = 13) +\n",
    "  theme(panel.border = element_rect(color = \"black\", fill = NA, size = 1))"
   ]
  },
  {
   "cell_type": "markdown",
   "id": "a30de730",
   "metadata": {},
   "source": [
    "### Q6 - Companies with More Than One Ticker"
   ]
  },
  {
   "cell_type": "code",
   "execution_count": 36,
   "id": "5d03a99a",
   "metadata": {
    "vscode": {
     "languageId": "r"
    }
   },
   "outputs": [
    {
     "data": {
      "text/html": [
       "<table class=\"dataframe\">\n",
       "<caption>A tibble: 3 × 2</caption>\n",
       "<thead>\n",
       "\t<tr><th scope=col>conm</th><th scope=col>ticker_count</th></tr>\n",
       "\t<tr><th scope=col>&lt;chr&gt;</th><th scope=col>&lt;int&gt;</th></tr>\n",
       "</thead>\n",
       "<tbody>\n",
       "\t<tr><td>ALPHABET INC</td><td>2</td></tr>\n",
       "\t<tr><td>FOX CORP    </td><td>2</td></tr>\n",
       "\t<tr><td>NEWS CORP   </td><td>2</td></tr>\n",
       "</tbody>\n",
       "</table>\n"
      ],
      "text/latex": [
       "A tibble: 3 × 2\n",
       "\\begin{tabular}{ll}\n",
       " conm & ticker\\_count\\\\\n",
       " <chr> & <int>\\\\\n",
       "\\hline\n",
       "\t ALPHABET INC & 2\\\\\n",
       "\t FOX CORP     & 2\\\\\n",
       "\t NEWS CORP    & 2\\\\\n",
       "\\end{tabular}\n"
      ],
      "text/markdown": [
       "\n",
       "A tibble: 3 × 2\n",
       "\n",
       "| conm &lt;chr&gt; | ticker_count &lt;int&gt; |\n",
       "|---|---|\n",
       "| ALPHABET INC | 2 |\n",
       "| FOX CORP     | 2 |\n",
       "| NEWS CORP    | 2 |\n",
       "\n"
      ],
      "text/plain": [
       "  conm         ticker_count\n",
       "1 ALPHABET INC 2           \n",
       "2 FOX CORP     2           \n",
       "3 NEWS CORP    2           "
      ]
     },
     "metadata": {},
     "output_type": "display_data"
    }
   ],
   "source": [
    "# indentify companies have more than one ticker\n",
    "ticker_counts <- data %>%\n",
    "  group_by(conm) %>%\n",
    "  summarize(ticker_count = n_distinct(tic)) %>%\n",
    "  filter(ticker_count > 1)\n",
    "\n",
    "# display the result\n",
    "ticker_counts"
   ]
  },
  {
   "cell_type": "markdown",
   "id": "a337d063",
   "metadata": {},
   "source": [
    "### Q7 - Ticker with the Largest Positive Mean Return"
   ]
  },
  {
   "cell_type": "code",
   "execution_count": 37,
   "id": "712e024a",
   "metadata": {
    "vscode": {
     "languageId": "r"
    }
   },
   "outputs": [
    {
     "data": {
      "text/html": [
       "<table class=\"dataframe\">\n",
       "<caption>A tibble: 1 × 2</caption>\n",
       "<thead>\n",
       "\t<tr><th scope=col>tic</th><th scope=col>mean_return</th></tr>\n",
       "\t<tr><th scope=col>&lt;chr&gt;</th><th scope=col>&lt;dbl&gt;</th></tr>\n",
       "</thead>\n",
       "<tbody>\n",
       "\t<tr><td>PLTR</td><td>0.005785119</td></tr>\n",
       "</tbody>\n",
       "</table>\n"
      ],
      "text/latex": [
       "A tibble: 1 × 2\n",
       "\\begin{tabular}{ll}\n",
       " tic & mean\\_return\\\\\n",
       " <chr> & <dbl>\\\\\n",
       "\\hline\n",
       "\t PLTR & 0.005785119\\\\\n",
       "\\end{tabular}\n"
      ],
      "text/markdown": [
       "\n",
       "A tibble: 1 × 2\n",
       "\n",
       "| tic &lt;chr&gt; | mean_return &lt;dbl&gt; |\n",
       "|---|---|\n",
       "| PLTR | 0.005785119 |\n",
       "\n"
      ],
      "text/plain": [
       "  tic  mean_return\n",
       "1 PLTR 0.005785119"
      ]
     },
     "metadata": {},
     "output_type": "display_data"
    }
   ],
   "source": [
    "# indentify the ticker with the largest positive mean return (simple daily return)\n",
    "mean_returns <- data %>%\n",
    "  group_by(tic) %>%\n",
    "  mutate(ret = (prccd - lag(prccd)) / lag(prccd)) %>%\n",
    "  summarize(mean_return = mean(ret, na.rm = TRUE)) %>%\n",
    "  arrange(desc(mean_return)) %>%\n",
    "  slice_head(n = 1)\n",
    "\n",
    "# display the resuly\n",
    "mean_returns"
   ]
  },
  {
   "cell_type": "markdown",
   "id": "143d427e",
   "metadata": {},
   "source": [
    "### Q8 - Company with the Largest Positive Mean Return"
   ]
  },
  {
   "cell_type": "code",
   "execution_count": 38,
   "id": "423af036",
   "metadata": {
    "vscode": {
     "languageId": "r"
    }
   },
   "outputs": [
    {
     "data": {
      "text/html": [
       "<table class=\"dataframe\">\n",
       "<caption>A tibble: 1 × 2</caption>\n",
       "<thead>\n",
       "\t<tr><th scope=col>conm</th><th scope=col>mean_return</th></tr>\n",
       "\t<tr><th scope=col>&lt;chr&gt;</th><th scope=col>&lt;dbl&gt;</th></tr>\n",
       "</thead>\n",
       "<tbody>\n",
       "\t<tr><td>PALANTIR TECHNOLOG INC</td><td>0.005785119</td></tr>\n",
       "</tbody>\n",
       "</table>\n"
      ],
      "text/latex": [
       "A tibble: 1 × 2\n",
       "\\begin{tabular}{ll}\n",
       " conm & mean\\_return\\\\\n",
       " <chr> & <dbl>\\\\\n",
       "\\hline\n",
       "\t PALANTIR TECHNOLOG INC & 0.005785119\\\\\n",
       "\\end{tabular}\n"
      ],
      "text/markdown": [
       "\n",
       "A tibble: 1 × 2\n",
       "\n",
       "| conm &lt;chr&gt; | mean_return &lt;dbl&gt; |\n",
       "|---|---|\n",
       "| PALANTIR TECHNOLOG INC | 0.005785119 |\n",
       "\n"
      ],
      "text/plain": [
       "  conm                   mean_return\n",
       "1 PALANTIR TECHNOLOG INC 0.005785119"
      ]
     },
     "metadata": {},
     "output_type": "display_data"
    }
   ],
   "source": [
    "# indentify the company with the largest positive mean return (simple daily return)\n",
    "mean_returns_company <- data %>%\n",
    "  group_by(conm) %>%\n",
    "  mutate(ret = (prccd - lag(prccd)) / lag(prccd)) %>%\n",
    "  summarize(mean_return = mean(ret, na.rm = TRUE)) %>%\n",
    "  arrange(desc(mean_return)) %>%\n",
    "  slice_head(n = 1)\n",
    "\n",
    "# display the result\n",
    "mean_returns_company"
   ]
  },
  {
   "cell_type": "markdown",
   "id": "b843e668",
   "metadata": {},
   "source": [
    "### Q9 - Industry Represented by the Most Companies"
   ]
  },
  {
   "cell_type": "code",
   "execution_count": 39,
   "id": "651f6006",
   "metadata": {
    "vscode": {
     "languageId": "r"
    }
   },
   "outputs": [
    {
     "data": {
      "text/html": [
       "<table class=\"dataframe\">\n",
       "<caption>A tibble: 1 × 2</caption>\n",
       "<thead>\n",
       "\t<tr><th scope=col>sic</th><th scope=col>company_count</th></tr>\n",
       "\t<tr><th scope=col>&lt;int&gt;</th><th scope=col>&lt;int&gt;</th></tr>\n",
       "</thead>\n",
       "<tbody>\n",
       "\t<tr><td>6798</td><td>28</td></tr>\n",
       "</tbody>\n",
       "</table>\n"
      ],
      "text/latex": [
       "A tibble: 1 × 2\n",
       "\\begin{tabular}{ll}\n",
       " sic & company\\_count\\\\\n",
       " <int> & <int>\\\\\n",
       "\\hline\n",
       "\t 6798 & 28\\\\\n",
       "\\end{tabular}\n"
      ],
      "text/markdown": [
       "\n",
       "A tibble: 1 × 2\n",
       "\n",
       "| sic &lt;int&gt; | company_count &lt;int&gt; |\n",
       "|---|---|\n",
       "| 6798 | 28 |\n",
       "\n"
      ],
      "text/plain": [
       "  sic  company_count\n",
       "1 6798 28           "
      ]
     },
     "metadata": {},
     "output_type": "display_data"
    }
   ],
   "source": [
    "# indentify the industry is represented by the most companies\n",
    "industry_counts <- data %>%\n",
    "  group_by(sic) %>%\n",
    "  summarize(company_count = n_distinct(conm)) %>%\n",
    "  arrange(desc(company_count)) %>%\n",
    "  slice_head(n = 1)\n",
    "\n",
    "# display the result\n",
    "industry_counts"
   ]
  },
  {
   "cell_type": "markdown",
   "id": "e7ac8456",
   "metadata": {},
   "source": [
    "# **Part II - Extended Analysis**\n",
    "\n",
    "In the second section, we first calculate the weekly returns with following formulas to carry out the extended analysis. After categorising the data into decile groups, a specific security is picked for further analysis.\n",
    "\n",
    "$$\n",
    "R_{\\text{weekly}} = \\frac{P_t - P_{t-1}}{P_{t-1}}\n",
    "$$\n",
    "\n",
    "where:\n",
    "\n",
    "- $R_{\\mathrm{weekly}}$ = Simple weekly return  \n",
    "- $P_t$ = Closing price at the end of the current week  \n",
    "- $P_{t-1}$ = Closing price at the end of the previous week"
   ]
  },
  {
   "cell_type": "markdown",
   "id": "e5963a05",
   "metadata": {},
   "source": [
    "### Q1 - Weekly Returns"
   ]
  },
  {
   "cell_type": "code",
   "execution_count": 40,
   "id": "14f48ecb",
   "metadata": {
    "vscode": {
     "languageId": "r"
    }
   },
   "outputs": [
    {
     "name": "stderr",
     "output_type": "stream",
     "text": [
      "\u001b[1m\u001b[22m`summarise()` has grouped output by 'tic'. You can override using the `.groups`\n",
      "argument.\n"
     ]
    }
   ],
   "source": [
    "# calculate the simple weekly returns\n",
    "weekly_returns <- data %>%\n",
    "  mutate(datadate = as.Date(datadate, format = \"%d/%m/%Y\")) %>%\n",
    "  group_by(tic) %>%\n",
    "  arrange(datadate) %>%\n",
    "  mutate(Week = floor_date(datadate, unit = \"week\")) %>%\n",
    "  group_by(tic, Week) %>%\n",
    "  summarise(Weekly_Close = last(prccd)) %>%\n",
    "  arrange(tic, Week) %>%\n",
    "  mutate(Weekly_Return = (Weekly_Close / lag(Weekly_Close)) - 1) %>%\n",
    "  ungroup()"
   ]
  },
  {
   "cell_type": "markdown",
   "id": "1385b911",
   "metadata": {},
   "source": [
    "### Q2 - Decile Classification"
   ]
  },
  {
   "cell_type": "code",
   "execution_count": 41,
   "id": "a64c7713",
   "metadata": {
    "vscode": {
     "languageId": "r"
    }
   },
   "outputs": [
    {
     "data": {
      "text/html": [
       "<table class=\"dataframe\">\n",
       "<caption>A tibble: 6 × 5</caption>\n",
       "<thead>\n",
       "\t<tr><th scope=col>tic</th><th scope=col>Week</th><th scope=col>Weekly_Close</th><th scope=col>Weekly_Return</th><th scope=col>deciles</th></tr>\n",
       "\t<tr><th scope=col>&lt;chr&gt;</th><th scope=col>&lt;date&gt;</th><th scope=col>&lt;dbl&gt;</th><th scope=col>&lt;dbl&gt;</th><th scope=col>&lt;fct&gt;</th></tr>\n",
       "</thead>\n",
       "<tbody>\n",
       "\t<tr><td>A</td><td>2023-01-01</td><td>147.67</td><td>          NA</td><td>NA </td></tr>\n",
       "\t<tr><td>A</td><td>2023-01-08</td><td>156.92</td><td> 0.062639670</td><td>90%</td></tr>\n",
       "\t<tr><td>A</td><td>2023-01-15</td><td>155.92</td><td>-0.006372674</td><td>30%</td></tr>\n",
       "\t<tr><td>A</td><td>2023-01-22</td><td>155.69</td><td>-0.001475115</td><td>40%</td></tr>\n",
       "\t<tr><td>A</td><td>2023-01-29</td><td>154.55</td><td>-0.007322243</td><td>30%</td></tr>\n",
       "\t<tr><td>A</td><td>2023-02-05</td><td>152.55</td><td>-0.012940796</td><td>30%</td></tr>\n",
       "</tbody>\n",
       "</table>\n"
      ],
      "text/latex": [
       "A tibble: 6 × 5\n",
       "\\begin{tabular}{lllll}\n",
       " tic & Week & Weekly\\_Close & Weekly\\_Return & deciles\\\\\n",
       " <chr> & <date> & <dbl> & <dbl> & <fct>\\\\\n",
       "\\hline\n",
       "\t A & 2023-01-01 & 147.67 &           NA & NA \\\\\n",
       "\t A & 2023-01-08 & 156.92 &  0.062639670 & 90\\%\\\\\n",
       "\t A & 2023-01-15 & 155.92 & -0.006372674 & 30\\%\\\\\n",
       "\t A & 2023-01-22 & 155.69 & -0.001475115 & 40\\%\\\\\n",
       "\t A & 2023-01-29 & 154.55 & -0.007322243 & 30\\%\\\\\n",
       "\t A & 2023-02-05 & 152.55 & -0.012940796 & 30\\%\\\\\n",
       "\\end{tabular}\n"
      ],
      "text/markdown": [
       "\n",
       "A tibble: 6 × 5\n",
       "\n",
       "| tic &lt;chr&gt; | Week &lt;date&gt; | Weekly_Close &lt;dbl&gt; | Weekly_Return &lt;dbl&gt; | deciles &lt;fct&gt; |\n",
       "|---|---|---|---|---|\n",
       "| A | 2023-01-01 | 147.67 |           NA | NA  |\n",
       "| A | 2023-01-08 | 156.92 |  0.062639670 | 90% |\n",
       "| A | 2023-01-15 | 155.92 | -0.006372674 | 30% |\n",
       "| A | 2023-01-22 | 155.69 | -0.001475115 | 40% |\n",
       "| A | 2023-01-29 | 154.55 | -0.007322243 | 30% |\n",
       "| A | 2023-02-05 | 152.55 | -0.012940796 | 30% |\n",
       "\n"
      ],
      "text/plain": [
       "  tic Week       Weekly_Close Weekly_Return deciles\n",
       "1 A   2023-01-01 147.67                 NA  NA     \n",
       "2 A   2023-01-08 156.92        0.062639670  90%    \n",
       "3 A   2023-01-15 155.92       -0.006372674  30%    \n",
       "4 A   2023-01-22 155.69       -0.001475115  40%    \n",
       "5 A   2023-01-29 154.55       -0.007322243  30%    \n",
       "6 A   2023-02-05 152.55       -0.012940796  30%    "
      ]
     },
     "metadata": {},
     "output_type": "display_data"
    }
   ],
   "source": [
    "# categorise data into decile groups, labelled 0%, 10%, 20%, ...\n",
    "quantile_result <- weekly_returns %>%\n",
    "  mutate(\n",
    "    deciles = cut(\n",
    "      Weekly_Return,\n",
    "      breaks = quantile(\n",
    "        Weekly_Return,\n",
    "        probs = c(0, 0.1, 0.2, 0.3, 0.4, 0.5, 0.6, 0.7, 0.8, 0.9, 1),\n",
    "        type = 5,\n",
    "        na.rm = TRUE\n",
    "      ),\n",
    "      include.lowest = TRUE,\n",
    "      labels = c(\"0%\", \"10%\", \"20%\", \"30%\", \"40%\", \"50%\", \"60%\", \"70%\", \"80%\", \"90%\")\n",
    "    )\n",
    "  )\n",
    "\n",
    "# display the result\n",
    "head(quantile_result)"
   ]
  },
  {
   "cell_type": "markdown",
   "id": "eb5ebf86",
   "metadata": {},
   "source": [
    "### Q3 - Top Ticker in each Decile Group"
   ]
  },
  {
   "cell_type": "code",
   "execution_count": 42,
   "id": "24551289",
   "metadata": {
    "vscode": {
     "languageId": "r"
    }
   },
   "outputs": [
    {
     "data": {
      "text/html": [
       "<table class=\"dataframe\">\n",
       "<caption>A grouped_df: 11 × 3</caption>\n",
       "<thead>\n",
       "\t<tr><th scope=col>deciles</th><th scope=col>tic</th><th scope=col>Weekly_Return</th></tr>\n",
       "\t<tr><th scope=col>&lt;fct&gt;</th><th scope=col>&lt;chr&gt;</th><th scope=col>&lt;dbl&gt;</th></tr>\n",
       "</thead>\n",
       "<tbody>\n",
       "\t<tr><td>0% </td><td>DVN </td><td>-0.041509434</td></tr>\n",
       "\t<tr><td>10%</td><td>FDS </td><td>-0.024781950</td></tr>\n",
       "\t<tr><td>20%</td><td>CNC </td><td>-0.014084507</td></tr>\n",
       "\t<tr><td>20%</td><td>TRMB</td><td>-0.014084507</td></tr>\n",
       "\t<tr><td>30%</td><td>NWS </td><td>-0.005443235</td></tr>\n",
       "\t<tr><td>40%</td><td>CDNS</td><td> 0.002281542</td></tr>\n",
       "\t<tr><td>50%</td><td>AIG </td><td> 0.010124311</td></tr>\n",
       "\t<tr><td>60%</td><td>HLT </td><td> 0.018477517</td></tr>\n",
       "\t<tr><td>70%</td><td>RL  </td><td> 0.029158383</td></tr>\n",
       "\t<tr><td>80%</td><td>SJM </td><td> 0.046984764</td></tr>\n",
       "\t<tr><td>90%</td><td>SMCI</td><td> 0.784176534</td></tr>\n",
       "</tbody>\n",
       "</table>\n"
      ],
      "text/latex": [
       "A grouped\\_df: 11 × 3\n",
       "\\begin{tabular}{lll}\n",
       " deciles & tic & Weekly\\_Return\\\\\n",
       " <fct> & <chr> & <dbl>\\\\\n",
       "\\hline\n",
       "\t 0\\%  & DVN  & -0.041509434\\\\\n",
       "\t 10\\% & FDS  & -0.024781950\\\\\n",
       "\t 20\\% & CNC  & -0.014084507\\\\\n",
       "\t 20\\% & TRMB & -0.014084507\\\\\n",
       "\t 30\\% & NWS  & -0.005443235\\\\\n",
       "\t 40\\% & CDNS &  0.002281542\\\\\n",
       "\t 50\\% & AIG  &  0.010124311\\\\\n",
       "\t 60\\% & HLT  &  0.018477517\\\\\n",
       "\t 70\\% & RL   &  0.029158383\\\\\n",
       "\t 80\\% & SJM  &  0.046984764\\\\\n",
       "\t 90\\% & SMCI &  0.784176534\\\\\n",
       "\\end{tabular}\n"
      ],
      "text/markdown": [
       "\n",
       "A grouped_df: 11 × 3\n",
       "\n",
       "| deciles &lt;fct&gt; | tic &lt;chr&gt; | Weekly_Return &lt;dbl&gt; |\n",
       "|---|---|---|\n",
       "| 0%  | DVN  | -0.041509434 |\n",
       "| 10% | FDS  | -0.024781950 |\n",
       "| 20% | CNC  | -0.014084507 |\n",
       "| 20% | TRMB | -0.014084507 |\n",
       "| 30% | NWS  | -0.005443235 |\n",
       "| 40% | CDNS |  0.002281542 |\n",
       "| 50% | AIG  |  0.010124311 |\n",
       "| 60% | HLT  |  0.018477517 |\n",
       "| 70% | RL   |  0.029158383 |\n",
       "| 80% | SJM  |  0.046984764 |\n",
       "| 90% | SMCI |  0.784176534 |\n",
       "\n"
      ],
      "text/plain": [
       "   deciles tic  Weekly_Return\n",
       "1  0%      DVN  -0.041509434 \n",
       "2  10%     FDS  -0.024781950 \n",
       "3  20%     CNC  -0.014084507 \n",
       "4  20%     TRMB -0.014084507 \n",
       "5  30%     NWS  -0.005443235 \n",
       "6  40%     CDNS  0.002281542 \n",
       "7  50%     AIG   0.010124311 \n",
       "8  60%     HLT   0.018477517 \n",
       "9  70%     RL    0.029158383 \n",
       "10 80%     SJM   0.046984764 \n",
       "11 90%     SMCI  0.784176534 "
      ]
     },
     "metadata": {},
     "output_type": "display_data"
    }
   ],
   "source": [
    "# identify the top ticker in each decile group\n",
    "top_tickers <- quantile_result %>%\n",
    "  group_by(deciles) %>%\n",
    "  filter(Weekly_Return == max(Weekly_Return)) %>%\n",
    "  select(deciles, tic, Weekly_Return) %>%\n",
    "  arrange(deciles)\n",
    "  \n",
    "# display the result in a table\n",
    "top_tickers"
   ]
  },
  {
   "cell_type": "markdown",
   "id": "49abe9d6",
   "metadata": {},
   "source": [
    "### Q4 - Ticker Selection from 60% Decile Group\n",
    "\n",
    "Here, we select the **top ticker** from 60% decile group for the following analysis."
   ]
  },
  {
   "cell_type": "code",
   "execution_count": 43,
   "id": "970bf9e3",
   "metadata": {
    "vscode": {
     "languageId": "r"
    }
   },
   "outputs": [
    {
     "name": "stdout",
     "output_type": "stream",
     "text": [
      "[1] \"HLT\"\n"
     ]
    }
   ],
   "source": [
    "# display the top ticker in 60% decile group\n",
    "top_60_ticker <- top_tickers %>%\n",
    "  filter(deciles == \"60%\")\n",
    "print(top_60_ticker$tic)"
   ]
  },
  {
   "cell_type": "markdown",
   "id": "1c0441e5",
   "metadata": {},
   "source": [
    "### Q5 - Autocorrelation Anlysis"
   ]
  },
  {
   "cell_type": "code",
   "execution_count": 50,
   "id": "bc7f9ef4",
   "metadata": {
    "vscode": {
     "languageId": "r"
    }
   },
   "outputs": [
    {
     "data": {
      "image/png": "[encoded data removed]",
      "text/plain": [
       "Plot with title “”"
      ]
     },
     "metadata": {
      "image/png": {
       "height": 420,
       "width": 420
      }
     },
     "output_type": "display_data"
    }
   ],
   "source": [
    "#| fig-cap: \"Autocorrelation HLT Weekly Returns\"\n",
    "# plot the autocorrelation function for HLT's entire set of weekly returns\n",
    "wdc_data <- weekly_returns %>%\n",
    "  filter(tic == \"HLT\") %>%\n",
    "  na.omit()\n",
    "\n",
    "# Autocorrelate\n",
    "acf(wdc_data$Weekly_Return, main=\"\")"
   ]
  },
  {
   "cell_type": "markdown",
   "id": "c3378385",
   "metadata": {},
   "source": [
    "# **Part III - Fama-French 3 Factor Model**\n",
    "\n",
    "In the last section, we first load and clean the the **fama_french_weekly.csv** to provide the weekly Fama-French 3 factors for modelling. Next, the selected ticker **HLT** is fitted the Fama-French 3 factor model."
   ]
  },
  {
   "cell_type": "code",
   "execution_count": 51,
   "id": "bcd64520",
   "metadata": {
    "vscode": {
     "languageId": "r"
    }
   },
   "outputs": [],
   "source": [
    "# load and clean the data\n",
    "fama_french_data <- read.csv(\"fama_french_weekly.csv\", skip=4)\n",
    "fama_french_data$datadate <- as.Date(as.character(fama_french_data$X), format=\"%Y%m%d\")\n",
    "fama_french_data <- select(fama_french_data, datadate, Mkt.RF, SMB, HML, RF)"
   ]
  },
  {
   "cell_type": "code",
   "execution_count": 52,
   "id": "0e4ba9c9",
   "metadata": {
    "vscode": {
     "languageId": "r"
    }
   },
   "outputs": [
    {
     "data": {
      "text/html": [
       "<table class=\"dataframe\">\n",
       "<caption>A data.frame: 1 × 5</caption>\n",
       "<thead>\n",
       "\t<tr><th scope=col>datadate</th><th scope=col>Mkt.RF</th><th scope=col>SMB</th><th scope=col>HML</th><th scope=col>RF</th></tr>\n",
       "\t<tr><th scope=col>&lt;date&gt;</th><th scope=col>&lt;dbl&gt;</th><th scope=col>&lt;dbl&gt;</th><th scope=col>&lt;dbl&gt;</th><th scope=col>&lt;dbl&gt;</th></tr>\n",
       "</thead>\n",
       "<tbody>\n",
       "\t<tr><td>2023-01-06</td><td>0.0137</td><td>0.0027</td><td>0.0125</td><td>9e-04</td></tr>\n",
       "</tbody>\n",
       "</table>\n"
      ],
      "text/latex": [
       "A data.frame: 1 × 5\n",
       "\\begin{tabular}{lllll}\n",
       " datadate & Mkt.RF & SMB & HML & RF\\\\\n",
       " <date> & <dbl> & <dbl> & <dbl> & <dbl>\\\\\n",
       "\\hline\n",
       "\t 2023-01-06 & 0.0137 & 0.0027 & 0.0125 & 9e-04\\\\\n",
       "\\end{tabular}\n"
      ],
      "text/markdown": [
       "\n",
       "A data.frame: 1 × 5\n",
       "\n",
       "| datadate &lt;date&gt; | Mkt.RF &lt;dbl&gt; | SMB &lt;dbl&gt; | HML &lt;dbl&gt; | RF &lt;dbl&gt; |\n",
       "|---|---|---|---|---|\n",
       "| 2023-01-06 | 0.0137 | 0.0027 | 0.0125 | 9e-04 |\n",
       "\n"
      ],
      "text/plain": [
       "  datadate   Mkt.RF SMB    HML    RF   \n",
       "1 2023-01-06 0.0137 0.0027 0.0125 9e-04"
      ]
     },
     "metadata": {},
     "output_type": "display_data"
    },
    {
     "data": {
      "text/html": [
       "<table class=\"dataframe\">\n",
       "<caption>A tibble: 6 × 3</caption>\n",
       "<thead>\n",
       "\t<tr><th scope=col>Week</th><th scope=col>Weekly_Close</th><th scope=col>Weekly_Return</th></tr>\n",
       "\t<tr><th scope=col>&lt;date&gt;</th><th scope=col>&lt;dbl&gt;</th><th scope=col>&lt;dbl&gt;</th></tr>\n",
       "</thead>\n",
       "<tbody>\n",
       "\t<tr><td>2023-01-06</td><td>135.00</td><td> 0.0643330180</td></tr>\n",
       "\t<tr><td>2023-01-13</td><td>135.06</td><td> 0.0004444444</td></tr>\n",
       "\t<tr><td>2023-01-20</td><td>144.06</td><td> 0.0666370502</td></tr>\n",
       "\t<tr><td>2023-01-27</td><td>147.09</td><td> 0.0210329030</td></tr>\n",
       "\t<tr><td>2023-02-03</td><td>150.80</td><td> 0.0252226528</td></tr>\n",
       "\t<tr><td>2023-02-10</td><td>148.28</td><td>-0.0167108753</td></tr>\n",
       "</tbody>\n",
       "</table>\n"
      ],
      "text/latex": [
       "A tibble: 6 × 3\n",
       "\\begin{tabular}{lll}\n",
       " Week & Weekly\\_Close & Weekly\\_Return\\\\\n",
       " <date> & <dbl> & <dbl>\\\\\n",
       "\\hline\n",
       "\t 2023-01-06 & 135.00 &  0.0643330180\\\\\n",
       "\t 2023-01-13 & 135.06 &  0.0004444444\\\\\n",
       "\t 2023-01-20 & 144.06 &  0.0666370502\\\\\n",
       "\t 2023-01-27 & 147.09 &  0.0210329030\\\\\n",
       "\t 2023-02-03 & 150.80 &  0.0252226528\\\\\n",
       "\t 2023-02-10 & 148.28 & -0.0167108753\\\\\n",
       "\\end{tabular}\n"
      ],
      "text/markdown": [
       "\n",
       "A tibble: 6 × 3\n",
       "\n",
       "| Week &lt;date&gt; | Weekly_Close &lt;dbl&gt; | Weekly_Return &lt;dbl&gt; |\n",
       "|---|---|---|\n",
       "| 2023-01-06 | 135.00 |  0.0643330180 |\n",
       "| 2023-01-13 | 135.06 |  0.0004444444 |\n",
       "| 2023-01-20 | 144.06 |  0.0666370502 |\n",
       "| 2023-01-27 | 147.09 |  0.0210329030 |\n",
       "| 2023-02-03 | 150.80 |  0.0252226528 |\n",
       "| 2023-02-10 | 148.28 | -0.0167108753 |\n",
       "\n"
      ],
      "text/plain": [
       "  Week       Weekly_Close Weekly_Return\n",
       "1 2023-01-06 135.00        0.0643330180\n",
       "2 2023-01-13 135.06        0.0004444444\n",
       "3 2023-01-20 144.06        0.0666370502\n",
       "4 2023-01-27 147.09        0.0210329030\n",
       "5 2023-02-03 150.80        0.0252226528\n",
       "6 2023-02-10 148.28       -0.0167108753"
      ]
     },
     "metadata": {},
     "output_type": "display_data"
    }
   ],
   "source": [
    "# for each column except datadate, divided by 100 to convert to decimal format\n",
    "fama_french_data <- fama_french_data %>%\n",
    "  mutate(across(-datadate, ~ . / 100)) \n",
    "\n",
    "fama_french_data %>%\n",
    "    filter(datadate >= as.Date(\"2023-01-01\")) %>%\n",
    "    slice(1)\n",
    "    \n",
    "rearrange_wdc_data <- data %>%\n",
    "  filter(tic == \"HLT\") %>%\n",
    "  mutate(datadate = as.Date(datadate, format = \"%d/%m/%Y\")) %>%\n",
    "  arrange(datadate)\n",
    "\n",
    "# calculate the weekly returns for WDC and make sure the datadate is aligned with Fama-French data\n",
    "rearrange_wdc_data <- rearrange_wdc_data %>%\n",
    "  mutate(Week = floor_date(datadate, unit = \"week\", week_start = 5)) %>%\n",
    "  group_by(Week) %>%\n",
    "  summarise(Weekly_Close = last(prccd)) %>%\n",
    "  arrange(Week) %>%\n",
    "  mutate(Weekly_Return = (Weekly_Close / lag(Weekly_Close)) - 1) %>%\n",
    "  na.omit()\n",
    "\n",
    "# display the data\n",
    "head(rearrange_wdc_data)"
   ]
  },
  {
   "cell_type": "code",
   "execution_count": 53,
   "id": "3e023c42",
   "metadata": {
    "vscode": {
     "languageId": "r"
    }
   },
   "outputs": [
    {
     "data": {
      "text/html": [
       "<table class=\"dataframe\">\n",
       "<caption>A data.frame: 6 × 7</caption>\n",
       "<thead>\n",
       "\t<tr><th></th><th scope=col>Week</th><th scope=col>Weekly_Close</th><th scope=col>Weekly_Return</th><th scope=col>Mkt.RF</th><th scope=col>SMB</th><th scope=col>HML</th><th scope=col>RF</th></tr>\n",
       "\t<tr><th></th><th scope=col>&lt;date&gt;</th><th scope=col>&lt;dbl&gt;</th><th scope=col>&lt;dbl&gt;</th><th scope=col>&lt;dbl&gt;</th><th scope=col>&lt;dbl&gt;</th><th scope=col>&lt;dbl&gt;</th><th scope=col>&lt;dbl&gt;</th></tr>\n",
       "</thead>\n",
       "<tbody>\n",
       "\t<tr><th scope=row>1</th><td>2023-01-06</td><td>135.00</td><td> 0.0643330180</td><td> 0.0137</td><td> 0.0027</td><td> 0.0125</td><td>9e-04</td></tr>\n",
       "\t<tr><th scope=row>2</th><td>2023-01-13</td><td>135.06</td><td> 0.0004444444</td><td> 0.0302</td><td> 0.0337</td><td>-0.0324</td><td>9e-04</td></tr>\n",
       "\t<tr><th scope=row>3</th><td>2023-01-20</td><td>144.06</td><td> 0.0666370502</td><td>-0.0069</td><td> 0.0012</td><td>-0.0115</td><td>9e-04</td></tr>\n",
       "\t<tr><th scope=row>4</th><td>2023-01-27</td><td>147.09</td><td> 0.0210329030</td><td> 0.0257</td><td>-0.0009</td><td>-0.0122</td><td>9e-04</td></tr>\n",
       "\t<tr><th scope=row>5</th><td>2023-02-03</td><td>150.80</td><td> 0.0252226528</td><td> 0.0181</td><td> 0.0354</td><td>-0.0199</td><td>9e-04</td></tr>\n",
       "\t<tr><th scope=row>6</th><td>2023-02-10</td><td>148.28</td><td>-0.0167108753</td><td>-0.0149</td><td>-0.0320</td><td> 0.0266</td><td>9e-04</td></tr>\n",
       "</tbody>\n",
       "</table>\n"
      ],
      "text/latex": [
       "A data.frame: 6 × 7\n",
       "\\begin{tabular}{r|lllllll}\n",
       "  & Week & Weekly\\_Close & Weekly\\_Return & Mkt.RF & SMB & HML & RF\\\\\n",
       "  & <date> & <dbl> & <dbl> & <dbl> & <dbl> & <dbl> & <dbl>\\\\\n",
       "\\hline\n",
       "\t1 & 2023-01-06 & 135.00 &  0.0643330180 &  0.0137 &  0.0027 &  0.0125 & 9e-04\\\\\n",
       "\t2 & 2023-01-13 & 135.06 &  0.0004444444 &  0.0302 &  0.0337 & -0.0324 & 9e-04\\\\\n",
       "\t3 & 2023-01-20 & 144.06 &  0.0666370502 & -0.0069 &  0.0012 & -0.0115 & 9e-04\\\\\n",
       "\t4 & 2023-01-27 & 147.09 &  0.0210329030 &  0.0257 & -0.0009 & -0.0122 & 9e-04\\\\\n",
       "\t5 & 2023-02-03 & 150.80 &  0.0252226528 &  0.0181 &  0.0354 & -0.0199 & 9e-04\\\\\n",
       "\t6 & 2023-02-10 & 148.28 & -0.0167108753 & -0.0149 & -0.0320 &  0.0266 & 9e-04\\\\\n",
       "\\end{tabular}\n"
      ],
      "text/markdown": [
       "\n",
       "A data.frame: 6 × 7\n",
       "\n",
       "| <!--/--> | Week &lt;date&gt; | Weekly_Close &lt;dbl&gt; | Weekly_Return &lt;dbl&gt; | Mkt.RF &lt;dbl&gt; | SMB &lt;dbl&gt; | HML &lt;dbl&gt; | RF &lt;dbl&gt; |\n",
       "|---|---|---|---|---|---|---|---|\n",
       "| 1 | 2023-01-06 | 135.00 |  0.0643330180 |  0.0137 |  0.0027 |  0.0125 | 9e-04 |\n",
       "| 2 | 2023-01-13 | 135.06 |  0.0004444444 |  0.0302 |  0.0337 | -0.0324 | 9e-04 |\n",
       "| 3 | 2023-01-20 | 144.06 |  0.0666370502 | -0.0069 |  0.0012 | -0.0115 | 9e-04 |\n",
       "| 4 | 2023-01-27 | 147.09 |  0.0210329030 |  0.0257 | -0.0009 | -0.0122 | 9e-04 |\n",
       "| 5 | 2023-02-03 | 150.80 |  0.0252226528 |  0.0181 |  0.0354 | -0.0199 | 9e-04 |\n",
       "| 6 | 2023-02-10 | 148.28 | -0.0167108753 | -0.0149 | -0.0320 |  0.0266 | 9e-04 |\n",
       "\n"
      ],
      "text/plain": [
       "  Week       Weekly_Close Weekly_Return Mkt.RF  SMB     HML     RF   \n",
       "1 2023-01-06 135.00        0.0643330180  0.0137  0.0027  0.0125 9e-04\n",
       "2 2023-01-13 135.06        0.0004444444  0.0302  0.0337 -0.0324 9e-04\n",
       "3 2023-01-20 144.06        0.0666370502 -0.0069  0.0012 -0.0115 9e-04\n",
       "4 2023-01-27 147.09        0.0210329030  0.0257 -0.0009 -0.0122 9e-04\n",
       "5 2023-02-03 150.80        0.0252226528  0.0181  0.0354 -0.0199 9e-04\n",
       "6 2023-02-10 148.28       -0.0167108753 -0.0149 -0.0320  0.0266 9e-04"
      ]
     },
     "metadata": {},
     "output_type": "display_data"
    }
   ],
   "source": [
    "# merge the data\n",
    "merged_data <- merge(rearrange_wdc_data, fama_french_data, by.x = \"Week\", by.y = \"datadate\") \n",
    "\n",
    "# display the merged data\n",
    "head(merged_data)"
   ]
  },
  {
   "cell_type": "code",
   "execution_count": 54,
   "id": "cb678bee",
   "metadata": {
    "vscode": {
     "languageId": "r"
    }
   },
   "outputs": [],
   "source": [
    "# calculate excess returns\n",
    "merged_data <- merged_data %>%\n",
    "  mutate(Excess_Return = Weekly_Return - Mkt.RF)"
   ]
  },
  {
   "cell_type": "code",
   "execution_count": 55,
   "id": "c50811e5",
   "metadata": {
    "vscode": {
     "languageId": "r"
    }
   },
   "outputs": [
    {
     "data": {
      "text/plain": [
       "\n",
       "Call:\n",
       "lm(formula = Excess_Return ~ Mkt.RF + SMB + HML, data = merged_data)\n",
       "\n",
       "Residuals:\n",
       "      Min        1Q    Median        3Q       Max \n",
       "-0.061769 -0.021092  0.001118  0.017433  0.063231 \n",
       "\n",
       "Coefficients:\n",
       "             Estimate Std. Error t value Pr(>|t|)    \n",
       "(Intercept)  0.006137   0.002632   2.332   0.0217 *  \n",
       "Mkt.RF      -0.760352   0.152090  -4.999 2.52e-06 ***\n",
       "SMB         -0.123988   0.172396  -0.719   0.4737    \n",
       "HML          0.080787   0.153443   0.526   0.5997    \n",
       "---\n",
       "Signif. codes:  0 ‘***’ 0.001 ‘**’ 0.01 ‘*’ 0.05 ‘.’ 0.1 ‘ ’ 1\n",
       "\n",
       "Residual standard error: 0.02573 on 98 degrees of freedom\n",
       "Multiple R-squared:  0.2763,\tAdjusted R-squared:  0.2541 \n",
       "F-statistic: 12.47 on 3 and 98 DF,  p-value: 5.642e-07\n"
      ]
     },
     "metadata": {},
     "output_type": "display_data"
    }
   ],
   "source": [
    "# model fitting\n",
    "model <- lm(Excess_Return ~ Mkt.RF + SMB + HML, data = merged_data)\n",
    "summary(model)"
   ]
  },
  {
   "cell_type": "markdown",
   "id": "62888d10",
   "metadata": {},
   "source": [
    "# **Analysis Report**\n",
    "\n",
    "This report applied R-based analysis to stock returns and Fama-French 3 factor model.\n"
   ]
  }
 ],
 "metadata": {
  "kernelspec": {
   "display_name": "R",
   "language": "R",
   "name": "ir"
  },
  "language_info": {
   "codemirror_mode": "r",
   "file_extension": ".r",
   "mimetype": "text/x-r-source",
   "name": "R",
   "pygments_lexer": "r",
   "version": "4.3.3"
  }
 },
 "nbformat": 4,
 "nbformat_minor": 5
}
