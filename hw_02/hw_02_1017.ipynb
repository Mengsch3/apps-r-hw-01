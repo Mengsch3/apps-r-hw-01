{
 "cells": [
  {
   "cell_type": "markdown",
   "id": "45c5c98c",
   "metadata": {},
   "source": [
    "---\n",
    "title: \"Application of R for Finance - Assignment 2\"\n",
    "subtitle: \"Stocks Return Analysis and Fama-French 3 Model\"\n",
    "author: Group 30 \n",
    "date: \"17 October 2025\"\n",
    "institute: \"Imperial Business School\"\n",
    "format:\n",
    "  pdf:\n",
    "    fig-cap-location: top\n",
    "    include-in-header:\n",
    "      text: |\n",
    "        \\usepackage[labelfont=bf,textfont=bf]{caption}   \n",
    "execute:\n",
    "  warning: false\n",
    "  message: false\n",
    "---\n",
    "\\newpage\n",
    "\\tableofcontents\n",
    "\\listoffigures\n",
    "\\newpage"
   ]
  },
  {
   "cell_type": "markdown",
   "id": "57f05745",
   "metadata": {},
   "source": [
    "# **Data Preparation**\n",
    "\n",
    "## Required libraries\n",
    "Load the following libraries for data analysis and visualisation.\n"
   ]
  },
  {
   "cell_type": "code",
   "execution_count": 1,
   "id": "f7c709e6",
   "metadata": {
    "vscode": {
     "languageId": "r"
    }
   },
   "outputs": [
    {
     "name": "stderr",
     "output_type": "stream",
     "text": [
      "\n",
      "Attaching package: ‘dplyr’\n",
      "\n",
      "\n",
      "The following objects are masked from ‘package:stats’:\n",
      "\n",
      "    filter, lag\n",
      "\n",
      "\n",
      "The following objects are masked from ‘package:base’:\n",
      "\n",
      "    intersect, setdiff, setequal, union\n",
      "\n",
      "\n",
      "\n",
      "Attaching package: ‘lubridate’\n",
      "\n",
      "\n",
      "The following objects are masked from ‘package:base’:\n",
      "\n",
      "    date, intersect, setdiff, union\n",
      "\n",
      "\n"
     ]
    }
   ],
   "source": [
    "library(dplyr)\n",
    "library(lubridate)\n",
    "library(ggplot2)\n",
    "library(dplyr)"
   ]
  },
  {
   "cell_type": "markdown",
   "id": "9ad5db7f",
   "metadata": {},
   "source": [
    "## Data Frame\n",
    "\n",
    "Load the dataset **sp500_2023_2024.csv** into a data frame.\n",
    "\n",
    "This dataset contains company identifiers, trading information, and classification codes. List below summarises the main variables."
   ]
  },
  {
   "cell_type": "code",
   "execution_count": null,
   "id": "fac2bba9",
   "metadata": {
    "vscode": {
     "languageId": "r"
    }
   },
   "outputs": [],
   "source": [
    "# load the data\n",
    "data <- read.csv(\"sp500_2023_2024.csv\")"
   ]
  },
  {
   "cell_type": "code",
   "execution_count": null,
   "id": "1c3b9e92",
   "metadata": {
    "vscode": {
     "languageId": "r"
    }
   },
   "outputs": [],
   "source": [
    "# remove any rows with NA values in the prcod column"
   ]
  },
  {
   "cell_type": "code",
   "execution_count": null,
   "id": "a6ed4cd4",
   "metadata": {
    "vscode": {
     "languageId": "r"
    }
   },
   "outputs": [
    {
     "data": {
      "text/html": [
       "<table class=\"dataframe\">\n",
       "<caption>A data.frame: 6 × 11</caption>\n",
       "<thead>\n",
       "\t<tr><th></th><th scope=col>tic</th><th scope=col>datadate</th><th scope=col>conm</th><th scope=col>exchg</th><th scope=col>sic</th><th scope=col>cshtrd</th><th scope=col>prccd</th><th scope=col>prchd</th><th scope=col>prcld</th><th scope=col>prcod</th><th scope=col>gvkey</th></tr>\n",
       "\t<tr><th></th><th scope=col>&lt;chr&gt;</th><th scope=col>&lt;chr&gt;</th><th scope=col>&lt;chr&gt;</th><th scope=col>&lt;int&gt;</th><th scope=col>&lt;int&gt;</th><th scope=col>&lt;dbl&gt;</th><th scope=col>&lt;dbl&gt;</th><th scope=col>&lt;dbl&gt;</th><th scope=col>&lt;dbl&gt;</th><th scope=col>&lt;dbl&gt;</th><th scope=col>&lt;int&gt;</th></tr>\n",
       "</thead>\n",
       "<tbody>\n",
       "\t<tr><th scope=row>1</th><td>PNW</td><td>03/01/2023</td><td>PINNACLE WEST CAPITAL CORP</td><td>11</td><td>4911</td><td>1442534</td><td>74.63</td><td>76.4125</td><td>73.380</td><td>76.25</td><td>1075</td></tr>\n",
       "\t<tr><th scope=row>2</th><td>PNW</td><td>04/01/2023</td><td>PINNACLE WEST CAPITAL CORP</td><td>11</td><td>4911</td><td> 954218</td><td>75.39</td><td>76.0950</td><td>74.630</td><td>75.10</td><td>1075</td></tr>\n",
       "\t<tr><th scope=row>3</th><td>PNW</td><td>05/01/2023</td><td>PINNACLE WEST CAPITAL CORP</td><td>11</td><td>4911</td><td> 994775</td><td>73.65</td><td>75.0950</td><td>73.305</td><td>74.88</td><td>1075</td></tr>\n",
       "\t<tr><th scope=row>4</th><td>PNW</td><td>06/01/2023</td><td>PINNACLE WEST CAPITAL CORP</td><td>11</td><td>4911</td><td> 729808</td><td>75.46</td><td>76.0200</td><td>74.480</td><td>74.49</td><td>1075</td></tr>\n",
       "\t<tr><th scope=row>5</th><td>PNW</td><td>09/01/2023</td><td>PINNACLE WEST CAPITAL CORP</td><td>11</td><td>4911</td><td> 656127</td><td>75.55</td><td>76.4800</td><td>75.240</td><td>75.24</td><td>1075</td></tr>\n",
       "\t<tr><th scope=row>6</th><td>PNW</td><td>10/01/2023</td><td>PINNACLE WEST CAPITAL CORP</td><td>11</td><td>4911</td><td> 763254</td><td>75.65</td><td>75.6950</td><td>74.880</td><td>75.31</td><td>1075</td></tr>\n",
       "</tbody>\n",
       "</table>\n"
      ],
      "text/latex": [
       "A data.frame: 6 × 11\n",
       "\\begin{tabular}{r|lllllllllll}\n",
       "  & tic & datadate & conm & exchg & sic & cshtrd & prccd & prchd & prcld & prcod & gvkey\\\\\n",
       "  & <chr> & <chr> & <chr> & <int> & <int> & <dbl> & <dbl> & <dbl> & <dbl> & <dbl> & <int>\\\\\n",
       "\\hline\n",
       "\t1 & PNW & 03/01/2023 & PINNACLE WEST CAPITAL CORP & 11 & 4911 & 1442534 & 74.63 & 76.4125 & 73.380 & 76.25 & 1075\\\\\n",
       "\t2 & PNW & 04/01/2023 & PINNACLE WEST CAPITAL CORP & 11 & 4911 &  954218 & 75.39 & 76.0950 & 74.630 & 75.10 & 1075\\\\\n",
       "\t3 & PNW & 05/01/2023 & PINNACLE WEST CAPITAL CORP & 11 & 4911 &  994775 & 73.65 & 75.0950 & 73.305 & 74.88 & 1075\\\\\n",
       "\t4 & PNW & 06/01/2023 & PINNACLE WEST CAPITAL CORP & 11 & 4911 &  729808 & 75.46 & 76.0200 & 74.480 & 74.49 & 1075\\\\\n",
       "\t5 & PNW & 09/01/2023 & PINNACLE WEST CAPITAL CORP & 11 & 4911 &  656127 & 75.55 & 76.4800 & 75.240 & 75.24 & 1075\\\\\n",
       "\t6 & PNW & 10/01/2023 & PINNACLE WEST CAPITAL CORP & 11 & 4911 &  763254 & 75.65 & 75.6950 & 74.880 & 75.31 & 1075\\\\\n",
       "\\end{tabular}\n"
      ],
      "text/markdown": [
       "\n",
       "A data.frame: 6 × 11\n",
       "\n",
       "| <!--/--> | tic &lt;chr&gt; | datadate &lt;chr&gt; | conm &lt;chr&gt; | exchg &lt;int&gt; | sic &lt;int&gt; | cshtrd &lt;dbl&gt; | prccd &lt;dbl&gt; | prchd &lt;dbl&gt; | prcld &lt;dbl&gt; | prcod &lt;dbl&gt; | gvkey &lt;int&gt; |\n",
       "|---|---|---|---|---|---|---|---|---|---|---|---|\n",
       "| 1 | PNW | 03/01/2023 | PINNACLE WEST CAPITAL CORP | 11 | 4911 | 1442534 | 74.63 | 76.4125 | 73.380 | 76.25 | 1075 |\n",
       "| 2 | PNW | 04/01/2023 | PINNACLE WEST CAPITAL CORP | 11 | 4911 |  954218 | 75.39 | 76.0950 | 74.630 | 75.10 | 1075 |\n",
       "| 3 | PNW | 05/01/2023 | PINNACLE WEST CAPITAL CORP | 11 | 4911 |  994775 | 73.65 | 75.0950 | 73.305 | 74.88 | 1075 |\n",
       "| 4 | PNW | 06/01/2023 | PINNACLE WEST CAPITAL CORP | 11 | 4911 |  729808 | 75.46 | 76.0200 | 74.480 | 74.49 | 1075 |\n",
       "| 5 | PNW | 09/01/2023 | PINNACLE WEST CAPITAL CORP | 11 | 4911 |  656127 | 75.55 | 76.4800 | 75.240 | 75.24 | 1075 |\n",
       "| 6 | PNW | 10/01/2023 | PINNACLE WEST CAPITAL CORP | 11 | 4911 |  763254 | 75.65 | 75.6950 | 74.880 | 75.31 | 1075 |\n",
       "\n"
      ],
      "text/plain": [
       "  tic datadate   conm                       exchg sic  cshtrd  prccd prchd  \n",
       "1 PNW 03/01/2023 PINNACLE WEST CAPITAL CORP 11    4911 1442534 74.63 76.4125\n",
       "2 PNW 04/01/2023 PINNACLE WEST CAPITAL CORP 11    4911  954218 75.39 76.0950\n",
       "3 PNW 05/01/2023 PINNACLE WEST CAPITAL CORP 11    4911  994775 73.65 75.0950\n",
       "4 PNW 06/01/2023 PINNACLE WEST CAPITAL CORP 11    4911  729808 75.46 76.0200\n",
       "5 PNW 09/01/2023 PINNACLE WEST CAPITAL CORP 11    4911  656127 75.55 76.4800\n",
       "6 PNW 10/01/2023 PINNACLE WEST CAPITAL CORP 11    4911  763254 75.65 75.6950\n",
       "  prcld  prcod gvkey\n",
       "1 73.380 76.25 1075 \n",
       "2 74.630 75.10 1075 \n",
       "3 73.305 74.88 1075 \n",
       "4 74.480 74.49 1075 \n",
       "5 75.240 75.24 1075 \n",
       "6 74.880 75.31 1075 "
      ]
     },
     "metadata": {},
     "output_type": "display_data"
    }
   ],
   "source": [
    "# inspect the strucutre\n",
    "head(data)"
   ]
  },
  {
   "cell_type": "markdown",
   "id": "91b71b18",
   "metadata": {},
   "source": [
    "# **Part I - Q&A**\n",
    "\n",
    "In the first section, several key features are first calculated to provide deeper insights for analysis. Then, we interrogate the data following the Assignment Specification.\n",
    "\n",
    "## Indicators Calculation"
   ]
  },
  {
   "cell_type": "code",
   "execution_count": 12,
   "id": "69596744",
   "metadata": {
    "vscode": {
     "languageId": "r"
    }
   },
   "outputs": [
    {
     "name": "stderr",
     "output_type": "stream",
     "text": [
      "\u001b[1m\u001b[22m`summarise()` has grouped output by 'tic'. You can override using the `.groups`\n",
      "argument.\n"
     ]
    }
   ],
   "source": [
    "# Calculate simple weekly returns for each ticker in the full dataset\n",
    "weekly_returns <- data %>%\n",
    "  mutate(datadate = as.Date(datadate, format = \"%d/%m/%Y\")) %>%\n",
    "  group_by(tic) %>%\n",
    "  arrange(datadate) %>%\n",
    "  mutate(Week = floor_date(datadate, unit = \"week\")) %>%\n",
    "  group_by(tic, Week) %>%\n",
    "  summarise(Weekly_Close = last(prccd)) %>%\n",
    "  arrange(tic, Week) %>%\n",
    "  mutate(Weekly_Return = (Weekly_Close / lag(Weekly_Close)) - 1) %>%\n",
    "  ungroup()"
   ]
  },
  {
   "cell_type": "code",
   "execution_count": null,
   "id": "1985f1f7",
   "metadata": {
    "vscode": {
     "languageId": "r"
    }
   },
   "outputs": [],
   "source": []
  },
  {
   "cell_type": "markdown",
   "id": "f85c5cb7",
   "metadata": {},
   "source": [
    "## Answers of Questions\n",
    "### Q1 - Unique tickers"
   ]
  },
  {
   "cell_type": "code",
   "execution_count": null,
   "id": "6f2a2193",
   "metadata": {
    "vscode": {
     "languageId": "r"
    }
   },
   "outputs": [],
   "source": [
    "# indentify the amount of unique tickers"
   ]
  },
  {
   "cell_type": "markdown",
   "id": "7a95e017",
   "metadata": {},
   "source": [
    "### Q2 - Unique companies\n"
   ]
  },
  {
   "cell_type": "code",
   "execution_count": null,
   "id": "c865a5ff",
   "metadata": {
    "vscode": {
     "languageId": "r"
    }
   },
   "outputs": [],
   "source": [
    "# indentify the amount of unique companies"
   ]
  },
  {
   "cell_type": "markdown",
   "id": "aa1e65f4",
   "metadata": {},
   "source": [
    "### Q3 - Top 5 Mean Trading Volume Companies"
   ]
  },
  {
   "cell_type": "code",
   "execution_count": null,
   "id": "2b60e157",
   "metadata": {
    "vscode": {
     "languageId": "r"
    }
   },
   "outputs": [],
   "source": [
    "# indentify the top 5 companies by largest mean trading volume\n",
    "\n",
    "# display in a table"
   ]
  },
  {
   "cell_type": "markdown",
   "id": "ce5b9dfd",
   "metadata": {},
   "source": [
    "### Q4 - Top 3 Total Trading Volume Exchanges"
   ]
  },
  {
   "cell_type": "code",
   "execution_count": null,
   "id": "b39698db",
   "metadata": {
    "vscode": {
     "languageId": "r"
    }
   },
   "outputs": [],
   "source": [
    "# indentify the top 3 exchanges by total largest total trading volume\n",
    "\n",
    "# display in a table"
   ]
  },
  {
   "cell_type": "markdown",
   "id": "e6cd5154",
   "metadata": {},
   "source": [
    "### Q5 - Visualisation of Top 3 Total Trading Volume Exchanges"
   ]
  },
  {
   "cell_type": "code",
   "execution_count": null,
   "id": "8c547d3d",
   "metadata": {
    "vscode": {
     "languageId": "r"
    }
   },
   "outputs": [],
   "source": [
    "# display in a bar plot"
   ]
  },
  {
   "cell_type": "markdown",
   "id": "a30de730",
   "metadata": {},
   "source": [
    "### Q6 - Companies with More Than One Ticker"
   ]
  },
  {
   "cell_type": "code",
   "execution_count": null,
   "id": "5d03a99a",
   "metadata": {
    "vscode": {
     "languageId": "r"
    }
   },
   "outputs": [],
   "source": [
    "# indentify companies have more than one ticker"
   ]
  },
  {
   "cell_type": "markdown",
   "id": "a337d063",
   "metadata": {},
   "source": [
    "### Q7 - Ticker with the Largest Positive Mean Return"
   ]
  },
  {
   "cell_type": "code",
   "execution_count": null,
   "id": "712e024a",
   "metadata": {
    "vscode": {
     "languageId": "r"
    }
   },
   "outputs": [],
   "source": [
    "# indentify the ticker with the largest positive mean return (simple daily return)"
   ]
  },
  {
   "cell_type": "markdown",
   "id": "143d427e",
   "metadata": {},
   "source": [
    "### Q8 - Company with the Largest Positive Mean Return"
   ]
  },
  {
   "cell_type": "code",
   "execution_count": null,
   "id": "423af036",
   "metadata": {
    "vscode": {
     "languageId": "r"
    }
   },
   "outputs": [],
   "source": [
    "# indentify the company with the largest positive mean return (simple daily return)"
   ]
  },
  {
   "cell_type": "markdown",
   "id": "b843e668",
   "metadata": {},
   "source": [
    "### Q9 - Industry Represented by the Most Companies"
   ]
  },
  {
   "cell_type": "code",
   "execution_count": null,
   "id": "651f6006",
   "metadata": {
    "vscode": {
     "languageId": "r"
    }
   },
   "outputs": [],
   "source": [
    "# indentify the industry is represented by the most companies"
   ]
  },
  {
   "cell_type": "markdown",
   "id": "e7ac8456",
   "metadata": {},
   "source": [
    "# **Part II - Extended Analysis**\n",
    "\n",
    "In the second section, we first calculate the weekly returns with following formulas to carry out the extended analysis. After categorising the data into decile groups, a specific security is picked for further analysis."
   ]
  },
  {
   "cell_type": "markdown",
   "id": "e5963a05",
   "metadata": {},
   "source": [
    "### Q1 - Weekly Returns"
   ]
  },
  {
   "cell_type": "code",
   "execution_count": null,
   "id": "14f48ecb",
   "metadata": {
    "vscode": {
     "languageId": "r"
    }
   },
   "outputs": [],
   "source": [
    "# calculate the simple weekly returns"
   ]
  },
  {
   "cell_type": "markdown",
   "id": "1385b911",
   "metadata": {},
   "source": [
    "### Q2 - Decile Classification"
   ]
  },
  {
   "cell_type": "code",
   "execution_count": null,
   "id": "a64c7713",
   "metadata": {
    "vscode": {
     "languageId": "r"
    }
   },
   "outputs": [],
   "source": [
    "# categorise data into decile groups, labelled 0%, 10%, 20%, ...\n",
    "\n",
    "# display the result"
   ]
  },
  {
   "cell_type": "markdown",
   "id": "eb5ebf86",
   "metadata": {},
   "source": [
    "### Q3 - Top Ticker in each Decile Group"
   ]
  },
  {
   "cell_type": "code",
   "execution_count": null,
   "id": "24551289",
   "metadata": {
    "vscode": {
     "languageId": "r"
    }
   },
   "outputs": [],
   "source": [
    "# identify the top ticker in each decile group\n",
    "\n",
    "\n",
    "# display the result in a table"
   ]
  },
  {
   "cell_type": "markdown",
   "id": "49abe9d6",
   "metadata": {},
   "source": [
    "### Q4 - Ticker Selection from 60% Decile Group"
   ]
  },
  {
   "cell_type": "code",
   "execution_count": null,
   "id": "970bf9e3",
   "metadata": {
    "vscode": {
     "languageId": "r"
    }
   },
   "outputs": [],
   "source": [
    "# display the 60% decile group\n",
    "\n",
    "# select a specific ticker"
   ]
  },
  {
   "cell_type": "markdown",
   "id": "1c0441e5",
   "metadata": {},
   "source": [
    "### Q5 - Autocorrelation Anlysis"
   ]
  },
  {
   "cell_type": "code",
   "execution_count": null,
   "id": "bc7f9ef4",
   "metadata": {
    "vscode": {
     "languageId": "r"
    }
   },
   "outputs": [],
   "source": [
    "# plot the autocorrelation function for XXX's entire set of weekly returns"
   ]
  },
  {
   "cell_type": "markdown",
   "id": "c3378385",
   "metadata": {},
   "source": [
    "# **Part III - Fama-French 3 Factor Model**\n",
    "\n",
    "In the last section, we first load and clean the the **fama_french_weekly.csv** to provide the weekly Fama-French 3 factors for modelling. Next, the XXX is fitted the Fama-French 3 factor model."
   ]
  },
  {
   "cell_type": "code",
   "execution_count": null,
   "id": "bcd64520",
   "metadata": {
    "vscode": {
     "languageId": "r"
    }
   },
   "outputs": [],
   "source": [
    "# load the data\n"
   ]
  },
  {
   "cell_type": "code",
   "execution_count": null,
   "id": "82868629",
   "metadata": {
    "vscode": {
     "languageId": "r"
    }
   },
   "outputs": [],
   "source": [
    "# clean the data"
   ]
  },
  {
   "cell_type": "code",
   "execution_count": null,
   "id": "c50811e5",
   "metadata": {
    "vscode": {
     "languageId": "r"
    }
   },
   "outputs": [],
   "source": [
    "# model fitting"
   ]
  },
  {
   "cell_type": "markdown",
   "id": "62888d10",
   "metadata": {},
   "source": [
    "# **Analysis Report**\n",
    "\n",
    "This report applied R-based analysis to stock returns and Fama-French 3 factor model.\n"
   ]
  }
 ],
 "metadata": {
  "kernelspec": {
   "display_name": "R",
   "language": "R",
   "name": "ir"
  },
  "language_info": {
   "codemirror_mode": "r",
   "file_extension": ".r",
   "mimetype": "text/x-r-source",
   "name": "R",
   "pygments_lexer": "r",
   "version": "4.3.3"
  }
 },
 "nbformat": 4,
 "nbformat_minor": 5
}
