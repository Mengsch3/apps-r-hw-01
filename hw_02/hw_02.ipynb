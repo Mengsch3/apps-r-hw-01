{
 "cells": [
  {
   "cell_type": "code",
   "execution_count": 1,
   "id": "f7c709e6",
   "metadata": {
    "vscode": {
     "languageId": "r"
    }
   },
   "outputs": [
    {
     "name": "stderr",
     "output_type": "stream",
     "text": [
      "\n",
      "Attaching package: ‘dplyr’\n",
      "\n",
      "\n",
      "The following objects are masked from ‘package:stats’:\n",
      "\n",
      "    filter, lag\n",
      "\n",
      "\n",
      "The following objects are masked from ‘package:base’:\n",
      "\n",
      "    intersect, setdiff, setequal, union\n",
      "\n",
      "\n",
      "\n",
      "Attaching package: ‘lubridate’\n",
      "\n",
      "\n",
      "The following objects are masked from ‘package:base’:\n",
      "\n",
      "    date, intersect, setdiff, union\n",
      "\n",
      "\n"
     ]
    }
   ],
   "source": [
    "library(dplyr)\n",
    "library(lubridate)\n",
    "library(ggplot2)\n",
    "library(dplyr)"
   ]
  },
  {
   "cell_type": "code",
   "execution_count": 2,
   "id": "fac2bba9",
   "metadata": {
    "vscode": {
     "languageId": "r"
    }
   },
   "outputs": [],
   "source": [
    "data <- read.csv(\"sp500_2023_2024.csv\")"
   ]
  },
  {
   "cell_type": "code",
   "execution_count": 3,
   "id": "a6ed4cd4",
   "metadata": {
    "vscode": {
     "languageId": "r"
    }
   },
   "outputs": [
    {
     "data": {
      "text/html": [
       "<table class=\"dataframe\">\n",
       "<caption>A data.frame: 6 × 11</caption>\n",
       "<thead>\n",
       "\t<tr><th></th><th scope=col>tic</th><th scope=col>datadate</th><th scope=col>conm</th><th scope=col>exchg</th><th scope=col>sic</th><th scope=col>cshtrd</th><th scope=col>prccd</th><th scope=col>prchd</th><th scope=col>prcld</th><th scope=col>prcod</th><th scope=col>gvkey</th></tr>\n",
       "\t<tr><th></th><th scope=col>&lt;chr&gt;</th><th scope=col>&lt;chr&gt;</th><th scope=col>&lt;chr&gt;</th><th scope=col>&lt;int&gt;</th><th scope=col>&lt;int&gt;</th><th scope=col>&lt;dbl&gt;</th><th scope=col>&lt;dbl&gt;</th><th scope=col>&lt;dbl&gt;</th><th scope=col>&lt;dbl&gt;</th><th scope=col>&lt;dbl&gt;</th><th scope=col>&lt;int&gt;</th></tr>\n",
       "</thead>\n",
       "<tbody>\n",
       "\t<tr><th scope=row>1</th><td>PNW</td><td>03/01/2023</td><td>PINNACLE WEST CAPITAL CORP</td><td>11</td><td>4911</td><td>1442534</td><td>74.63</td><td>76.4125</td><td>73.380</td><td>76.25</td><td>1075</td></tr>\n",
       "\t<tr><th scope=row>2</th><td>PNW</td><td>04/01/2023</td><td>PINNACLE WEST CAPITAL CORP</td><td>11</td><td>4911</td><td> 954218</td><td>75.39</td><td>76.0950</td><td>74.630</td><td>75.10</td><td>1075</td></tr>\n",
       "\t<tr><th scope=row>3</th><td>PNW</td><td>05/01/2023</td><td>PINNACLE WEST CAPITAL CORP</td><td>11</td><td>4911</td><td> 994775</td><td>73.65</td><td>75.0950</td><td>73.305</td><td>74.88</td><td>1075</td></tr>\n",
       "\t<tr><th scope=row>4</th><td>PNW</td><td>06/01/2023</td><td>PINNACLE WEST CAPITAL CORP</td><td>11</td><td>4911</td><td> 729808</td><td>75.46</td><td>76.0200</td><td>74.480</td><td>74.49</td><td>1075</td></tr>\n",
       "\t<tr><th scope=row>5</th><td>PNW</td><td>09/01/2023</td><td>PINNACLE WEST CAPITAL CORP</td><td>11</td><td>4911</td><td> 656127</td><td>75.55</td><td>76.4800</td><td>75.240</td><td>75.24</td><td>1075</td></tr>\n",
       "\t<tr><th scope=row>6</th><td>PNW</td><td>10/01/2023</td><td>PINNACLE WEST CAPITAL CORP</td><td>11</td><td>4911</td><td> 763254</td><td>75.65</td><td>75.6950</td><td>74.880</td><td>75.31</td><td>1075</td></tr>\n",
       "</tbody>\n",
       "</table>\n"
      ],
      "text/latex": [
       "A data.frame: 6 × 11\n",
       "\\begin{tabular}{r|lllllllllll}\n",
       "  & tic & datadate & conm & exchg & sic & cshtrd & prccd & prchd & prcld & prcod & gvkey\\\\\n",
       "  & <chr> & <chr> & <chr> & <int> & <int> & <dbl> & <dbl> & <dbl> & <dbl> & <dbl> & <int>\\\\\n",
       "\\hline\n",
       "\t1 & PNW & 03/01/2023 & PINNACLE WEST CAPITAL CORP & 11 & 4911 & 1442534 & 74.63 & 76.4125 & 73.380 & 76.25 & 1075\\\\\n",
       "\t2 & PNW & 04/01/2023 & PINNACLE WEST CAPITAL CORP & 11 & 4911 &  954218 & 75.39 & 76.0950 & 74.630 & 75.10 & 1075\\\\\n",
       "\t3 & PNW & 05/01/2023 & PINNACLE WEST CAPITAL CORP & 11 & 4911 &  994775 & 73.65 & 75.0950 & 73.305 & 74.88 & 1075\\\\\n",
       "\t4 & PNW & 06/01/2023 & PINNACLE WEST CAPITAL CORP & 11 & 4911 &  729808 & 75.46 & 76.0200 & 74.480 & 74.49 & 1075\\\\\n",
       "\t5 & PNW & 09/01/2023 & PINNACLE WEST CAPITAL CORP & 11 & 4911 &  656127 & 75.55 & 76.4800 & 75.240 & 75.24 & 1075\\\\\n",
       "\t6 & PNW & 10/01/2023 & PINNACLE WEST CAPITAL CORP & 11 & 4911 &  763254 & 75.65 & 75.6950 & 74.880 & 75.31 & 1075\\\\\n",
       "\\end{tabular}\n"
      ],
      "text/markdown": [
       "\n",
       "A data.frame: 6 × 11\n",
       "\n",
       "| <!--/--> | tic &lt;chr&gt; | datadate &lt;chr&gt; | conm &lt;chr&gt; | exchg &lt;int&gt; | sic &lt;int&gt; | cshtrd &lt;dbl&gt; | prccd &lt;dbl&gt; | prchd &lt;dbl&gt; | prcld &lt;dbl&gt; | prcod &lt;dbl&gt; | gvkey &lt;int&gt; |\n",
       "|---|---|---|---|---|---|---|---|---|---|---|---|\n",
       "| 1 | PNW | 03/01/2023 | PINNACLE WEST CAPITAL CORP | 11 | 4911 | 1442534 | 74.63 | 76.4125 | 73.380 | 76.25 | 1075 |\n",
       "| 2 | PNW | 04/01/2023 | PINNACLE WEST CAPITAL CORP | 11 | 4911 |  954218 | 75.39 | 76.0950 | 74.630 | 75.10 | 1075 |\n",
       "| 3 | PNW | 05/01/2023 | PINNACLE WEST CAPITAL CORP | 11 | 4911 |  994775 | 73.65 | 75.0950 | 73.305 | 74.88 | 1075 |\n",
       "| 4 | PNW | 06/01/2023 | PINNACLE WEST CAPITAL CORP | 11 | 4911 |  729808 | 75.46 | 76.0200 | 74.480 | 74.49 | 1075 |\n",
       "| 5 | PNW | 09/01/2023 | PINNACLE WEST CAPITAL CORP | 11 | 4911 |  656127 | 75.55 | 76.4800 | 75.240 | 75.24 | 1075 |\n",
       "| 6 | PNW | 10/01/2023 | PINNACLE WEST CAPITAL CORP | 11 | 4911 |  763254 | 75.65 | 75.6950 | 74.880 | 75.31 | 1075 |\n",
       "\n"
      ],
      "text/plain": [
       "  tic datadate   conm                       exchg sic  cshtrd  prccd prchd  \n",
       "1 PNW 03/01/2023 PINNACLE WEST CAPITAL CORP 11    4911 1442534 74.63 76.4125\n",
       "2 PNW 04/01/2023 PINNACLE WEST CAPITAL CORP 11    4911  954218 75.39 76.0950\n",
       "3 PNW 05/01/2023 PINNACLE WEST CAPITAL CORP 11    4911  994775 73.65 75.0950\n",
       "4 PNW 06/01/2023 PINNACLE WEST CAPITAL CORP 11    4911  729808 75.46 76.0200\n",
       "5 PNW 09/01/2023 PINNACLE WEST CAPITAL CORP 11    4911  656127 75.55 76.4800\n",
       "6 PNW 10/01/2023 PINNACLE WEST CAPITAL CORP 11    4911  763254 75.65 75.6950\n",
       "  prcld  prcod gvkey\n",
       "1 73.380 76.25 1075 \n",
       "2 74.630 75.10 1075 \n",
       "3 73.305 74.88 1075 \n",
       "4 74.480 74.49 1075 \n",
       "5 75.240 75.24 1075 \n",
       "6 74.880 75.31 1075 "
      ]
     },
     "metadata": {},
     "output_type": "display_data"
    }
   ],
   "source": [
    "head(data)"
   ]
  },
  {
   "cell_type": "markdown",
   "id": "91912d8d",
   "metadata": {},
   "source": [
    "## A2_Questions"
   ]
  },
  {
   "cell_type": "code",
   "execution_count": 4,
   "id": "c08a75ab",
   "metadata": {
    "vscode": {
     "languageId": "r"
    }
   },
   "outputs": [
    {
     "data": {
      "text/html": [
       "502"
      ],
      "text/latex": [
       "502"
      ],
      "text/markdown": [
       "502"
      ],
      "text/plain": [
       "[1] 502"
      ]
     },
     "metadata": {},
     "output_type": "display_data"
    },
    {
     "name": "stdout",
     "output_type": "stream",
     "text": [
      "[1] \"There are 502 unique tickers\"\n"
     ]
    }
   ],
   "source": [
    "# number of unique tickers\n",
    "length(unique(data$tic))\n",
    "print(paste(\"There are\", length(unique(data$tic)), \"unique tickers\"))"
   ]
  },
  {
   "cell_type": "code",
   "execution_count": 5,
   "id": "291d023c",
   "metadata": {
    "vscode": {
     "languageId": "r"
    }
   },
   "outputs": [
    {
     "data": {
      "text/html": [
       "499"
      ],
      "text/latex": [
       "499"
      ],
      "text/markdown": [
       "499"
      ],
      "text/plain": [
       "[1] 499"
      ]
     },
     "metadata": {},
     "output_type": "display_data"
    },
    {
     "name": "stdout",
     "output_type": "stream",
     "text": [
      "[1] \"There are 499 unique companies\"\n"
     ]
    }
   ],
   "source": [
    "# number of unique companies\n",
    "length(unique(data$conm))\n",
    "print(paste(\"There are\", length(unique(data$conm)), \"unique companies\"))"
   ]
  },
  {
   "cell_type": "code",
   "execution_count": 6,
   "id": "02efe621",
   "metadata": {
    "vscode": {
     "languageId": "r"
    }
   },
   "outputs": [
    {
     "name": "stdout",
     "output_type": "stream",
     "text": [
      "\u001b[90m# A tibble: 5 × 2\u001b[39m\n",
      "  conm                   mean_volume\n",
      "  \u001b[3m\u001b[90m<chr>\u001b[39m\u001b[23m                        \u001b[3m\u001b[90m<dbl>\u001b[39m\u001b[23m\n",
      "\u001b[90m1\u001b[39m TESLA INC               115\u001b[4m3\u001b[24m\u001b[4m1\u001b[24m\u001b[4m4\u001b[24m383.\n",
      "\u001b[90m2\u001b[39m NVIDIA CORP             113\u001b[4m1\u001b[24m\u001b[4m3\u001b[24m\u001b[4m1\u001b[24m835.\n",
      "\u001b[90m3\u001b[39m PALANTIR TECHNOLOG INC   60\u001b[4m0\u001b[24m\u001b[4m5\u001b[24m\u001b[4m6\u001b[24m251.\n",
      "\u001b[90m4\u001b[39m APPLE INC                57\u001b[4m7\u001b[24m\u001b[4m3\u001b[24m\u001b[4m6\u001b[24m403.\n",
      "\u001b[90m5\u001b[39m ADVANCED MICRO DEVICES   57\u001b[4m1\u001b[24m\u001b[4m4\u001b[24m\u001b[4m3\u001b[24m415.\n"
     ]
    }
   ],
   "source": [
    "# top 5 companies by largest mean trading volume\n",
    "top_5_volume <- data %>%\n",
    "  group_by(conm) %>%\n",
    "  summarize(mean_volume = mean(cshtrd, na.rm = TRUE)) %>%\n",
    "  arrange(desc(mean_volume)) %>%\n",
    "  slice_head(n = 5)\n",
    "print(top_5_volume)"
   ]
  },
  {
   "cell_type": "code",
   "execution_count": 7,
   "id": "20c0307f",
   "metadata": {
    "vscode": {
     "languageId": "r"
    }
   },
   "outputs": [
    {
     "name": "stdout",
     "output_type": "stream",
     "text": [
      "\u001b[90m# A tibble: 3 × 2\u001b[39m\n",
      "  exchg total_volume\n",
      "  \u001b[3m\u001b[90m<int>\u001b[39m\u001b[23m        \u001b[3m\u001b[90m<dbl>\u001b[39m\u001b[23m\n",
      "\u001b[90m1\u001b[39m    11 \u001b[4m6\u001b[24m\u001b[4m8\u001b[24m\u001b[4m1\u001b[24m415\u001b[4m7\u001b[24m\u001b[4m5\u001b[24m\u001b[4m6\u001b[24m062\n",
      "\u001b[90m2\u001b[39m    14 \u001b[4m5\u001b[24m\u001b[4m7\u001b[24m\u001b[4m0\u001b[24m830\u001b[4m8\u001b[24m\u001b[4m8\u001b[24m\u001b[4m5\u001b[24m382\n",
      "\u001b[90m3\u001b[39m    21    385\u001b[4m3\u001b[24m\u001b[4m9\u001b[24m\u001b[4m9\u001b[24m362\n"
     ]
    }
   ],
   "source": [
    "# total trading volume of the top 3 exchanges by largest total trading volume\n",
    "top_3_exchanges <- data %>%\n",
    "  group_by(exchg) %>%\n",
    "  summarize(total_volume = sum(cshtrd, na.rm = TRUE)) %>%\n",
    "  arrange(desc(total_volume)) %>%\n",
    "  slice_head(n = 3)\n",
    "print(top_3_exchanges)"
   ]
  },
  {
   "cell_type": "code",
   "execution_count": 8,
   "id": "90be3478",
   "metadata": {
    "vscode": {
     "languageId": "r"
    }
   },
   "outputs": [
    {
     "data": {
      "text/html": [
       "<table class=\"dataframe\">\n",
       "<caption>A tibble: 3 × 2</caption>\n",
       "<thead>\n",
       "\t<tr><th scope=col>exchg</th><th scope=col>total_volume</th></tr>\n",
       "\t<tr><th scope=col>&lt;int&gt;</th><th scope=col>&lt;dbl&gt;</th></tr>\n",
       "</thead>\n",
       "<tbody>\n",
       "\t<tr><td>11</td><td>681415756062</td></tr>\n",
       "\t<tr><td>14</td><td>570830885382</td></tr>\n",
       "\t<tr><td>21</td><td>   385399362</td></tr>\n",
       "</tbody>\n",
       "</table>\n"
      ],
      "text/latex": [
       "A tibble: 3 × 2\n",
       "\\begin{tabular}{ll}\n",
       " exchg & total\\_volume\\\\\n",
       " <int> & <dbl>\\\\\n",
       "\\hline\n",
       "\t 11 & 681415756062\\\\\n",
       "\t 14 & 570830885382\\\\\n",
       "\t 21 &    385399362\\\\\n",
       "\\end{tabular}\n"
      ],
      "text/markdown": [
       "\n",
       "A tibble: 3 × 2\n",
       "\n",
       "| exchg &lt;int&gt; | total_volume &lt;dbl&gt; |\n",
       "|---|---|\n",
       "| 11 | 681415756062 |\n",
       "| 14 | 570830885382 |\n",
       "| 21 |    385399362 |\n",
       "\n"
      ],
      "text/plain": [
       "  exchg total_volume\n",
       "1 11    681415756062\n",
       "2 14    570830885382\n",
       "3 21       385399362"
      ]
     },
     "metadata": {},
     "output_type": "display_data"
    }
   ],
   "source": [
    "top_3_exchanges"
   ]
  },
  {
   "cell_type": "code",
   "execution_count": 9,
   "id": "52bfdeb8",
   "metadata": {
    "vscode": {
     "languageId": "r"
    }
   },
   "outputs": [
    {
     "data": {
      "image/png": "[encoded data removed]",
      "text/plain": [
       "plot without title"
      ]
     },
     "metadata": {
      "image/png": {
       "height": 420,
       "width": 420
      }
     },
     "output_type": "display_data"
    }
   ],
   "source": [
    "# visualize previous table in bar plot\n",
    "ggplot(top_3_exchanges, aes(x = as.factor(exchg), y = total_volume)) +\n",
    "    geom_bar(stat = \"identity\", fill = \"steelblue\") +\n",
    "    labs(title = \"Top 3 Exchanges by Total Trading Volume\",\n",
    "             x = \"Exchange\",\n",
    "             y = \"Total Trading Volume\") +\n",
    "    theme_minimal()"
   ]
  },
  {
   "cell_type": "code",
   "execution_count": 10,
   "id": "50f89ef0",
   "metadata": {
    "vscode": {
     "languageId": "r"
    }
   },
   "outputs": [
    {
     "name": "stdout",
     "output_type": "stream",
     "text": [
      "\u001b[90m# A tibble: 3 × 2\u001b[39m\n",
      "  conm         ticker_count\n",
      "  \u001b[3m\u001b[90m<chr>\u001b[39m\u001b[23m               \u001b[3m\u001b[90m<int>\u001b[39m\u001b[23m\n",
      "\u001b[90m1\u001b[39m ALPHABET INC            2\n",
      "\u001b[90m2\u001b[39m FOX CORP                2\n",
      "\u001b[90m3\u001b[39m NEWS CORP               2\n"
     ]
    }
   ],
   "source": [
    "# number of companies have more than one ticker\n",
    "ticker_counts <- data %>%\n",
    "  group_by(conm) %>%\n",
    "  summarize(ticker_count = n_distinct(tic)) %>%\n",
    "  filter(ticker_count > 1)\n",
    "print(ticker_counts)"
   ]
  },
  {
   "cell_type": "code",
   "execution_count": 11,
   "id": "5b9b4668",
   "metadata": {
    "vscode": {
     "languageId": "r"
    }
   },
   "outputs": [
    {
     "name": "stdout",
     "output_type": "stream",
     "text": [
      "\u001b[90m# A tibble: 1 × 2\u001b[39m\n",
      "  tic   mean_return\n",
      "  \u001b[3m\u001b[90m<chr>\u001b[39m\u001b[23m       \u001b[3m\u001b[90m<dbl>\u001b[39m\u001b[23m\n",
      "\u001b[90m1\u001b[39m PLTR      0.005\u001b[4m7\u001b[24m\u001b[4m9\u001b[24m\n"
     ]
    }
   ],
   "source": [
    "# ticker has the largest positive mean return\n",
    "mean_returns <- data %>%\n",
    "  group_by(tic) %>%\n",
    "  mutate(ret = (prccd - lag(prccd)) / lag(prccd)) %>%\n",
    "  summarize(mean_return = mean(ret, na.rm = TRUE)) %>%\n",
    "  arrange(desc(mean_return)) %>%\n",
    "  slice_head(n = 1)\n",
    "print(mean_returns)"
   ]
  },
  {
   "cell_type": "code",
   "execution_count": 12,
   "id": "860ad3bf",
   "metadata": {
    "vscode": {
     "languageId": "r"
    }
   },
   "outputs": [
    {
     "name": "stdout",
     "output_type": "stream",
     "text": [
      "\u001b[90m# A tibble: 1 × 2\u001b[39m\n",
      "  conm                   mean_return\n",
      "  \u001b[3m\u001b[90m<chr>\u001b[39m\u001b[23m                        \u001b[3m\u001b[90m<dbl>\u001b[39m\u001b[23m\n",
      "\u001b[90m1\u001b[39m PALANTIR TECHNOLOG INC     0.005\u001b[4m7\u001b[24m\u001b[4m9\u001b[24m\n"
     ]
    }
   ],
   "source": [
    "# company has the largest positive mean return\n",
    "mean_returns_company <- data %>%\n",
    "  group_by(conm) %>%\n",
    "  mutate(ret = (prccd - lag(prccd)) / lag(prccd)) %>%\n",
    "  summarize(mean_return = mean(ret, na.rm = TRUE)) %>%\n",
    "  arrange(desc(mean_return)) %>%\n",
    "  slice_head(n = 1)\n",
    "print(mean_returns_company)"
   ]
  },
  {
   "cell_type": "code",
   "execution_count": 13,
   "id": "92b16c6a",
   "metadata": {
    "vscode": {
     "languageId": "r"
    }
   },
   "outputs": [
    {
     "name": "stdout",
     "output_type": "stream",
     "text": [
      "\u001b[90m# A tibble: 1 × 2\u001b[39m\n",
      "    sic company_count\n",
      "  \u001b[3m\u001b[90m<int>\u001b[39m\u001b[23m         \u001b[3m\u001b[90m<int>\u001b[39m\u001b[23m\n",
      "\u001b[90m1\u001b[39m  \u001b[4m6\u001b[24m798            28\n"
     ]
    }
   ],
   "source": [
    "# industry represented by the most companies\n",
    "industry_counts <- data %>%\n",
    "  group_by(sic) %>%\n",
    "  summarize(company_count = n_distinct(conm)) %>%\n",
    "  arrange(desc(company_count)) %>%\n",
    "  slice_head(n = 1)\n",
    "print(industry_counts)"
   ]
  },
  {
   "cell_type": "markdown",
   "id": "9c3a34a2",
   "metadata": {},
   "source": [
    "## A2_Analysis"
   ]
  },
  {
   "cell_type": "code",
   "execution_count": 14,
   "id": "69596744",
   "metadata": {
    "vscode": {
     "languageId": "r"
    }
   },
   "outputs": [
    {
     "name": "stderr",
     "output_type": "stream",
     "text": [
      "\u001b[1m\u001b[22m`summarise()` has grouped output by 'tic'. You can override using the `.groups`\n",
      "argument.\n"
     ]
    }
   ],
   "source": [
    "# Calculate simple weekly returns for each ticker in the full dataset\n",
    "weekly_returns <- data %>%\n",
    "  mutate(datadate = as.Date(datadate, format = \"%d/%m/%Y\")) %>%\n",
    "  group_by(tic) %>%\n",
    "  arrange(datadate) %>%\n",
    "  mutate(Week = floor_date(datadate, unit = \"week\")) %>%\n",
    "  group_by(tic, Week) %>%\n",
    "  summarise(Weekly_Close = last(prccd)) %>%\n",
    "  arrange(tic, Week) %>%\n",
    "  mutate(Weekly_Return = (Weekly_Close / lag(Weekly_Close)) - 1) %>%\n",
    "  ungroup()"
   ]
  },
  {
   "cell_type": "code",
   "execution_count": 15,
   "id": "1985f1f7",
   "metadata": {
    "vscode": {
     "languageId": "r"
    }
   },
   "outputs": [],
   "source": [
    "# Categorise your data into decile groups based on simple weekly returns, labelled 0%, 10%, 20%, without removing zeroes\n",
    "quantile_result <- weekly_returns %>%\n",
    "  mutate(\n",
    "    deciles = cut(\n",
    "      Weekly_Return,\n",
    "      breaks = quantile(\n",
    "        Weekly_Return,\n",
    "        probs = c(0, 0.1, 0.2, 0.3, 0.4, 0.5, 0.6, 0.7, 0.8, 0.9, 1),\n",
    "        type = 5,\n",
    "        na.rm = TRUE\n",
    "      ),\n",
    "      include.lowest = TRUE,\n",
    "      labels = c(\"0%\", \"10%\", \"20%\", \"30%\", \"40%\", \"50%\", \"60%\", \"70%\", \"80%\", \"90%\")\n",
    "    )\n",
    "  )"
   ]
  },
  {
   "cell_type": "code",
   "execution_count": 16,
   "id": "9b333ecb",
   "metadata": {
    "vscode": {
     "languageId": "r"
    }
   },
   "outputs": [
    {
     "data": {
      "text/html": [
       "<table class=\"dataframe\">\n",
       "<caption>A tibble: 6 × 5</caption>\n",
       "<thead>\n",
       "\t<tr><th scope=col>tic</th><th scope=col>Week</th><th scope=col>Weekly_Close</th><th scope=col>Weekly_Return</th><th scope=col>deciles</th></tr>\n",
       "\t<tr><th scope=col>&lt;chr&gt;</th><th scope=col>&lt;date&gt;</th><th scope=col>&lt;dbl&gt;</th><th scope=col>&lt;dbl&gt;</th><th scope=col>&lt;fct&gt;</th></tr>\n",
       "</thead>\n",
       "<tbody>\n",
       "\t<tr><td>A</td><td>2023-01-01</td><td>147.67</td><td>          NA</td><td>NA </td></tr>\n",
       "\t<tr><td>A</td><td>2023-01-08</td><td>156.92</td><td> 0.062639670</td><td>90%</td></tr>\n",
       "\t<tr><td>A</td><td>2023-01-15</td><td>155.92</td><td>-0.006372674</td><td>30%</td></tr>\n",
       "\t<tr><td>A</td><td>2023-01-22</td><td>155.69</td><td>-0.001475115</td><td>40%</td></tr>\n",
       "\t<tr><td>A</td><td>2023-01-29</td><td>154.55</td><td>-0.007322243</td><td>30%</td></tr>\n",
       "\t<tr><td>A</td><td>2023-02-05</td><td>152.55</td><td>-0.012940796</td><td>30%</td></tr>\n",
       "</tbody>\n",
       "</table>\n"
      ],
      "text/latex": [
       "A tibble: 6 × 5\n",
       "\\begin{tabular}{lllll}\n",
       " tic & Week & Weekly\\_Close & Weekly\\_Return & deciles\\\\\n",
       " <chr> & <date> & <dbl> & <dbl> & <fct>\\\\\n",
       "\\hline\n",
       "\t A & 2023-01-01 & 147.67 &           NA & NA \\\\\n",
       "\t A & 2023-01-08 & 156.92 &  0.062639670 & 90\\%\\\\\n",
       "\t A & 2023-01-15 & 155.92 & -0.006372674 & 30\\%\\\\\n",
       "\t A & 2023-01-22 & 155.69 & -0.001475115 & 40\\%\\\\\n",
       "\t A & 2023-01-29 & 154.55 & -0.007322243 & 30\\%\\\\\n",
       "\t A & 2023-02-05 & 152.55 & -0.012940796 & 30\\%\\\\\n",
       "\\end{tabular}\n"
      ],
      "text/markdown": [
       "\n",
       "A tibble: 6 × 5\n",
       "\n",
       "| tic &lt;chr&gt; | Week &lt;date&gt; | Weekly_Close &lt;dbl&gt; | Weekly_Return &lt;dbl&gt; | deciles &lt;fct&gt; |\n",
       "|---|---|---|---|---|\n",
       "| A | 2023-01-01 | 147.67 |           NA | NA  |\n",
       "| A | 2023-01-08 | 156.92 |  0.062639670 | 90% |\n",
       "| A | 2023-01-15 | 155.92 | -0.006372674 | 30% |\n",
       "| A | 2023-01-22 | 155.69 | -0.001475115 | 40% |\n",
       "| A | 2023-01-29 | 154.55 | -0.007322243 | 30% |\n",
       "| A | 2023-02-05 | 152.55 | -0.012940796 | 30% |\n",
       "\n"
      ],
      "text/plain": [
       "  tic Week       Weekly_Close Weekly_Return deciles\n",
       "1 A   2023-01-01 147.67                 NA  NA     \n",
       "2 A   2023-01-08 156.92        0.062639670  90%    \n",
       "3 A   2023-01-15 155.92       -0.006372674  30%    \n",
       "4 A   2023-01-22 155.69       -0.001475115  40%    \n",
       "5 A   2023-01-29 154.55       -0.007322243  30%    \n",
       "6 A   2023-02-05 152.55       -0.012940796  30%    "
      ]
     },
     "metadata": {},
     "output_type": "display_data"
    }
   ],
   "source": [
    "head(quantile_result)"
   ]
  },
  {
   "cell_type": "code",
   "execution_count": 17,
   "id": "2fa0b9dd",
   "metadata": {
    "vscode": {
     "languageId": "r"
    }
   },
   "outputs": [
    {
     "name": "stdout",
     "output_type": "stream",
     "text": [
      "\u001b[90m# A tibble: 12 × 3\u001b[39m\n",
      "\u001b[90m# Groups:   deciles [10]\u001b[39m\n",
      "   deciles tic   Weekly_Return\n",
      "   \u001b[3m\u001b[90m<fct>\u001b[39m\u001b[23m   \u001b[3m\u001b[90m<chr>\u001b[39m\u001b[23m         \u001b[3m\u001b[90m<dbl>\u001b[39m\u001b[23m\n",
      "\u001b[90m 1\u001b[39m 0%      DVN        -\u001b[31m0\u001b[39m\u001b[31m.\u001b[39m\u001b[31m0\u001b[39m\u001b[31m41\u001b[4m5\u001b[24m\u001b[39m \n",
      "\u001b[90m 2\u001b[39m 10%     WBD        -\u001b[31m0\u001b[39m\u001b[31m.\u001b[39m\u001b[31m0\u001b[39m\u001b[31m24\u001b[4m8\u001b[24m\u001b[39m \n",
      "\u001b[90m 3\u001b[39m 20%     CNC        -\u001b[31m0\u001b[39m\u001b[31m.\u001b[39m\u001b[31m0\u001b[39m\u001b[31m14\u001b[4m1\u001b[24m\u001b[39m \n",
      "\u001b[90m 4\u001b[39m 20%     TRMB       -\u001b[31m0\u001b[39m\u001b[31m.\u001b[39m\u001b[31m0\u001b[39m\u001b[31m14\u001b[4m1\u001b[24m\u001b[39m \n",
      "\u001b[90m 5\u001b[39m 30%     GLW        -\u001b[31m0\u001b[39m\u001b[31m.\u001b[39m\u001b[31m00\u001b[39m\u001b[31m5\u001b[4m4\u001b[24m\u001b[4m4\u001b[24m\u001b[39m\n",
      "\u001b[90m 6\u001b[39m 30%     PPL        -\u001b[31m0\u001b[39m\u001b[31m.\u001b[39m\u001b[31m00\u001b[39m\u001b[31m5\u001b[4m4\u001b[24m\u001b[4m4\u001b[24m\u001b[39m\n",
      "\u001b[90m 7\u001b[39m 40%     AXP         0.002\u001b[4m2\u001b[24m\u001b[4m8\u001b[24m\n",
      "\u001b[90m 8\u001b[39m 50%     AZO         0.010\u001b[4m1\u001b[24m \n",
      "\u001b[90m 9\u001b[39m 60%     WDC         0.018\u001b[4m5\u001b[24m \n",
      "\u001b[90m10\u001b[39m 70%     PPG         0.029\u001b[4m2\u001b[24m \n",
      "\u001b[90m11\u001b[39m 80%     SJM         0.047\u001b[4m0\u001b[24m \n",
      "\u001b[90m12\u001b[39m 90%     SMCI        0.784  \n"
     ]
    }
   ],
   "source": [
    "# Display a table showing the top ticker (the ticker with the highest weekly return) in each decile group\n",
    "top_tickers <- quantile_result %>%\n",
    "  group_by(deciles) %>%\n",
    "  filter(Weekly_Return == max(Weekly_Return)) %>%\n",
    "  select(deciles, tic, Weekly_Return) %>%\n",
    "  arrange(deciles)\n",
    "print(top_tickers)"
   ]
  },
  {
   "cell_type": "code",
   "execution_count": 18,
   "id": "412fa3d6",
   "metadata": {
    "vscode": {
     "languageId": "r"
    }
   },
   "outputs": [
    {
     "name": "stdout",
     "output_type": "stream",
     "text": [
      "[1] \"WDC\"\n"
     ]
    }
   ],
   "source": [
    "# Select the top ticker from the 60% decile group.\n",
    "top_60_ticker <- top_tickers %>%\n",
    "  filter(deciles == \"60%\")\n",
    "print(top_60_ticker$tic)"
   ]
  },
  {
   "cell_type": "code",
   "execution_count": 19,
   "id": "763b2f12",
   "metadata": {
    "vscode": {
     "languageId": "r"
    }
   },
   "outputs": [
    {
     "data": {
      "image/png": "[encoded data removed]",
      "text/plain": [
       "Plot with title “Autocorrelation WDC Weekly Returns”"
      ]
     },
     "metadata": {
      "image/png": {
       "height": 420,
       "width": 420
      }
     },
     "output_type": "display_data"
    }
   ],
   "source": [
    "wdc_data <- weekly_returns %>%\n",
    "  filter(tic == \"WDC\") %>%\n",
    "  na.omit()\n",
    "\n",
    "# Autocorrelate, add a main title\n",
    "acf(wdc_data$Weekly_Return, main = \"Autocorrelation WDC Weekly Returns\")"
   ]
  },
  {
   "cell_type": "markdown",
   "id": "d4d008ac",
   "metadata": {},
   "source": [
    "## A2_Regression"
   ]
  },
  {
   "cell_type": "code",
   "execution_count": 20,
   "id": "0c37eb0a",
   "metadata": {
    "vscode": {
     "languageId": "r"
    }
   },
   "outputs": [],
   "source": [
    "# Load and clean the weekly Fama-French 3 factor data in fama_french_weekly. csv.\n",
    "fama_french_data <- read.csv(\"fama_french_weekly.csv\", skip=4)"
   ]
  },
  {
   "cell_type": "code",
   "execution_count": 21,
   "id": "e1736361",
   "metadata": {
    "vscode": {
     "languageId": "r"
    }
   },
   "outputs": [],
   "source": [
    "fama_french_data$datadate <- as.Date(as.character(fama_french_data$X), format=\"%Y%m%d\")\n",
    "fama_french_data <- select(fama_french_data, datadate, Mkt.RF, SMB, HML, RF)"
   ]
  },
  {
   "cell_type": "code",
   "execution_count": 22,
   "id": "5ec41d91",
   "metadata": {
    "vscode": {
     "languageId": "r"
    }
   },
   "outputs": [],
   "source": [
    "# for each column except datadate, divided by 100 to convert to decimal format\n",
    "fama_french_data <- fama_french_data %>%\n",
    "  mutate(across(-datadate, ~ . / 100))"
   ]
  },
  {
   "cell_type": "code",
   "execution_count": null,
   "id": "27a8766d",
   "metadata": {
    "vscode": {
     "languageId": "r"
    }
   },
   "outputs": [
    {
     "data": {
      "text/html": [
       "<table class=\"dataframe\">\n",
       "<caption>A data.frame: 1 × 5</caption>\n",
       "<thead>\n",
       "\t<tr><th scope=col>datadate</th><th scope=col>Mkt.RF</th><th scope=col>SMB</th><th scope=col>HML</th><th scope=col>RF</th></tr>\n",
       "\t<tr><th scope=col>&lt;date&gt;</th><th scope=col>&lt;dbl&gt;</th><th scope=col>&lt;dbl&gt;</th><th scope=col>&lt;dbl&gt;</th><th scope=col>&lt;dbl&gt;</th></tr>\n",
       "</thead>\n",
       "<tbody>\n",
       "\t<tr><td>2023-01-06</td><td>0.0137</td><td>0.0027</td><td>0.0125</td><td>9e-04</td></tr>\n",
       "</tbody>\n",
       "</table>\n"
      ],
      "text/latex": [
       "A data.frame: 1 × 5\n",
       "\\begin{tabular}{lllll}\n",
       " datadate & Mkt.RF & SMB & HML & RF\\\\\n",
       " <date> & <dbl> & <dbl> & <dbl> & <dbl>\\\\\n",
       "\\hline\n",
       "\t 2023-01-06 & 0.0137 & 0.0027 & 0.0125 & 9e-04\\\\\n",
       "\\end{tabular}\n"
      ],
      "text/markdown": [
       "\n",
       "A data.frame: 1 × 5\n",
       "\n",
       "| datadate &lt;date&gt; | Mkt.RF &lt;dbl&gt; | SMB &lt;dbl&gt; | HML &lt;dbl&gt; | RF &lt;dbl&gt; |\n",
       "|---|---|---|---|---|\n",
       "| 2023-01-06 | 0.0137 | 0.0027 | 0.0125 | 9e-04 |\n",
       "\n"
      ],
      "text/plain": [
       "  datadate   Mkt.RF SMB    HML    RF   \n",
       "1 2023-01-06 0.0137 0.0027 0.0125 9e-04"
      ]
     },
     "metadata": {},
     "output_type": "display_data"
    }
   ],
   "source": [
    "fama_french_data %>%\n",
    "    filter(datadate >= as.Date(\"2023-01-01\")) %>%\n",
    "    slice(1)"
   ]
  },
  {
   "cell_type": "code",
   "execution_count": 52,
   "id": "7259ca8c",
   "metadata": {
    "vscode": {
     "languageId": "r"
    }
   },
   "outputs": [],
   "source": [
    "rearrange_wdc_data <- data %>%\n",
    "  filter(tic == \"WDC\") %>%\n",
    "  mutate(datadate = as.Date(datadate, format = \"%d/%m/%Y\")) %>%\n",
    "  arrange(datadate)"
   ]
  },
  {
   "cell_type": "code",
   "execution_count": 53,
   "id": "6c9bd5bb",
   "metadata": {
    "vscode": {
     "languageId": "r"
    }
   },
   "outputs": [],
   "source": [
    "# calculate the weekly returns for WDC and make sure the datadate is aligned with Fama-French data\n",
    "rearrange_wdc_data <- rearrange_wdc_data %>%\n",
    "  mutate(Week = floor_date(datadate, unit = \"week\", week_start = 5)) %>%\n",
    "  group_by(Week) %>%\n",
    "  summarise(Weekly_Close = last(prccd)) %>%\n",
    "  arrange(Week) %>%\n",
    "  mutate(Weekly_Return = (Weekly_Close / lag(Weekly_Close)) - 1) %>%\n",
    "  na.omit()"
   ]
  },
  {
   "cell_type": "code",
   "execution_count": 54,
   "id": "51053493",
   "metadata": {
    "vscode": {
     "languageId": "r"
    }
   },
   "outputs": [
    {
     "data": {
      "text/html": [
       "<table class=\"dataframe\">\n",
       "<caption>A tibble: 6 × 3</caption>\n",
       "<thead>\n",
       "\t<tr><th scope=col>Week</th><th scope=col>Weekly_Close</th><th scope=col>Weekly_Return</th></tr>\n",
       "\t<tr><th scope=col>&lt;date&gt;</th><th scope=col>&lt;dbl&gt;</th><th scope=col>&lt;dbl&gt;</th></tr>\n",
       "</thead>\n",
       "<tbody>\n",
       "\t<tr><td>2023-01-06</td><td>37.96</td><td> 0.07749077</td></tr>\n",
       "\t<tr><td>2023-01-13</td><td>37.55</td><td>-0.01080084</td></tr>\n",
       "\t<tr><td>2023-01-20</td><td>43.76</td><td> 0.16537949</td></tr>\n",
       "\t<tr><td>2023-01-27</td><td>44.58</td><td> 0.01873857</td></tr>\n",
       "\t<tr><td>2023-02-03</td><td>41.99</td><td>-0.05809780</td></tr>\n",
       "\t<tr><td>2023-02-10</td><td>42.57</td><td> 0.01381281</td></tr>\n",
       "</tbody>\n",
       "</table>\n"
      ],
      "text/latex": [
       "A tibble: 6 × 3\n",
       "\\begin{tabular}{lll}\n",
       " Week & Weekly\\_Close & Weekly\\_Return\\\\\n",
       " <date> & <dbl> & <dbl>\\\\\n",
       "\\hline\n",
       "\t 2023-01-06 & 37.96 &  0.07749077\\\\\n",
       "\t 2023-01-13 & 37.55 & -0.01080084\\\\\n",
       "\t 2023-01-20 & 43.76 &  0.16537949\\\\\n",
       "\t 2023-01-27 & 44.58 &  0.01873857\\\\\n",
       "\t 2023-02-03 & 41.99 & -0.05809780\\\\\n",
       "\t 2023-02-10 & 42.57 &  0.01381281\\\\\n",
       "\\end{tabular}\n"
      ],
      "text/markdown": [
       "\n",
       "A tibble: 6 × 3\n",
       "\n",
       "| Week &lt;date&gt; | Weekly_Close &lt;dbl&gt; | Weekly_Return &lt;dbl&gt; |\n",
       "|---|---|---|\n",
       "| 2023-01-06 | 37.96 |  0.07749077 |\n",
       "| 2023-01-13 | 37.55 | -0.01080084 |\n",
       "| 2023-01-20 | 43.76 |  0.16537949 |\n",
       "| 2023-01-27 | 44.58 |  0.01873857 |\n",
       "| 2023-02-03 | 41.99 | -0.05809780 |\n",
       "| 2023-02-10 | 42.57 |  0.01381281 |\n",
       "\n"
      ],
      "text/plain": [
       "  Week       Weekly_Close Weekly_Return\n",
       "1 2023-01-06 37.96         0.07749077  \n",
       "2 2023-01-13 37.55        -0.01080084  \n",
       "3 2023-01-20 43.76         0.16537949  \n",
       "4 2023-01-27 44.58         0.01873857  \n",
       "5 2023-02-03 41.99        -0.05809780  \n",
       "6 2023-02-10 42.57         0.01381281  "
      ]
     },
     "metadata": {},
     "output_type": "display_data"
    }
   ],
   "source": [
    "head(rearrange_wdc_data)"
   ]
  },
  {
   "cell_type": "code",
   "execution_count": 57,
   "id": "0c7ba431",
   "metadata": {
    "vscode": {
     "languageId": "r"
    }
   },
   "outputs": [],
   "source": [
    "merged_data <- merge(rearrange_wdc_data, fama_french_data, by.x = \"Week\", by.y = \"datadate\")  "
   ]
  },
  {
   "cell_type": "code",
   "execution_count": 59,
   "id": "695cdf80",
   "metadata": {
    "vscode": {
     "languageId": "r"
    }
   },
   "outputs": [
    {
     "data": {
      "text/html": [
       "<table class=\"dataframe\">\n",
       "<caption>A data.frame: 6 × 7</caption>\n",
       "<thead>\n",
       "\t<tr><th></th><th scope=col>Week</th><th scope=col>Weekly_Close</th><th scope=col>Weekly_Return</th><th scope=col>Mkt.RF</th><th scope=col>SMB</th><th scope=col>HML</th><th scope=col>RF</th></tr>\n",
       "\t<tr><th></th><th scope=col>&lt;date&gt;</th><th scope=col>&lt;dbl&gt;</th><th scope=col>&lt;dbl&gt;</th><th scope=col>&lt;dbl&gt;</th><th scope=col>&lt;dbl&gt;</th><th scope=col>&lt;dbl&gt;</th><th scope=col>&lt;dbl&gt;</th></tr>\n",
       "</thead>\n",
       "<tbody>\n",
       "\t<tr><th scope=row>1</th><td>2023-01-06</td><td>37.96</td><td> 0.07749077</td><td> 0.0137</td><td> 0.0027</td><td> 0.0125</td><td>9e-04</td></tr>\n",
       "\t<tr><th scope=row>2</th><td>2023-01-13</td><td>37.55</td><td>-0.01080084</td><td> 0.0302</td><td> 0.0337</td><td>-0.0324</td><td>9e-04</td></tr>\n",
       "\t<tr><th scope=row>3</th><td>2023-01-20</td><td>43.76</td><td> 0.16537949</td><td>-0.0069</td><td> 0.0012</td><td>-0.0115</td><td>9e-04</td></tr>\n",
       "\t<tr><th scope=row>4</th><td>2023-01-27</td><td>44.58</td><td> 0.01873857</td><td> 0.0257</td><td>-0.0009</td><td>-0.0122</td><td>9e-04</td></tr>\n",
       "\t<tr><th scope=row>5</th><td>2023-02-03</td><td>41.99</td><td>-0.05809780</td><td> 0.0181</td><td> 0.0354</td><td>-0.0199</td><td>9e-04</td></tr>\n",
       "\t<tr><th scope=row>6</th><td>2023-02-10</td><td>42.57</td><td> 0.01381281</td><td>-0.0149</td><td>-0.0320</td><td> 0.0266</td><td>9e-04</td></tr>\n",
       "</tbody>\n",
       "</table>\n"
      ],
      "text/latex": [
       "A data.frame: 6 × 7\n",
       "\\begin{tabular}{r|lllllll}\n",
       "  & Week & Weekly\\_Close & Weekly\\_Return & Mkt.RF & SMB & HML & RF\\\\\n",
       "  & <date> & <dbl> & <dbl> & <dbl> & <dbl> & <dbl> & <dbl>\\\\\n",
       "\\hline\n",
       "\t1 & 2023-01-06 & 37.96 &  0.07749077 &  0.0137 &  0.0027 &  0.0125 & 9e-04\\\\\n",
       "\t2 & 2023-01-13 & 37.55 & -0.01080084 &  0.0302 &  0.0337 & -0.0324 & 9e-04\\\\\n",
       "\t3 & 2023-01-20 & 43.76 &  0.16537949 & -0.0069 &  0.0012 & -0.0115 & 9e-04\\\\\n",
       "\t4 & 2023-01-27 & 44.58 &  0.01873857 &  0.0257 & -0.0009 & -0.0122 & 9e-04\\\\\n",
       "\t5 & 2023-02-03 & 41.99 & -0.05809780 &  0.0181 &  0.0354 & -0.0199 & 9e-04\\\\\n",
       "\t6 & 2023-02-10 & 42.57 &  0.01381281 & -0.0149 & -0.0320 &  0.0266 & 9e-04\\\\\n",
       "\\end{tabular}\n"
      ],
      "text/markdown": [
       "\n",
       "A data.frame: 6 × 7\n",
       "\n",
       "| <!--/--> | Week &lt;date&gt; | Weekly_Close &lt;dbl&gt; | Weekly_Return &lt;dbl&gt; | Mkt.RF &lt;dbl&gt; | SMB &lt;dbl&gt; | HML &lt;dbl&gt; | RF &lt;dbl&gt; |\n",
       "|---|---|---|---|---|---|---|---|\n",
       "| 1 | 2023-01-06 | 37.96 |  0.07749077 |  0.0137 |  0.0027 |  0.0125 | 9e-04 |\n",
       "| 2 | 2023-01-13 | 37.55 | -0.01080084 |  0.0302 |  0.0337 | -0.0324 | 9e-04 |\n",
       "| 3 | 2023-01-20 | 43.76 |  0.16537949 | -0.0069 |  0.0012 | -0.0115 | 9e-04 |\n",
       "| 4 | 2023-01-27 | 44.58 |  0.01873857 |  0.0257 | -0.0009 | -0.0122 | 9e-04 |\n",
       "| 5 | 2023-02-03 | 41.99 | -0.05809780 |  0.0181 |  0.0354 | -0.0199 | 9e-04 |\n",
       "| 6 | 2023-02-10 | 42.57 |  0.01381281 | -0.0149 | -0.0320 |  0.0266 | 9e-04 |\n",
       "\n"
      ],
      "text/plain": [
       "  Week       Weekly_Close Weekly_Return Mkt.RF  SMB     HML     RF   \n",
       "1 2023-01-06 37.96         0.07749077    0.0137  0.0027  0.0125 9e-04\n",
       "2 2023-01-13 37.55        -0.01080084    0.0302  0.0337 -0.0324 9e-04\n",
       "3 2023-01-20 43.76         0.16537949   -0.0069  0.0012 -0.0115 9e-04\n",
       "4 2023-01-27 44.58         0.01873857    0.0257 -0.0009 -0.0122 9e-04\n",
       "5 2023-02-03 41.99        -0.05809780    0.0181  0.0354 -0.0199 9e-04\n",
       "6 2023-02-10 42.57         0.01381281   -0.0149 -0.0320  0.0266 9e-04"
      ]
     },
     "metadata": {},
     "output_type": "display_data"
    }
   ],
   "source": [
    "head(merged_data)"
   ]
  },
  {
   "cell_type": "code",
   "execution_count": 60,
   "id": "aabbe3e5",
   "metadata": {
    "vscode": {
     "languageId": "r"
    }
   },
   "outputs": [],
   "source": [
    "# calculate excess returns\n",
    "merged_data <- merged_data %>%\n",
    "  mutate(Excess_Return = Weekly_Return - Mkt.RF)"
   ]
  },
  {
   "cell_type": "code",
   "execution_count": 62,
   "id": "db680d20",
   "metadata": {
    "vscode": {
     "languageId": "r"
    }
   },
   "outputs": [
    {
     "data": {
      "text/plain": [
       "\n",
       "Call:\n",
       "lm(formula = Excess_Return ~ Mkt.RF + SMB + HML, data = merged_data)\n",
       "\n",
       "Residuals:\n",
       "      Min        1Q    Median        3Q       Max \n",
       "-0.104587 -0.039349 -0.007432  0.029993  0.185447 \n",
       "\n",
       "Coefficients:\n",
       "             Estimate Std. Error t value Pr(>|t|)  \n",
       "(Intercept)  0.004220   0.005785   0.729   0.4675  \n",
       "Mkt.RF      -0.663483   0.334330  -1.985   0.0500 *\n",
       "SMB         -0.725547   0.378969  -1.915   0.0585 .\n",
       "HML          0.077289   0.337305   0.229   0.8192  \n",
       "---\n",
       "Signif. codes:  0 ‘***’ 0.001 ‘**’ 0.01 ‘*’ 0.05 ‘.’ 0.1 ‘ ’ 1\n",
       "\n",
       "Residual standard error: 0.05656 on 98 degrees of freedom\n",
       "Multiple R-squared:  0.122,\tAdjusted R-squared:  0.09517 \n",
       "F-statistic: 4.541 on 3 and 98 DF,  p-value: 0.005043\n"
      ]
     },
     "metadata": {},
     "output_type": "display_data"
    }
   ],
   "source": [
    "# use lm() to run a regression of WDC weekly returns on the three Fama-French factors\n",
    "model <- lm(Excess_Return ~ Mkt.RF + SMB + HML, data = merged_data)\n",
    "summary(model)"
   ]
  }
 ],
 "metadata": {
  "kernelspec": {
   "display_name": "R",
   "language": "R",
   "name": "ir"
  },
  "language_info": {
   "codemirror_mode": "r",
   "file_extension": ".r",
   "mimetype": "text/x-r-source",
   "name": "R",
   "pygments_lexer": "r",
   "version": "4.3.3"
  }
 },
 "nbformat": 4,
 "nbformat_minor": 5
}
