{
 "cells": [
  {
   "cell_type": "code",
   "execution_count": 12,
   "id": "f7c709e6",
   "metadata": {
    "vscode": {
     "languageId": "r"
    }
   },
   "outputs": [
    {
     "name": "stderr",
     "output_type": "stream",
     "text": [
      "\n",
      "Attaching package: ‘dplyr’\n",
      "\n",
      "\n",
      "The following objects are masked from ‘package:stats’:\n",
      "\n",
      "    filter, lag\n",
      "\n",
      "\n",
      "The following objects are masked from ‘package:base’:\n",
      "\n",
      "    intersect, setdiff, setequal, union\n",
      "\n",
      "\n",
      "\n",
      "Attaching package: ‘lubridate’\n",
      "\n",
      "\n",
      "The following objects are masked from ‘package:base’:\n",
      "\n",
      "    date, intersect, setdiff, union\n",
      "\n",
      "\n"
     ]
    }
   ],
   "source": [
    "library(dplyr)\n",
    "library(lubridate)\n",
    "library(ggplot2)\n",
    "library(dplyr)"
   ]
  },
  {
   "cell_type": "code",
   "execution_count": 13,
   "id": "fac2bba9",
   "metadata": {
    "vscode": {
     "languageId": "r"
    }
   },
   "outputs": [],
   "source": [
    "data <- read.csv(\"sp500_2023_2024.csv\")"
   ]
  },
  {
   "cell_type": "code",
   "execution_count": 14,
   "id": "a6ed4cd4",
   "metadata": {
    "vscode": {
     "languageId": "r"
    }
   },
   "outputs": [
    {
     "data": {
      "text/html": [
       "<table class=\"dataframe\">\n",
       "<caption>A data.frame: 6 × 11</caption>\n",
       "<thead>\n",
       "\t<tr><th></th><th scope=col>tic</th><th scope=col>datadate</th><th scope=col>conm</th><th scope=col>exchg</th><th scope=col>sic</th><th scope=col>cshtrd</th><th scope=col>prccd</th><th scope=col>prchd</th><th scope=col>prcld</th><th scope=col>prcod</th><th scope=col>gvkey</th></tr>\n",
       "\t<tr><th></th><th scope=col>&lt;chr&gt;</th><th scope=col>&lt;chr&gt;</th><th scope=col>&lt;chr&gt;</th><th scope=col>&lt;int&gt;</th><th scope=col>&lt;int&gt;</th><th scope=col>&lt;dbl&gt;</th><th scope=col>&lt;dbl&gt;</th><th scope=col>&lt;dbl&gt;</th><th scope=col>&lt;dbl&gt;</th><th scope=col>&lt;dbl&gt;</th><th scope=col>&lt;int&gt;</th></tr>\n",
       "</thead>\n",
       "<tbody>\n",
       "\t<tr><th scope=row>1</th><td>PNW</td><td>03/01/2023</td><td>PINNACLE WEST CAPITAL CORP</td><td>11</td><td>4911</td><td>1442534</td><td>74.63</td><td>76.4125</td><td>73.380</td><td>76.25</td><td>1075</td></tr>\n",
       "\t<tr><th scope=row>2</th><td>PNW</td><td>04/01/2023</td><td>PINNACLE WEST CAPITAL CORP</td><td>11</td><td>4911</td><td> 954218</td><td>75.39</td><td>76.0950</td><td>74.630</td><td>75.10</td><td>1075</td></tr>\n",
       "\t<tr><th scope=row>3</th><td>PNW</td><td>05/01/2023</td><td>PINNACLE WEST CAPITAL CORP</td><td>11</td><td>4911</td><td> 994775</td><td>73.65</td><td>75.0950</td><td>73.305</td><td>74.88</td><td>1075</td></tr>\n",
       "\t<tr><th scope=row>4</th><td>PNW</td><td>06/01/2023</td><td>PINNACLE WEST CAPITAL CORP</td><td>11</td><td>4911</td><td> 729808</td><td>75.46</td><td>76.0200</td><td>74.480</td><td>74.49</td><td>1075</td></tr>\n",
       "\t<tr><th scope=row>5</th><td>PNW</td><td>09/01/2023</td><td>PINNACLE WEST CAPITAL CORP</td><td>11</td><td>4911</td><td> 656127</td><td>75.55</td><td>76.4800</td><td>75.240</td><td>75.24</td><td>1075</td></tr>\n",
       "\t<tr><th scope=row>6</th><td>PNW</td><td>10/01/2023</td><td>PINNACLE WEST CAPITAL CORP</td><td>11</td><td>4911</td><td> 763254</td><td>75.65</td><td>75.6950</td><td>74.880</td><td>75.31</td><td>1075</td></tr>\n",
       "</tbody>\n",
       "</table>\n"
      ],
      "text/latex": [
       "A data.frame: 6 × 11\n",
       "\\begin{tabular}{r|lllllllllll}\n",
       "  & tic & datadate & conm & exchg & sic & cshtrd & prccd & prchd & prcld & prcod & gvkey\\\\\n",
       "  & <chr> & <chr> & <chr> & <int> & <int> & <dbl> & <dbl> & <dbl> & <dbl> & <dbl> & <int>\\\\\n",
       "\\hline\n",
       "\t1 & PNW & 03/01/2023 & PINNACLE WEST CAPITAL CORP & 11 & 4911 & 1442534 & 74.63 & 76.4125 & 73.380 & 76.25 & 1075\\\\\n",
       "\t2 & PNW & 04/01/2023 & PINNACLE WEST CAPITAL CORP & 11 & 4911 &  954218 & 75.39 & 76.0950 & 74.630 & 75.10 & 1075\\\\\n",
       "\t3 & PNW & 05/01/2023 & PINNACLE WEST CAPITAL CORP & 11 & 4911 &  994775 & 73.65 & 75.0950 & 73.305 & 74.88 & 1075\\\\\n",
       "\t4 & PNW & 06/01/2023 & PINNACLE WEST CAPITAL CORP & 11 & 4911 &  729808 & 75.46 & 76.0200 & 74.480 & 74.49 & 1075\\\\\n",
       "\t5 & PNW & 09/01/2023 & PINNACLE WEST CAPITAL CORP & 11 & 4911 &  656127 & 75.55 & 76.4800 & 75.240 & 75.24 & 1075\\\\\n",
       "\t6 & PNW & 10/01/2023 & PINNACLE WEST CAPITAL CORP & 11 & 4911 &  763254 & 75.65 & 75.6950 & 74.880 & 75.31 & 1075\\\\\n",
       "\\end{tabular}\n"
      ],
      "text/markdown": [
       "\n",
       "A data.frame: 6 × 11\n",
       "\n",
       "| <!--/--> | tic &lt;chr&gt; | datadate &lt;chr&gt; | conm &lt;chr&gt; | exchg &lt;int&gt; | sic &lt;int&gt; | cshtrd &lt;dbl&gt; | prccd &lt;dbl&gt; | prchd &lt;dbl&gt; | prcld &lt;dbl&gt; | prcod &lt;dbl&gt; | gvkey &lt;int&gt; |\n",
       "|---|---|---|---|---|---|---|---|---|---|---|---|\n",
       "| 1 | PNW | 03/01/2023 | PINNACLE WEST CAPITAL CORP | 11 | 4911 | 1442534 | 74.63 | 76.4125 | 73.380 | 76.25 | 1075 |\n",
       "| 2 | PNW | 04/01/2023 | PINNACLE WEST CAPITAL CORP | 11 | 4911 |  954218 | 75.39 | 76.0950 | 74.630 | 75.10 | 1075 |\n",
       "| 3 | PNW | 05/01/2023 | PINNACLE WEST CAPITAL CORP | 11 | 4911 |  994775 | 73.65 | 75.0950 | 73.305 | 74.88 | 1075 |\n",
       "| 4 | PNW | 06/01/2023 | PINNACLE WEST CAPITAL CORP | 11 | 4911 |  729808 | 75.46 | 76.0200 | 74.480 | 74.49 | 1075 |\n",
       "| 5 | PNW | 09/01/2023 | PINNACLE WEST CAPITAL CORP | 11 | 4911 |  656127 | 75.55 | 76.4800 | 75.240 | 75.24 | 1075 |\n",
       "| 6 | PNW | 10/01/2023 | PINNACLE WEST CAPITAL CORP | 11 | 4911 |  763254 | 75.65 | 75.6950 | 74.880 | 75.31 | 1075 |\n",
       "\n"
      ],
      "text/plain": [
       "  tic datadate   conm                       exchg sic  cshtrd  prccd prchd  \n",
       "1 PNW 03/01/2023 PINNACLE WEST CAPITAL CORP 11    4911 1442534 74.63 76.4125\n",
       "2 PNW 04/01/2023 PINNACLE WEST CAPITAL CORP 11    4911  954218 75.39 76.0950\n",
       "3 PNW 05/01/2023 PINNACLE WEST CAPITAL CORP 11    4911  994775 73.65 75.0950\n",
       "4 PNW 06/01/2023 PINNACLE WEST CAPITAL CORP 11    4911  729808 75.46 76.0200\n",
       "5 PNW 09/01/2023 PINNACLE WEST CAPITAL CORP 11    4911  656127 75.55 76.4800\n",
       "6 PNW 10/01/2023 PINNACLE WEST CAPITAL CORP 11    4911  763254 75.65 75.6950\n",
       "  prcld  prcod gvkey\n",
       "1 73.380 76.25 1075 \n",
       "2 74.630 75.10 1075 \n",
       "3 73.305 74.88 1075 \n",
       "4 74.480 74.49 1075 \n",
       "5 75.240 75.24 1075 \n",
       "6 74.880 75.31 1075 "
      ]
     },
     "metadata": {},
     "output_type": "display_data"
    }
   ],
   "source": [
    "head(data)"
   ]
  },
  {
   "cell_type": "code",
   "execution_count": 15,
   "id": "69596744",
   "metadata": {
    "vscode": {
     "languageId": "r"
    }
   },
   "outputs": [
    {
     "name": "stderr",
     "output_type": "stream",
     "text": [
      "\u001b[1m\u001b[22m`summarise()` has grouped output by 'tic'. You can override using the `.groups`\n",
      "argument.\n"
     ]
    }
   ],
   "source": [
    "# Calculate simple weekly returns for each ticker in the full dataset\n",
    "weekly_returns <- data %>%\n",
    "  mutate(datadate = as.Date(datadate, format = \"%d/%m/%Y\")) %>%\n",
    "  group_by(tic) %>%\n",
    "  arrange(datadate) %>%\n",
    "  mutate(Week = floor_date(datadate, unit = \"week\")) %>%\n",
    "  group_by(tic, Week) %>%\n",
    "  summarise(Weekly_Close = last(prccd)) %>%\n",
    "  arrange(tic, Week) %>%\n",
    "  mutate(Weekly_Return = (Weekly_Close / lag(Weekly_Close)) - 1) %>%\n",
    "  ungroup()"
   ]
  },
  {
   "cell_type": "code",
   "execution_count": 17,
   "id": "1985f1f7",
   "metadata": {
    "vscode": {
     "languageId": "r"
    }
   },
   "outputs": [],
   "source": [
    "# Categorise your data into decile groups based on simple weekly returns, labelled 0%, 10%, 20%, without removing zeroes\n",
    "quantile_result <- weekly_returns %>%\n",
    "  mutate(\n",
    "    deciles = cut(\n",
    "      Weekly_Return,\n",
    "      breaks = quantile(\n",
    "        Weekly_Return,\n",
    "        probs = c(0, 0.1, 0.2, 0.3, 0.4, 0.5, 0.6, 0.7, 0.8, 0.9, 1),\n",
    "        type = 5,\n",
    "        na.rm = TRUE\n",
    "      ),\n",
    "      include.lowest = TRUE,\n",
    "      labels = c(\"0%\", \"10%\", \"20%\", \"30%\", \"40%\", \"50%\", \"60%\", \"70%\", \"80%\", \"90%\")\n",
    "    )\n",
    "  )"
   ]
  },
  {
   "cell_type": "code",
   "execution_count": 19,
   "id": "9b333ecb",
   "metadata": {
    "vscode": {
     "languageId": "r"
    }
   },
   "outputs": [
    {
     "data": {
      "text/html": [
       "<table class=\"dataframe\">\n",
       "<caption>A tibble: 6 × 5</caption>\n",
       "<thead>\n",
       "\t<tr><th scope=col>tic</th><th scope=col>Week</th><th scope=col>Weekly_Close</th><th scope=col>Weekly_Return</th><th scope=col>deciles</th></tr>\n",
       "\t<tr><th scope=col>&lt;chr&gt;</th><th scope=col>&lt;date&gt;</th><th scope=col>&lt;dbl&gt;</th><th scope=col>&lt;dbl&gt;</th><th scope=col>&lt;fct&gt;</th></tr>\n",
       "</thead>\n",
       "<tbody>\n",
       "\t<tr><td>A</td><td>2023-01-01</td><td>147.67</td><td>          NA</td><td>NA </td></tr>\n",
       "\t<tr><td>A</td><td>2023-01-08</td><td>156.92</td><td> 0.062639670</td><td>90%</td></tr>\n",
       "\t<tr><td>A</td><td>2023-01-15</td><td>155.92</td><td>-0.006372674</td><td>30%</td></tr>\n",
       "\t<tr><td>A</td><td>2023-01-22</td><td>155.69</td><td>-0.001475115</td><td>40%</td></tr>\n",
       "\t<tr><td>A</td><td>2023-01-29</td><td>154.55</td><td>-0.007322243</td><td>30%</td></tr>\n",
       "\t<tr><td>A</td><td>2023-02-05</td><td>152.55</td><td>-0.012940796</td><td>30%</td></tr>\n",
       "</tbody>\n",
       "</table>\n"
      ],
      "text/latex": [
       "A tibble: 6 × 5\n",
       "\\begin{tabular}{lllll}\n",
       " tic & Week & Weekly\\_Close & Weekly\\_Return & deciles\\\\\n",
       " <chr> & <date> & <dbl> & <dbl> & <fct>\\\\\n",
       "\\hline\n",
       "\t A & 2023-01-01 & 147.67 &           NA & NA \\\\\n",
       "\t A & 2023-01-08 & 156.92 &  0.062639670 & 90\\%\\\\\n",
       "\t A & 2023-01-15 & 155.92 & -0.006372674 & 30\\%\\\\\n",
       "\t A & 2023-01-22 & 155.69 & -0.001475115 & 40\\%\\\\\n",
       "\t A & 2023-01-29 & 154.55 & -0.007322243 & 30\\%\\\\\n",
       "\t A & 2023-02-05 & 152.55 & -0.012940796 & 30\\%\\\\\n",
       "\\end{tabular}\n"
      ],
      "text/markdown": [
       "\n",
       "A tibble: 6 × 5\n",
       "\n",
       "| tic &lt;chr&gt; | Week &lt;date&gt; | Weekly_Close &lt;dbl&gt; | Weekly_Return &lt;dbl&gt; | deciles &lt;fct&gt; |\n",
       "|---|---|---|---|---|\n",
       "| A | 2023-01-01 | 147.67 |           NA | NA  |\n",
       "| A | 2023-01-08 | 156.92 |  0.062639670 | 90% |\n",
       "| A | 2023-01-15 | 155.92 | -0.006372674 | 30% |\n",
       "| A | 2023-01-22 | 155.69 | -0.001475115 | 40% |\n",
       "| A | 2023-01-29 | 154.55 | -0.007322243 | 30% |\n",
       "| A | 2023-02-05 | 152.55 | -0.012940796 | 30% |\n",
       "\n"
      ],
      "text/plain": [
       "  tic Week       Weekly_Close Weekly_Return deciles\n",
       "1 A   2023-01-01 147.67                 NA  NA     \n",
       "2 A   2023-01-08 156.92        0.062639670  90%    \n",
       "3 A   2023-01-15 155.92       -0.006372674  30%    \n",
       "4 A   2023-01-22 155.69       -0.001475115  40%    \n",
       "5 A   2023-01-29 154.55       -0.007322243  30%    \n",
       "6 A   2023-02-05 152.55       -0.012940796  30%    "
      ]
     },
     "metadata": {},
     "output_type": "display_data"
    }
   ],
   "source": [
    "head(quantile_result)"
   ]
  },
  {
   "cell_type": "code",
   "execution_count": 24,
   "id": "2fa0b9dd",
   "metadata": {
    "vscode": {
     "languageId": "r"
    }
   },
   "outputs": [
    {
     "name": "stdout",
     "output_type": "stream",
     "text": [
      "\u001b[90m# A tibble: 12 × 3\u001b[39m\n",
      "\u001b[90m# Groups:   deciles [10]\u001b[39m\n",
      "   deciles tic   Weekly_Return\n",
      "   \u001b[3m\u001b[90m<fct>\u001b[39m\u001b[23m   \u001b[3m\u001b[90m<chr>\u001b[39m\u001b[23m         \u001b[3m\u001b[90m<dbl>\u001b[39m\u001b[23m\n",
      "\u001b[90m 1\u001b[39m 0%      DVN        -\u001b[31m0\u001b[39m\u001b[31m.\u001b[39m\u001b[31m0\u001b[39m\u001b[31m41\u001b[4m5\u001b[24m\u001b[39m \n",
      "\u001b[90m 2\u001b[39m 10%     WBD        -\u001b[31m0\u001b[39m\u001b[31m.\u001b[39m\u001b[31m0\u001b[39m\u001b[31m24\u001b[4m8\u001b[24m\u001b[39m \n",
      "\u001b[90m 3\u001b[39m 20%     CNC        -\u001b[31m0\u001b[39m\u001b[31m.\u001b[39m\u001b[31m0\u001b[39m\u001b[31m14\u001b[4m1\u001b[24m\u001b[39m \n",
      "\u001b[90m 4\u001b[39m 20%     TRMB       -\u001b[31m0\u001b[39m\u001b[31m.\u001b[39m\u001b[31m0\u001b[39m\u001b[31m14\u001b[4m1\u001b[24m\u001b[39m \n",
      "\u001b[90m 5\u001b[39m 30%     GLW        -\u001b[31m0\u001b[39m\u001b[31m.\u001b[39m\u001b[31m00\u001b[39m\u001b[31m5\u001b[4m4\u001b[24m\u001b[4m4\u001b[24m\u001b[39m\n",
      "\u001b[90m 6\u001b[39m 30%     PPL        -\u001b[31m0\u001b[39m\u001b[31m.\u001b[39m\u001b[31m00\u001b[39m\u001b[31m5\u001b[4m4\u001b[24m\u001b[4m4\u001b[24m\u001b[39m\n",
      "\u001b[90m 7\u001b[39m 40%     AXP         0.002\u001b[4m2\u001b[24m\u001b[4m8\u001b[24m\n",
      "\u001b[90m 8\u001b[39m 50%     AZO         0.010\u001b[4m1\u001b[24m \n",
      "\u001b[90m 9\u001b[39m 60%     WDC         0.018\u001b[4m5\u001b[24m \n",
      "\u001b[90m10\u001b[39m 70%     PPG         0.029\u001b[4m2\u001b[24m \n",
      "\u001b[90m11\u001b[39m 80%     SJM         0.047\u001b[4m0\u001b[24m \n",
      "\u001b[90m12\u001b[39m 90%     SMCI        0.784  \n"
     ]
    }
   ],
   "source": [
    "# Display a table showing the top ticker (the ticker with the highest weekly return) in each decile group\n",
    "top_tickers <- quantile_result %>%\n",
    "  group_by(deciles) %>%\n",
    "  filter(Weekly_Return == max(Weekly_Return)) %>%\n",
    "  select(deciles, tic, Weekly_Return) %>%\n",
    "  arrange(deciles)\n",
    "print(top_tickers)"
   ]
  },
  {
   "cell_type": "code",
   "execution_count": 30,
   "id": "412fa3d6",
   "metadata": {
    "vscode": {
     "languageId": "r"
    }
   },
   "outputs": [
    {
     "name": "stdout",
     "output_type": "stream",
     "text": [
      "[1] \"WDC\"\n"
     ]
    }
   ],
   "source": [
    "# Select the top ticker from the 60% decile group.\n",
    "top_60_ticker <- top_tickers %>%\n",
    "  filter(deciles == \"60%\")\n",
    "print(top_60_ticker$tic)"
   ]
  },
  {
   "cell_type": "code",
   "execution_count": 35,
   "id": "763b2f12",
   "metadata": {
    "vscode": {
     "languageId": "r"
    }
   },
   "outputs": [
    {
     "data": {
      "image/png": "[encoded data removed]",
      "text/plain": [
       "Plot with title “Autocorrelation WDC Weekly Returns”"
      ]
     },
     "metadata": {
      "image/png": {
       "height": 420,
       "width": 420
      }
     },
     "output_type": "display_data"
    }
   ],
   "source": [
    "wdc_data <- weekly_returns %>%\n",
    "  filter(tic == \"WDC\") %>%\n",
    "  na.omit()\n",
    "\n",
    "# Autocorrelate, add a main title\n",
    "acf(wdc_data$Weekly_Return, main = \"Autocorrelation WDC Weekly Returns\")"
   ]
  },
  {
   "cell_type": "code",
   "execution_count": null,
   "id": "0c37eb0a",
   "metadata": {
    "vscode": {
     "languageId": "r"
    }
   },
   "outputs": [],
   "source": []
  }
 ],
 "metadata": {
  "kernelspec": {
   "display_name": "R",
   "language": "R",
   "name": "ir"
  },
  "language_info": {
   "codemirror_mode": "r",
   "file_extension": ".r",
   "mimetype": "text/x-r-source",
   "name": "R",
   "pygments_lexer": "r",
   "version": "4.3.3"
  }
 },
 "nbformat": 4,
 "nbformat_minor": 5
}
